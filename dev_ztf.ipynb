{
 "cells": [
  {
   "cell_type": "code",
   "execution_count": 1,
   "metadata": {},
   "outputs": [
    {
     "data": {
      "text/html": [
       "<script>requirejs.config({paths: { 'plotly': ['https://cdn.plot.ly/plotly-latest.min']},});if(!window.Plotly) {{require(['plotly'],function(plotly) {window.Plotly=plotly;});}}</script>"
      ],
      "text/vnd.plotly.v1+html": [
       "<script>requirejs.config({paths: { 'plotly': ['https://cdn.plot.ly/plotly-latest.min']},});if(!window.Plotly) {{require(['plotly'],function(plotly) {window.Plotly=plotly;});}}</script>"
      ]
     },
     "metadata": {},
     "output_type": "display_data"
    }
   ],
   "source": [
    "import glob\n",
    "import os\n",
    "import numpy as np\n",
    "import pandas as pd\n",
    "import sqlite3 as sql\n",
    "import matplotlib.pyplot as plt\n",
    "import matplotlib.patches as patches\n",
    "import seaborn as sns\n",
    "\n",
    "%matplotlib inline\n",
    "\n",
    "import plotly\n",
    "plotly.offline.init_notebook_mode(connected=True)\n",
    "\n",
    "import sys\n",
    "sys.path.append(\"..\")\n",
    "\n",
    "import mysql.connector as mariadb\n",
    "from astropy.time import Time\n",
    "\n",
    "from thor import clusterAndLink\n",
    "from thor import analyzeClusters\n",
    "from thor import analyzeProjections\n",
    "from thor import analyzeObservations\n",
    "from thor import calcLinkageFindable\n",
    "from thor import calcLinkageEfficiency\n",
    "from thor import propagateTestParticle\n",
    "from thor import runRangeAndShiftOnVisit\n",
    "\n",
    "from thor.plotting import plotProjectionVelocitiesFindable\n",
    "from thor.plotting import plotProjectionVelocitiesFound\n",
    "from thor.plotting import plotProjectionVelocitiesMissed\n",
    "from thor.plotting import plotOrbitsFindable\n",
    "from thor.plotting import plotOrbitsFound\n",
    "from thor.plotting import plotOrbitsMissed\n",
    "from thor.plotting import plotProjections\n",
    "from thor.plotting import plotObservations\n",
    "\n",
    "from thor import Config"
   ]
  },
  {
   "cell_type": "code",
   "execution_count": 2,
   "metadata": {},
   "outputs": [],
   "source": [
    "# Connect to database\n",
    "con = mariadb.connect(user='ztf', database='ztf')"
   ]
  },
  {
   "cell_type": "code",
   "execution_count": null,
   "metadata": {},
   "outputs": [],
   "source": [
    "# https://zwickytransientfacility.github.io/ztf-avro-alert/schema.html"
   ]
  },
  {
   "cell_type": "code",
   "execution_count": 3,
   "metadata": {},
   "outputs": [
    {
     "name": "stdout",
     "output_type": "stream",
     "text": [
      "628667\n"
     ]
    }
   ],
   "source": [
    "# Read alerts for solar system objects from after the photometry fix \n",
    "sso_alert_fix_date1 = Time('2018-05-16T23:30:00', format='isot', scale='utc') # first attribution fix\n",
    "sso_alert_fix_date2 = Time('2018-06-08T23:30:00', format='isot', scale='utc') # second attribution fix\n",
    "sso_alert_phot_fix_date = Time('2018-06-18T23:30:00', format='isot', scale='utc') # photometry fix date\n",
    "\n",
    "jd_good = sso_alert_phot_fix_date.jd\n",
    "#ssdistnr >= 0 \n",
    "df = pd.read_sql_query('select * from alerts where jd > {} and ssdistnr >= 0'.format(jd_good), con)\n",
    "print(len(df))"
   ]
  },
  {
   "cell_type": "code",
   "execution_count": 5,
   "metadata": {},
   "outputs": [
    {
     "data": {
      "text/plain": [
       "90104"
      ]
     },
     "execution_count": 5,
     "metadata": {},
     "output_type": "execute_result"
    }
   ],
   "source": [
    "df[\"ssnamenr\"].nunique()"
   ]
  },
  {
   "cell_type": "code",
   "execution_count": 7,
   "metadata": {},
   "outputs": [
    {
     "data": {
      "text/plain": [
       "437     17613\n",
       "448     15566\n",
       "436     15450\n",
       "397     14211\n",
       "612     13818\n",
       "503     12838\n",
       "498     11613\n",
       "449     11156\n",
       "502     11138\n",
       "563     10921\n",
       "500     10520\n",
       "450     10193\n",
       "398      9634\n",
       "497      9526\n",
       "504      9260\n",
       "501      8125\n",
       "659      8071\n",
       "554      7856\n",
       "395      7334\n",
       "496      7324\n",
       "499      7303\n",
       "447      7243\n",
       "611      7210\n",
       "555      6978\n",
       "451      6678\n",
       "553      6575\n",
       "399      6291\n",
       "445      6026\n",
       "345      5893\n",
       "692      5739\n",
       "        ...  \n",
       "1688        3\n",
       "757         3\n",
       "753         3\n",
       "291         3\n",
       "461         3\n",
       "751         2\n",
       "834         2\n",
       "852         2\n",
       "787         2\n",
       "1540        2\n",
       "1808        2\n",
       "756         2\n",
       "675         2\n",
       "857         2\n",
       "573         2\n",
       "1693        1\n",
       "841         1\n",
       "851         1\n",
       "822         1\n",
       "716         1\n",
       "866         1\n",
       "817         1\n",
       "767         1\n",
       "850         1\n",
       "1806        1\n",
       "818         1\n",
       "867         1\n",
       "1744        1\n",
       "1641        1\n",
       "783         1\n",
       "Name: field, Length: 499, dtype: int64"
      ]
     },
     "execution_count": 7,
     "metadata": {},
     "output_type": "execute_result"
    }
   ],
   "source": [
    "df[\"field\"].value_counts()"
   ]
  },
  {
   "cell_type": "code",
   "execution_count": null,
   "metadata": {},
   "outputs": [],
   "source": [
    "columnMapping = {        \n",
    "        \n",
    "        # Observation ID\n",
    "        \"obs_id\" : \"obs_id\",\n",
    "        \n",
    "        # Exposure time\n",
    "        \"exp_mjd\" : \"exp_mjd\",\n",
    "        \n",
    "        # Visit ID\n",
    "        \"visit_id\" : \"visit_id\",\n",
    "        \n",
    "        # Field ID\n",
    "        \"field_id\" : \"field\",\n",
    "        \n",
    "        # Field RA in degrees\n",
    "        \"field_RA_deg\" : \"fieldRA_deg\",\n",
    "        \n",
    "        # Field Dec in degrees\n",
    "        \"field_Dec_deg\" : \"fieldDec_deg\",\n",
    "        \n",
    "        # Night number\n",
    "        \"night\": \"nid\",\n",
    "        \n",
    "        # RA in degrees\n",
    "        \"RA_deg\" : \"ra\",\n",
    "        \n",
    "        # Dec in degrees\n",
    "        \"Dec_deg\" : \"decl\",\n",
    "        \n",
    "        # Observer's x coordinate in AU\n",
    "        \"obs_x_au\" : \"HEclObsy_X_au\",\n",
    "        \n",
    "        # Observer's y coordinate in AU\n",
    "        \"obs_y_au\" : \"HEclObsy_Y_au\",\n",
    "        \n",
    "        # Observer's z coordinate in AU\n",
    "        \"obs_z_au\" : \"HEclObsy_Z_au\",\n",
    "        \n",
    "        # Magnitude (UNUSED)\n",
    "        \"mag\" : \"magpsf\",\n",
    "        \n",
    "        ### Truth Parameters\n",
    "        \n",
    "        # Object name\n",
    "        \"name\" : \"ssnamenr\",\n",
    "        \n",
    "        # Observer-object distance in AU\n",
    "        \"Delta_au\" : \"Delta_au\",\n",
    "        \n",
    "        # Sun-object distance in AU (heliocentric distance)\n",
    "        \"r_au\" : \"r_au\",\n",
    "        \n",
    "        # Object's x coordinate in AU\n",
    "        \"obj_x_au\" : \"HEclObj_X_au\",\n",
    "        \n",
    "        # Object's y coordinate in AU\n",
    "        \"obj_y_au\" : \"HEclObj_Y_au\",\n",
    "        \n",
    "        # Object's z coordinate in AU\n",
    "        \"obj_z_au\" : \"HEclObj_Z_au\",\n",
    "        \n",
    "        # Object's x velocity in AU per day\n",
    "        \"obj_dx/dt_au_p_day\" : \"HEclObj_dX/dt_au_p_day\",\n",
    "        \n",
    "        # Object's y velocity in AU per day\n",
    "        \"obj_dy/dt_au_p_day\" : \"HEclObj_dY/dt_au_p_day\",\n",
    "        \n",
    "        # Object's z velocity in AU per day\n",
    "        \"obj_dz/dt_au_p_day\" : \"HEclObj_dZ/dt_au_p_day\",\n",
    "        \n",
    "        # Semi-major axis\n",
    "        \"a_au\" : \"a_au\",\n",
    "        \n",
    "        # Inclination\n",
    "        \"i_deg\" : \"i_deg\",\n",
    "        \n",
    "        # Eccentricity\n",
    "        \"e\" : \"e\",\n",
    "    }\n",
    "\n",
    "def prepareZTFAlertsForTHOR(alerts):\n",
    "    # Sort by field and exposure time\n",
    "    alerts.sort_values(by=[\"field\", \"jd\"], inplace=True)\n",
    "    \n",
    "    # Add exposure time in MJD column\n",
    "    times = Time(alerts[\"jd\"], format=\"jd\", scale=\"utc\")\n",
    "    times = times.mjd\n",
    "    alerts[\"exp_mjd\"] = times\n",
    "    \n",
    "    # Only keep columns we want\n",
    "    alerts = alerts[[\"ra\", \"decl\", \"field\", \"nid\", \"jd\", \"exp_mjd\", \"magpsf\", \"sigmapsf\", \"fid\", \"ssnamenr\"]]\n",
    "    \n",
    "    # Read footprint and get field center locations\n",
    "    footprint = pd.read_csv(\"/epyc/projects/rascals/ztf_information/field_grid/ZTF_Fields.txt\",\n",
    "                        delim_whitespace=True, \n",
    "                        skiprows=1,\n",
    "                        names=[\"field\", \"fieldRA_deg\", \"fieldDec_deg\", \"Ebv\", \"Gal Long\", \"Gal Lat\", \"Ecl Long\", \"Ecl Lat\" ,\"Entry\"])\n",
    "    footprint = footprint[[\"field\", \"fieldRA_deg\", \"fieldDec_deg\"]]\n",
    "    \n",
    "    os.environ[\"OORB_DATA\"] = \"/astro/users/moeyensj/.conda/envs/python3-moeyensj-thor/share/openorb\"\n",
    "    print(os.environ[\"OORB_DATA\"])\n",
    "\n",
    "    survey = pd.DataFrame({\"exp_mjd\": alerts[\"exp_mjd\"].unique(), \"visit_id\" : np.arange(1, len(alerts[\"exp_mjd\"].unique()) + 1)})\n",
    "    eph = propagateTestParticle([1, 1, 0, 0.0002, 0.0002, 0.000], 59580, survey[\"exp_mjd\"].values, observatoryCode=\"I41\")\n",
    "    survey = survey.merge(eph[[\"mjd\", 'HEclObsy_X_au', 'HEclObsy_Y_au', 'HEclObsy_Z_au']], left_on=\"exp_mjd\", right_on=\"mjd\")\n",
    "    \n",
    "    observations = alerts.merge(footprint, left_on=\"field\", right_on=\"field\")\n",
    "    observations = observations.merge(survey, on=\"exp_mjd\")\n",
    "\n",
    "    observations[\"obs_id\"] = np.arange(1, len(observations) + 1)\n",
    "    \n",
    "    return observations"
   ]
  },
  {
   "cell_type": "code",
   "execution_count": null,
   "metadata": {},
   "outputs": [],
   "source": [
    "os.environ[\"OORB_DATA\"] = \"/astro/users/moeyensj/.conda/envs/python3-moeyensj-thor/share/openorb\"\n",
    "print(os.environ[\"OORB_DATA\"])"
   ]
  },
  {
   "cell_type": "code",
   "execution_count": null,
   "metadata": {},
   "outputs": [],
   "source": [
    "eph = propagateTestParticle([1, 1, 0, 0.002, 0.002, 0.000], 59580, [59581])"
   ]
  },
  {
   "cell_type": "code",
   "execution_count": null,
   "metadata": {},
   "outputs": [],
   "source": [
    "eph"
   ]
  },
  {
   "cell_type": "code",
   "execution_count": null,
   "metadata": {},
   "outputs": [],
   "source": [
    "observations = prepareZTFAlertsForTHOR(df)"
   ]
  },
  {
   "cell_type": "code",
   "execution_count": null,
   "metadata": {},
   "outputs": [],
   "source": [
    "observations.to_csv(\"../analysis/ztf/observations.txt\", sep=\" \", index=False)"
   ]
  },
  {
   "cell_type": "code",
   "execution_count": null,
   "metadata": {},
   "outputs": [],
   "source": [
    "observations = pd.read_csv(\"../analysis/ztf/observations.txt\", index_col=False, sep=\" \", low_memory=False)"
   ]
  },
  {
   "cell_type": "code",
   "execution_count": null,
   "metadata": {},
   "outputs": [],
   "source": [
    "observations[[\"field\", \"visit_id\"]][\"field\"].value_counts()"
   ]
  },
  {
   "cell_type": "code",
   "execution_count": null,
   "metadata": {},
   "outputs": [],
   "source": [
    "observations[observations[\"field\"] == 766][\"visit_id\"].unique()"
   ]
  },
  {
   "cell_type": "code",
   "execution_count": null,
   "metadata": {},
   "outputs": [],
   "source": [
    "plotObservations(observations[observations[\"field\"] == 766], usePlotly=False, columnMapping=columnMapping)"
   ]
  },
  {
   "cell_type": "code",
   "execution_count": null,
   "metadata": {},
   "outputs": [],
   "source": [
    "3330, 3331, 3332, 3333, 3334, 3335, 3336, 3337, 3338, 3339, 3340,\n",
    "       3341, 3342, 3343, 3344, 3345, 3346, 3347, 3348, 3349, 3350, 3351,\n",
    "       3352, 3353, 3354, 3355, 3356, 3357, 3358, 3359, 3360, 3361, 3362,\n",
    "       3363, 3364, 3365, 3366, 3367, 3368, 3369, 3370, 3371, 3372, 3373,\n",
    "       3374, 3375, 3376, 3377, 3378, 3379, 3380, 3381, 3382, 3383, 3384,\n",
    "       3385, 3386, 3387, 3388, 3389, 3390, 3391, 3392, 3393, 3394, 3395,\n",
    "       3396, 3397, 3398, 3399, 3400, 3401, 3402, 3403, 3404, 3405, 3406,\n",
    "       3407, 3408, 3409, 3410, 3411, 3412, 3413, 3414, 3415, 3416, 3417,\n",
    "       3418, 3419, 3420, 3421, 3422"
   ]
  },
  {
   "cell_type": "code",
   "execution_count": null,
   "metadata": {},
   "outputs": [],
   "source": [
    "observations[~observations[columnMapping[\"name\"]].isna()][columnMapping[\"name\"]].nunique()"
   ]
  },
  {
   "cell_type": "code",
   "execution_count": null,
   "metadata": {},
   "outputs": [],
   "source": [
    "projected_obs = runRangeAndShiftOnVisit(observations, 3330, 2.8, [-0.006, -0.006, 0], useAverageObject=False, cellArea=100, cellShape=\"circle\", columnMapping=columnMapping, verbose=False)"
   ]
  },
  {
   "cell_type": "code",
   "execution_count": null,
   "metadata": {},
   "outputs": [],
   "source": [
    "allObjects_projection, summary_projection = analyzeProjections(projected_obs, columnMapping=columnMapping)"
   ]
  },
  {
   "cell_type": "code",
   "execution_count": null,
   "metadata": {},
   "outputs": [],
   "source": [
    "vxRange = [-0.1, 0.1]\n",
    "vyRange = [-0.1, 0.1]"
   ]
  },
  {
   "cell_type": "code",
   "execution_count": null,
   "metadata": {},
   "outputs": [],
   "source": [
    "fig, ax = plotProjectionVelocitiesFindable(allObjects_projection, vxRange=vxRange, vyRange=vyRange)\n",
    "ax.set_xlim(-0.2, 0.2)\n",
    "ax.set_ylim(-0.2, 0.2)"
   ]
  },
  {
   "cell_type": "code",
   "execution_count": null,
   "metadata": {},
   "outputs": [],
   "source": [
    "allClusters_projection, clusterMembers_projection = clusterAndLink(\n",
    "        projected_obs, \n",
    "        eps=0.005,\n",
    "        minSamples=5, \n",
    "        vxRange=vxRange,\n",
    "        vyRange=vyRange,\n",
    "        vxBins=300,\n",
    "        vyBins=300,\n",
    "        threads=10,\n",
    "        columnMapping=columnMapping)"
   ]
  },
  {
   "cell_type": "code",
   "execution_count": null,
   "metadata": {},
   "outputs": [],
   "source": [
    "allClusters_projection, clusterMembers_projection, allObjects_projection, summary_projection = analyzeClusters(\n",
    "            projected_obs,\n",
    "            allClusters_projection, \n",
    "            clusterMembers_projection,\n",
    "            allObjects_projection, \n",
    "            summary_projection,\n",
    "            minSamples=5, \n",
    "            contaminationThreshold=0.0,\n",
    "            columnMapping=columnMapping)"
   ]
  },
  {
   "cell_type": "code",
   "execution_count": null,
   "metadata": {},
   "outputs": [],
   "source": [
    "observations[\"nid\"]"
   ]
  },
  {
   "cell_type": "code",
   "execution_count": null,
   "metadata": {},
   "outputs": [],
   "source": []
  }
 ],
 "metadata": {
  "kernelspec": {
   "display_name": "Python 3 (THOR)",
   "language": "python",
   "name": "python3-moeyensj-thor"
  },
  "language_info": {
   "codemirror_mode": {
    "name": "ipython",
    "version": 3
   },
   "file_extension": ".py",
   "mimetype": "text/x-python",
   "name": "python",
   "nbconvert_exporter": "python",
   "pygments_lexer": "ipython3",
   "version": "3.6.6"
  }
 },
 "nbformat": 4,
 "nbformat_minor": 2
}
