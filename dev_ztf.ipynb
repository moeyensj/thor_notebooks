{
 "cells": [
  {
   "cell_type": "markdown",
   "metadata": {},
   "source": [
    "# Package Imports"
   ]
  },
  {
   "cell_type": "code",
   "execution_count": 1,
   "metadata": {},
   "outputs": [
    {
     "data": {
      "text/html": [
       "<script>requirejs.config({paths: { 'plotly': ['https://cdn.plot.ly/plotly-latest.min']},});if(!window.Plotly) {{require(['plotly'],function(plotly) {window.Plotly=plotly;});}}</script>"
      ],
      "text/vnd.plotly.v1+html": [
       "<script>requirejs.config({paths: { 'plotly': ['https://cdn.plot.ly/plotly-latest.min']},});if(!window.Plotly) {{require(['plotly'],function(plotly) {window.Plotly=plotly;});}}</script>"
      ]
     },
     "metadata": {},
     "output_type": "display_data"
    }
   ],
   "source": [
    "import glob\n",
    "import os\n",
    "import numpy as np\n",
    "import pandas as pd\n",
    "import sqlite3 as sql\n",
    "import matplotlib.pyplot as plt\n",
    "import matplotlib.patches as patches\n",
    "import seaborn as sns\n",
    "sns.set(font_scale=1.2, context=\"paper\", style=\"ticks\")\n",
    "sns.set_palette(\"viridis\")\n",
    "\n",
    "%matplotlib inline\n",
    "\n",
    "import plotly\n",
    "plotly.offline.init_notebook_mode(connected=True)\n",
    "\n",
    "import sys\n",
    "sys.path.append(\"..\")"
   ]
  },
  {
   "cell_type": "code",
   "execution_count": 2,
   "metadata": {},
   "outputs": [
    {
     "data": {
      "text/plain": [
       "'/epyc/opt/anaconda'"
      ]
     },
     "execution_count": 2,
     "metadata": {},
     "output_type": "execute_result"
    }
   ],
   "source": [
    "os.environ.get(\"CONDA_PREFIX\")"
   ]
  },
  {
   "cell_type": "code",
   "execution_count": 3,
   "metadata": {},
   "outputs": [
    {
     "data": {
      "text/plain": [
       "3"
      ]
     },
     "execution_count": 3,
     "metadata": {},
     "output_type": "execute_result"
    }
   ],
   "source": [
    "os.nice(3)"
   ]
  },
  {
   "cell_type": "code",
   "execution_count": 4,
   "metadata": {},
   "outputs": [],
   "source": [
    "import thor"
   ]
  },
  {
   "cell_type": "code",
   "execution_count": 2,
   "metadata": {},
   "outputs": [],
   "source": [
    "# Connect to database\n",
    "con = mariadb.connect(user='ztf', database='ztf')"
   ]
  },
  {
   "cell_type": "code",
   "execution_count": null,
   "metadata": {},
   "outputs": [],
   "source": [
    "# https://zwickytransientfacility.github.io/ztf-avro-alert/schema.html"
   ]
  },
  {
   "cell_type": "code",
   "execution_count": 3,
   "metadata": {},
   "outputs": [
    {
     "name": "stdout",
     "output_type": "stream",
     "text": [
      "628667\n"
     ]
    }
   ],
   "source": [
    "# Read alerts for solar system objects from after the photometry fix \n",
    "sso_alert_fix_date1 = Time('2018-05-16T23:30:00', format='isot', scale='utc') # first attribution fix\n",
    "sso_alert_fix_date2 = Time('2018-06-08T23:30:00', format='isot', scale='utc') # second attribution fix\n",
    "sso_alert_phot_fix_date = Time('2018-06-18T23:30:00', format='isot', scale='utc') # photometry fix date\n",
    "\n",
    "jd_good = sso_alert_phot_fix_date.jd\n",
    "#ssdistnr >= 0 \n",
    "df = pd.read_sql_query('select * from alerts where jd > {} and ssdistnr >= 0'.format(jd_good), con)\n",
    "print(len(df))"
   ]
  },
  {
   "cell_type": "code",
   "execution_count": null,
   "metadata": {},
   "outputs": [],
   "source": [
    "columnMapping = {        \n",
    "        \n",
    "        # Observation ID\n",
    "        \"obs_id\" : \"obs_id\",\n",
    "        \n",
    "        # Exposure time\n",
    "        \"exp_mjd\" : \"exp_mjd\",\n",
    "        \n",
    "        # Visit ID\n",
    "        \"visit_id\" : \"visit_id\",\n",
    "        \n",
    "        # Field ID\n",
    "        \"field_id\" : \"field\",\n",
    "        \n",
    "        # Field RA in degrees\n",
    "        \"field_RA_deg\" : \"fieldRA_deg\",\n",
    "        \n",
    "        # Field Dec in degrees\n",
    "        \"field_Dec_deg\" : \"fieldDec_deg\",\n",
    "        \n",
    "        # Night number\n",
    "        \"night\": \"nid\",\n",
    "        \n",
    "        # RA in degrees\n",
    "        \"RA_deg\" : \"ra\",\n",
    "        \n",
    "        # Dec in degrees\n",
    "        \"Dec_deg\" : \"decl\",\n",
    "        \n",
    "        # Observer's x coordinate in AU\n",
    "        \"obs_x_au\" : \"HEclObsy_X_au\",\n",
    "        \n",
    "        # Observer's y coordinate in AU\n",
    "        \"obs_y_au\" : \"HEclObsy_Y_au\",\n",
    "        \n",
    "        # Observer's z coordinate in AU\n",
    "        \"obs_z_au\" : \"HEclObsy_Z_au\",\n",
    "        \n",
    "        # Magnitude (UNUSED)\n",
    "        \"mag\" : \"magpsf\",\n",
    "        \n",
    "        ### Truth Parameters\n",
    "        \n",
    "        # Object name\n",
    "        \"name\" : \"ssnamenr\",\n",
    "        \n",
    "        # Observer-object distance in AU\n",
    "        \"Delta_au\" : \"Delta_au\",\n",
    "        \n",
    "        # Sun-object distance in AU (heliocentric distance)\n",
    "        \"r_au\" : \"r_au\",\n",
    "        \n",
    "        # Object's x coordinate in AU\n",
    "        \"obj_x_au\" : \"HEclObj_X_au\",\n",
    "        \n",
    "        # Object's y coordinate in AU\n",
    "        \"obj_y_au\" : \"HEclObj_Y_au\",\n",
    "        \n",
    "        # Object's z coordinate in AU\n",
    "        \"obj_z_au\" : \"HEclObj_Z_au\",\n",
    "        \n",
    "        # Object's x velocity in AU per day\n",
    "        \"obj_dx/dt_au_p_day\" : \"HEclObj_dX/dt_au_p_day\",\n",
    "        \n",
    "        # Object's y velocity in AU per day\n",
    "        \"obj_dy/dt_au_p_day\" : \"HEclObj_dY/dt_au_p_day\",\n",
    "        \n",
    "        # Object's z velocity in AU per day\n",
    "        \"obj_dz/dt_au_p_day\" : \"HEclObj_dZ/dt_au_p_day\",\n",
    "        \n",
    "        # Semi-major axis\n",
    "        \"a_au\" : \"a_au\",\n",
    "        \n",
    "        # Inclination\n",
    "        \"i_deg\" : \"i_deg\",\n",
    "        \n",
    "        # Eccentricity\n",
    "        \"e\" : \"e\",\n",
    "    }\n",
    "\n",
    "def prepareZTFAlertsForTHOR(alerts):\n",
    "    # Sort by field and exposure time\n",
    "    alerts.sort_values(by=[\"field\", \"jd\"], inplace=True)\n",
    "    \n",
    "    # Add exposure time in MJD column\n",
    "    times = Time(alerts[\"jd\"], format=\"jd\", scale=\"utc\")\n",
    "    times = times.mjd\n",
    "    alerts[\"exp_mjd\"] = times\n",
    "    \n",
    "    # Only keep columns we want\n",
    "    alerts = alerts[[\"ra\", \"decl\", \"field\", \"nid\", \"jd\", \"exp_mjd\", \"magpsf\", \"sigmapsf\", \"fid\", \"ssnamenr\"]]\n",
    "    \n",
    "    # Read footprint and get field center locations\n",
    "    footprint = pd.read_csv(\"/epyc/projects/rascals/ztf_information/field_grid/ZTF_Fields.txt\",\n",
    "                        delim_whitespace=True, \n",
    "                        skiprows=1,\n",
    "                        names=[\"field\", \"fieldRA_deg\", \"fieldDec_deg\", \"Ebv\", \"Gal Long\", \"Gal Lat\", \"Ecl Long\", \"Ecl Lat\" ,\"Entry\"])\n",
    "    footprint = footprint[[\"field\", \"fieldRA_deg\", \"fieldDec_deg\"]]\n",
    "    \n",
    "    os.environ[\"OORB_DATA\"] = \"/astro/users/moeyensj/.conda/envs/python3-moeyensj-thor/share/openorb\"\n",
    "    print(os.environ[\"OORB_DATA\"])\n",
    "\n",
    "    survey = pd.DataFrame({\"exp_mjd\": alerts[\"exp_mjd\"].unique(), \"visit_id\" : np.arange(1, len(alerts[\"exp_mjd\"].unique()) + 1)})\n",
    "    eph = propagateTestParticle([1, 1, 0, 0.0002, 0.0002, 0.000], 59580, survey[\"exp_mjd\"].values, observatoryCode=\"I41\")\n",
    "    survey = survey.merge(eph[[\"mjd\", 'HEclObsy_X_au', 'HEclObsy_Y_au', 'HEclObsy_Z_au']], left_on=\"exp_mjd\", right_on=\"mjd\")\n",
    "    \n",
    "    observations = alerts.merge(footprint, left_on=\"field\", right_on=\"field\")\n",
    "    observations = observations.merge(survey, on=\"exp_mjd\")\n",
    "\n",
    "    observations[\"obs_id\"] = np.arange(1, len(observations) + 1)\n",
    "    \n",
    "    return observations"
   ]
  },
  {
   "cell_type": "code",
   "execution_count": null,
   "metadata": {},
   "outputs": [],
   "source": [
    "observations = prepareZTFAlertsForTHOR(df)"
   ]
  },
  {
   "cell_type": "code",
   "execution_count": null,
   "metadata": {},
   "outputs": [],
   "source": [
    "observations.to_csv(\"../analysis/ztf/observations.txt\", sep=\" \", index=False)"
   ]
  },
  {
   "cell_type": "markdown",
   "metadata": {},
   "source": [
    "# Load Data"
   ]
  },
  {
   "cell_type": "code",
   "execution_count": null,
   "metadata": {},
   "outputs": [],
   "source": [
    "observations = pd.read_csv(\"../analysis/ztf/observations.txt\", index_col=False, sep=\" \", low_memory=False)"
   ]
  },
  {
   "cell_type": "code",
   "execution_count": 15,
   "metadata": {},
   "outputs": [
    {
     "name": "stdout",
     "output_type": "stream",
     "text": [
      "THOR: findAverageObject\n",
      "-------------------------\n",
      "Finding average orbit in 3 heliocentric distance bins...\n",
      "Done.\n",
      "-------------------------\n",
      "\n"
     ]
    }
   ],
   "source": [
    "average_orbits = thor.findAverageOrbits(observations[(observations[\"night\"] == 59740)], rValues=[0.0, 2.5, 5.0, 10.0])"
   ]
  },
  {
   "cell_type": "code",
   "execution_count": 16,
   "metadata": {},
   "outputs": [
    {
     "data": {
      "text/html": [
       "<div>\n",
       "<style scoped>\n",
       "    .dataframe tbody tr th:only-of-type {\n",
       "        vertical-align: middle;\n",
       "    }\n",
       "\n",
       "    .dataframe tbody tr th {\n",
       "        vertical-align: top;\n",
       "    }\n",
       "\n",
       "    .dataframe thead th {\n",
       "        text-align: right;\n",
       "    }\n",
       "</style>\n",
       "<table border=\"1\" class=\"dataframe\">\n",
       "  <thead>\n",
       "    <tr style=\"text-align: right;\">\n",
       "      <th></th>\n",
       "      <th>orbit_id</th>\n",
       "      <th>r_au</th>\n",
       "      <th>HEclObj_dX/dt_au_p_day</th>\n",
       "      <th>HEclObj_dY/dt_au_p_day</th>\n",
       "      <th>HEclObj_dZ/dt_au_p_day</th>\n",
       "      <th>exp_mjd</th>\n",
       "      <th>RA_deg</th>\n",
       "      <th>Dec_deg</th>\n",
       "      <th>designation</th>\n",
       "    </tr>\n",
       "  </thead>\n",
       "  <tbody>\n",
       "    <tr>\n",
       "      <th>0</th>\n",
       "      <td>1</td>\n",
       "      <td>2.314816</td>\n",
       "      <td>0.004529</td>\n",
       "      <td>-0.010996</td>\n",
       "      <td>-0.000038</td>\n",
       "      <td>59740.246528</td>\n",
       "      <td>176.340608</td>\n",
       "      <td>5.265090</td>\n",
       "      <td>K14J09X</td>\n",
       "    </tr>\n",
       "    <tr>\n",
       "      <th>1</th>\n",
       "      <td>2</td>\n",
       "      <td>2.759569</td>\n",
       "      <td>0.002326</td>\n",
       "      <td>-0.009072</td>\n",
       "      <td>-0.000009</td>\n",
       "      <td>59740.247222</td>\n",
       "      <td>175.959376</td>\n",
       "      <td>-0.407342</td>\n",
       "      <td>b3451</td>\n",
       "    </tr>\n",
       "    <tr>\n",
       "      <th>2</th>\n",
       "      <td>3</td>\n",
       "      <td>5.143260</td>\n",
       "      <td>0.000385</td>\n",
       "      <td>-0.006312</td>\n",
       "      <td>0.000082</td>\n",
       "      <td>59740.219444</td>\n",
       "      <td>168.999899</td>\n",
       "      <td>0.675941</td>\n",
       "      <td>m8613</td>\n",
       "    </tr>\n",
       "  </tbody>\n",
       "</table>\n",
       "</div>"
      ],
      "text/plain": [
       "   orbit_id      r_au  HEclObj_dX/dt_au_p_day  HEclObj_dY/dt_au_p_day  \\\n",
       "0         1  2.314816                0.004529               -0.010996   \n",
       "1         2  2.759569                0.002326               -0.009072   \n",
       "2         3  5.143260                0.000385               -0.006312   \n",
       "\n",
       "   HEclObj_dZ/dt_au_p_day       exp_mjd      RA_deg   Dec_deg designation  \n",
       "0               -0.000038  59740.246528  176.340608  5.265090     K14J09X  \n",
       "1               -0.000009  59740.247222  175.959376 -0.407342       b3451  \n",
       "2                0.000082  59740.219444  168.999899  0.675941       m8613  "
      ]
     },
     "execution_count": 16,
     "metadata": {},
     "output_type": "execute_result"
    }
   ],
   "source": [
    "average_orbits"
   ]
  },
  {
   "cell_type": "code",
   "execution_count": null,
   "metadata": {
    "scrolled": false
   },
   "outputs": [
    {
     "name": "stdout",
     "output_type": "stream",
     "text": [
      "THOR: runTHOR\n",
      "-------------------------\n",
      "Running THOR with 3 orbits...\n",
      "\n",
      "THOR: analyzeObservations\n",
      "-------------------------\n",
      "Analyzing observations...\n",
      "Known object observations: 160724\n",
      "Unknown object observations: 0\n",
      "False positive observations: 127468\n",
      "Percent known object observations (%): 55.770\n",
      "Percent unknown object observations (%): 0.000\n",
      "Percent false positive observations (%): 44.230\n",
      "Unique known objects: 25628\n",
      "Unique known objects with at least 5 detections: 19234\n",
      "\n",
      "Total time in seconds: 0.7677481174468994\n",
      "-------------------------\n",
      "\n",
      "THOR: runTHOR\n",
      "-------------------------\n",
      "Running orbit 1...\n",
      "\n",
      "THOR: analyzeProjections\n",
      "-------------------------\n",
      "Analyzing projections...\n",
      "Known object observations: 75645\n",
      "Unknown object observations: 0\n",
      "False positive observations: 56723\n",
      "Percent known object observations (%): 57.147\n",
      "Percent unknown object observations (%): 0.000\n",
      "Percent false positive observations (%): 42.853\n",
      "Unique known objects: 12105\n",
      "Unique known objects with at least 5 detections: 9741\n",
      "\n",
      "Total time in seconds: 411.3495419025421\n",
      "-------------------------\n",
      "\n",
      "THOR: clusterAndLink\n",
      "-------------------------\n",
      "Running velocity space clustering...\n",
      "X velocity range: [-0.1, 0.1]\n",
      "X velocity bins: 300\n",
      "Y velocity range: [-0.1, 0.1]\n",
      "Y velocity bins: 300\n",
      "User defined x velocity values: False\n",
      "User defined y velocity values: False\n",
      "Velocity grid size: 90000\n",
      "Max sample distance: 0.005\n",
      "Minimum samples: 5\n",
      "Using 20 threads...\n"
     ]
    }
   ],
   "source": [
    "allObjects_survey, summary_survey, summary_orbits = thor.runTHOR(observations, \n",
    "                                                                average_orbits, \n",
    "                                                                knownOrbits=orbits,\n",
    "                                                                runDir=\"../analysis/msst_4x4/run_1/\", \n",
    "                                                                cellArea=100,\n",
    "                                                                cellShape=\"circle\",\n",
    "                                                                threads=20,\n",
    "                                                                vxBins=300,\n",
    "                                                                vyBins=300,\n",
    "                                                                eps=0.005,\n",
    "                                                                minSamples=5)"
   ]
  },
  {
   "cell_type": "code",
   "execution_count": null,
   "metadata": {},
   "outputs": [],
   "source": []
  }
 ],
 "metadata": {
  "kernelspec": {
   "display_name": "Python 3 (THOR)",
   "language": "python",
   "name": "python3-moeyensj-thor"
  },
  "language_info": {
   "codemirror_mode": {
    "name": "ipython",
    "version": 3
   },
   "file_extension": ".py",
   "mimetype": "text/x-python",
   "name": "python",
   "nbconvert_exporter": "python",
   "pygments_lexer": "ipython3",
   "version": "3.6.6"
  }
 },
 "nbformat": 4,
 "nbformat_minor": 2
}
