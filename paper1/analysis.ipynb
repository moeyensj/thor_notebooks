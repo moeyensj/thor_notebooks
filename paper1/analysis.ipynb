{
 "cells": [
  {
   "cell_type": "code",
   "execution_count": 1,
   "metadata": {},
   "outputs": [
    {
     "data": {
      "text/html": [
       "<script type=\"text/javascript\">window.PlotlyConfig = {MathJaxConfig: 'local'};</script><script type=\"text/javascript\">if (window.MathJax) {MathJax.Hub.Config({SVG: {font: \"STIX-Web\"}});}</script><script>requirejs.config({paths: { 'plotly': ['https://cdn.plot.ly/plotly-latest.min']},});if(!window._Plotly) {require(['plotly'],function(plotly) {window._Plotly=plotly;});}</script>"
      ],
      "text/vnd.plotly.v1+html": [
       "<script type=\"text/javascript\">window.PlotlyConfig = {MathJaxConfig: 'local'};</script><script type=\"text/javascript\">if (window.MathJax) {MathJax.Hub.Config({SVG: {font: \"STIX-Web\"}});}</script><script>requirejs.config({paths: { 'plotly': ['https://cdn.plot.ly/plotly-latest.min']},});if(!window._Plotly) {require(['plotly'],function(plotly) {window._Plotly=plotly;});}</script>"
      ]
     },
     "metadata": {},
     "output_type": "display_data"
    }
   ],
   "source": [
    "import glob\n",
    "import os\n",
    "import numpy as np\n",
    "import pandas as pd\n",
    "import sqlite3 as sql\n",
    "import matplotlib\n",
    "import matplotlib.pyplot as plt\n",
    "import matplotlib.patches as patches\n",
    "import matplotlib.colors as colors\n",
    "import seaborn as sns\n",
    "sns.set(font_scale=1.2, context=\"paper\", style=\"ticks\")\n",
    "sns.set_palette(\"viridis\")\n",
    "\n",
    "import mysql.connector as mariadb\n",
    "from astropy.time import Time\n",
    "\n",
    "from scipy.stats import binned_statistic_2d\n",
    "\n",
    "%matplotlib inline\n",
    "\n",
    "import plotly\n",
    "plotly.offline.init_notebook_mode(connected=True)\n",
    "\n",
    "import sys\n",
    "sys.path.append(\"../..\")"
   ]
  },
  {
   "cell_type": "code",
   "execution_count": 2,
   "metadata": {},
   "outputs": [],
   "source": [
    "import thor"
   ]
  },
  {
   "cell_type": "markdown",
   "metadata": {},
   "source": [
    "### Simulations"
   ]
  },
  {
   "cell_type": "code",
   "execution_count": 3,
   "metadata": {},
   "outputs": [],
   "source": [
    "RUN_DIR = \"../../analysis/msst_4x4/run_14/\"\n",
    "DATABASE = \"/epyc/projects/thor/data/msst_survey.db\"\n",
    "con = sql.connect(DATABASE)"
   ]
  },
  {
   "cell_type": "code",
   "execution_count": 4,
   "metadata": {},
   "outputs": [],
   "source": [
    "allObjects_survey = pd.read_csv(os.path.join(RUN_DIR, \"allObjects_survey.txt\"), sep=\" \", index_col=False)\n",
    "summary_survey = pd.read_csv(os.path.join(RUN_DIR, \"summary_survey.txt\"), sep=\" \", index_col=False)\n",
    "summary_orbits = pd.read_csv(os.path.join(RUN_DIR, \"summary_orbits.txt\"), sep=\" \", index_col=False)\n",
    "test_orbits_survey = pd.read_csv(os.path.join(RUN_DIR, \"orbits.txt\"), sep=\" \", index_col=False)\n",
    "\n",
    "known_orbits = pd.read_sql(\"SELECT * FROM mpcOrbitCat\", con)\n",
    "known_orbits = known_orbits[known_orbits[\"designation\"].isin(allObjects_survey[\"designation\"].values)]"
   ]
  },
  {
   "cell_type": "code",
   "execution_count": 5,
   "metadata": {},
   "outputs": [],
   "source": [
    "findable = allObjects_survey[allObjects_survey[\"findable\"] == 1][\"designation\"].values\n",
    "found = allObjects_survey[allObjects_survey[\"found\"] == 1][\"designation\"].values\n",
    "missed = allObjects_survey[(allObjects_survey[\"found\"] == 0) & (allObjects_survey[\"findable\"] == 1) ][\"designation\"].values\n",
    "test_orbits = test_orbits_survey[\"designation\"].values\n",
    "\n",
    "falsePositiveIDs = [\"NS\"]\n",
    "unknownIDs = []"
   ]
  },
  {
   "cell_type": "code",
   "execution_count": 6,
   "metadata": {},
   "outputs": [],
   "source": [
    "def printRunStats(allObjects, orbits):\n",
    "    completeness = len(allObjects[allObjects[\"found\"] == 1]) / len(allObjects[allObjects[\"findable\"] == 1])\n",
    "    print(\"Completeness: {:.2f}\".format(completeness * 100.0))\n",
    "    print(\"Number of objects findable: {}\".format(len(allObjects[allObjects[\"findable\"] == 1])))\n",
    "    print(\"Number of objects found: {}\".format(len(allObjects[allObjects[\"found\"] == 1])))\n",
    "    print(\"Number of objects missed: {}\".format(len(allObjects[(allObjects[\"found\"] == 0) & (allObjects[\"findable\"] == 1)])))\n",
    "    print(\"Number of test orbits: {}\".format(len(orbits)))\n",
    "    \n",
    "def printClusterStats(allClusters, falsePositiveIDs=[\"NS\"], unknownIDs=[]):\n",
    "    # Don't want linkages with NaN linked ID, or linked false positive IDs or unknownIDs\n",
    "    good_linkages = allClusters[(~allClusters[\"linked_object\"].isna()) & (~allClusters[\"linked_object\"].isin(falsePositiveIDs + unknownIDs))]\n",
    "    \n",
    "    print(\"Total clusters: {}\".format(len(allClusters)))\n",
    "    print(\"Total pure clusters: {}\".format(len(good_linkages[good_linkages[\"pure\"] == 1])))\n",
    "    print(\"Total partial clusters: {}\".format(len(good_linkages[good_linkages[\"partial\"] == 1])))\n",
    "    print(\"Total pure + partial clusters: {}\".format(len(good_linkages)))\n",
    "    print(\"Total false clusters: {}\".format(len(allClusters) - len(good_linkages)))\n",
    "    print(\"Cluster Contamination [%]: {:.2f}\".format((1 - len(good_linkages)/len(allClusters)) * 100.0))\n",
    "    print(\"Total duplicate visit clusters: {}\".format(len(allClusters[allClusters[\"num_dupes\"] != 0])))"
   ]
  },
  {
   "cell_type": "code",
   "execution_count": 7,
   "metadata": {},
   "outputs": [
    {
     "name": "stdout",
     "output_type": "stream",
     "text": [
      "Completeness: 94.19\n",
      "Number of objects findable: 18332\n",
      "Number of objects found: 17267\n",
      "Number of objects missed: 1065\n",
      "Number of test orbits: 8\n"
     ]
    }
   ],
   "source": [
    "printRunStats(allObjects_survey, test_orbits)"
   ]
  },
  {
   "cell_type": "code",
   "execution_count": 8,
   "metadata": {},
   "outputs": [],
   "source": [
    "allClusters_projection = []\n",
    "allObjects_projection = []\n",
    "for i in range(8):\n",
    "    allClusters_projection.append(pd.read_csv(os.path.join(RUN_DIR, \"orbit_{:04d}/allClusters.txt\".format(i + 1)), sep=\" \", index_col=False))\n",
    "    allObjects_projection.append(pd.read_csv(os.path.join(RUN_DIR, \"orbit_{:04d}/allObjects.txt\".format(i + 1)), sep=\" \", index_col=False))\n",
    "    \n",
    "allClusters_projection = pd.concat(allClusters_projection)\n",
    "allObjects_projection = pd.concat(allObjects_projection)\n",
    "\n",
    "allClusters_projection[\"num_dupes\"] = allClusters_projection[\"num_obs\"] - allClusters_projection[\"num_visits\"] "
   ]
  },
  {
   "cell_type": "code",
   "execution_count": 9,
   "metadata": {},
   "outputs": [
    {
     "name": "stdout",
     "output_type": "stream",
     "text": [
      "Total clusters: 234106\n",
      "Total pure clusters: 46545\n",
      "Total partial clusters: 12874\n",
      "Total pure + partial clusters: 59419\n",
      "Total false clusters: 174687\n",
      "Cluster Contamination [%]: 74.62\n",
      "Total duplicate visit clusters: 154312\n"
     ]
    }
   ],
   "source": [
    "printClusterStats(allClusters_projection, falsePositiveIDs=falsePositiveIDs, unknownIDs=unknownIDs)"
   ]
  },
  {
   "cell_type": "code",
   "execution_count": 10,
   "metadata": {},
   "outputs": [
    {
     "name": "stdout",
     "output_type": "stream",
     "text": [
      "Total clusters: 79794\n",
      "Total pure clusters: 46545\n",
      "Total partial clusters: 2457\n",
      "Total pure + partial clusters: 49002\n",
      "Total false clusters: 30792\n",
      "Cluster Contamination [%]: 38.59\n",
      "Total duplicate visit clusters: 0\n"
     ]
    }
   ],
   "source": [
    "printClusterStats(allClusters_projection[allClusters_projection[\"num_dupes\"] == 0], falsePositiveIDs=falsePositiveIDs, unknownIDs=unknownIDs)"
   ]
  },
  {
   "cell_type": "code",
   "execution_count": 11,
   "metadata": {},
   "outputs": [
    {
     "name": "stdout",
     "output_type": "stream",
     "text": [
      "Total clusters: 175683\n",
      "Total pure clusters: 46545\n",
      "Total partial clusters: 12874\n",
      "Total pure + partial clusters: 59419\n",
      "Total false clusters: 116264\n",
      "Cluster Contamination [%]: 66.18\n",
      "Total duplicate visit clusters: 95889\n"
     ]
    }
   ],
   "source": [
    "printClusterStats(allClusters_projection[allClusters_projection[\"num_dupes\"].isin([0, 1])], falsePositiveIDs=falsePositiveIDs, unknownIDs=unknownIDs)"
   ]
  },
  {
   "cell_type": "code",
   "execution_count": 37,
   "metadata": {},
   "outputs": [
    {
     "name": "stdout",
     "output_type": "stream",
     "text": [
      "Completness between 1.7 and 2.06 AU: 65.10 %, 125\n",
      "Completness between 2.06 and 2.5 AU: 88.69 %, 6158\n",
      "Completness between 2.5 and 2.82 AU: 98.94 %, 6348\n",
      "Completness between 2.82 and 2.95 AU: 99.65 %, 855\n",
      "Completness between 2.95 and 3.27 AU: 99.59 %, 3437\n",
      "Completness between 3.27 and 5.0 AU: 99.44 %, 353\n"
     ]
    }
   ],
   "source": [
    "sma_bins = [1.7, 2.06, 2.5, 2.82, 2.95, 3.27, 5.0]\n",
    "\n",
    "for a_min, a_max in zip(sma_bins[:-1], sma_bins[1:]):\n",
    "    found_in_bin = len(known_orbits[(known_orbits[\"a_au\"] >= a_min) & (known_orbits[\"a_au\"] < a_max) & known_orbits[\"designation\"].isin(found)]) \n",
    "    findable_in_bin = len(known_orbits[(known_orbits[\"a_au\"] >= a_min) & (known_orbits[\"a_au\"] < a_max) & known_orbits[\"designation\"].isin(findable)])\n",
    "    print(\"Completness between {} and {} AU: {:.2f} %, {}\".format(a_min, a_max, found_in_bin / findable_in_bin * 100.0, found_in_bin))"
   ]
  },
  {
   "cell_type": "markdown",
   "metadata": {},
   "source": [
    "### ZTF "
   ]
  },
  {
   "cell_type": "code",
   "execution_count": null,
   "metadata": {},
   "outputs": [],
   "source": [
    "columnMapping = {        \n",
    "        \n",
    "        # Observation ID\n",
    "        \"obs_id\" : \"obs_id\",\n",
    "        \n",
    "        # Exposure time\n",
    "        \"exp_mjd\" : \"exp_mjd\",\n",
    "        \n",
    "        # Visit ID\n",
    "        \"visit_id\" : \"visit_id\",\n",
    "        \n",
    "        # Field ID\n",
    "        \"field_id\" : \"field\",\n",
    "        \n",
    "        # Field RA in degrees\n",
    "        \"field_RA_deg\" : \"fieldRA_deg\",\n",
    "        \n",
    "        # Field Dec in degrees\n",
    "        \"field_Dec_deg\" : \"fieldDec_deg\",\n",
    "        \n",
    "        # Night number\n",
    "        \"night\": \"nid\",\n",
    "        \n",
    "        # RA in degrees\n",
    "        \"RA_deg\" : \"ra\",\n",
    "        \n",
    "        # Dec in degrees\n",
    "        \"Dec_deg\" : \"decl\",\n",
    "        \n",
    "        # Observer's x coordinate in AU\n",
    "        \"obs_x_au\" : \"HEclObsy_X_au\",\n",
    "        \n",
    "        # Observer's y coordinate in AU\n",
    "        \"obs_y_au\" : \"HEclObsy_Y_au\",\n",
    "        \n",
    "        # Observer's z coordinate in AU\n",
    "        \"obs_z_au\" : \"HEclObsy_Z_au\",\n",
    "        \n",
    "        # Magnitude (UNUSED)\n",
    "        \"mag\" : \"magpsf\",\n",
    "        \n",
    "        ### Truth Parameters\n",
    "        \n",
    "        # Object name\n",
    "        \"name\" : \"designation\",\n",
    "        \n",
    "        # Observer-object distance in AU\n",
    "        \"Delta_au\" : \"Delta_au\",\n",
    "        \n",
    "        # Sun-object distance in AU (heliocentric distance)\n",
    "        \"r_au\" : \"r_au\",\n",
    "        \n",
    "        # Object's x coordinate in AU\n",
    "        \"obj_x_au\" : \"HEclObj_X_au\",\n",
    "        \n",
    "        # Object's y coordinate in AU\n",
    "        \"obj_y_au\" : \"HEclObj_Y_au\",\n",
    "        \n",
    "        # Object's z coordinate in AU\n",
    "        \"obj_z_au\" : \"HEclObj_Z_au\",\n",
    "        \n",
    "        # Object's x velocity in AU per day\n",
    "        \"obj_dx/dt_au_p_day\" : \"HEclObj_dX/dt_au_p_day\",\n",
    "        \n",
    "        # Object's y velocity in AU per day\n",
    "        \"obj_dy/dt_au_p_day\" : \"HEclObj_dY/dt_au_p_day\",\n",
    "        \n",
    "        # Object's z velocity in AU per day\n",
    "        \"obj_dz/dt_au_p_day\" : \"HEclObj_dZ/dt_au_p_day\",\n",
    "        \n",
    "        # Semi-major axis\n",
    "        \"a_au\" : \"a_au\",\n",
    "        \n",
    "        # Inclination\n",
    "        \"i_deg\" : \"i_deg\",\n",
    "        \n",
    "        # Eccentricity\n",
    "        \"e\" : \"e\",\n",
    "    }"
   ]
  },
  {
   "cell_type": "code",
   "execution_count": null,
   "metadata": {},
   "outputs": [],
   "source": [
    "RUN_DIR = \"../../analysis/ztf/run_10/\""
   ]
  },
  {
   "cell_type": "code",
   "execution_count": null,
   "metadata": {},
   "outputs": [],
   "source": [
    "allObjects_survey = pd.read_csv(os.path.join(RUN_DIR, \"allObjects_survey.txt\"), sep=\" \", index_col=False)\n",
    "summary_survey = pd.read_csv(os.path.join(RUN_DIR, \"summary_survey.txt\"), sep=\" \", index_col=False)\n",
    "summary_orbits = pd.read_csv(os.path.join(RUN_DIR, \"summary_orbits.txt\"), sep=\" \", index_col=False)\n",
    "test_orbits_survey = pd.read_csv(os.path.join(RUN_DIR, \"orbits.txt\"), sep=\" \", index_col=False)\n",
    "\n",
    "known_orbits = pd.read_sql(\"SELECT * FROM mpcOrbitCat\", con)\n",
    "known_orbits = known_orbits[known_orbits[\"designation\"].isin(allObjects_survey[\"designation\"].values)]"
   ]
  },
  {
   "cell_type": "code",
   "execution_count": null,
   "metadata": {},
   "outputs": [],
   "source": [
    "findable = allObjects_survey[allObjects_survey[\"findable\"] == 1][\"designation\"].values\n",
    "found = allObjects_survey[allObjects_survey[\"found\"] == 1][\"designation\"].values\n",
    "missed = allObjects_survey[(allObjects_survey[\"found\"] == 0) & (allObjects_survey[\"findable\"] == 1) ][\"designation\"].values\n",
    "test_orbits = test_orbits_survey[\"designation\"].values\n",
    "\n",
    "falsePositiveIDs = []\n",
    "unknownIDs = [-1, \"-1\"]"
   ]
  },
  {
   "cell_type": "code",
   "execution_count": null,
   "metadata": {},
   "outputs": [],
   "source": [
    "simulated_ephemeris = pd.read_csv(\"../../analysis/ztf/known_object_observations_nid_610_624.eph\", sep=\" \", index_col=False, low_memory=False)\n",
    "known_orbits = pd.read_csv(\"../../analysis/ztf/known_object_observations_nid_610_624.orb\", sep=\" \", index_col=False, low_memory=False)\n",
    "\n",
    "#observations = pd.read_csv(\"../analysis/ztf/known_object_observations_nid_610_624.txt\", sep=\" \", index_col=False, low_memory=False)\n",
    "observations = pd.read_csv(\"../../analysis/ztf/observations_nid_610_624.txt\", sep=\" \", index_col=False, low_memory=False)\n",
    "\n",
    "observations.sort_values(by=\"mjd\", inplace=True)\n",
    "#observations.drop(index=observations[observations[\"designation\"].isna()].index, inplace=True)\n",
    "observations.loc[observations[\"designation\"].isna(), \"designation\"] = -1"
   ]
  },
  {
   "cell_type": "code",
   "execution_count": null,
   "metadata": {},
   "outputs": [],
   "source": [
    "def calcFindableMOPS(observations, trackletMinObs=2, trackMinNights=3, falsePositiveIDs=[-1], unknownIDs=[]):\n",
    "    # Groupby night, then count number of occurences per night\n",
    "    night_designation_count = observations[~observations[\"designation\"].isin(falsePositiveIDs + unknownIDs)].groupby([\"nid\"])[\"designation\"].value_counts()\n",
    "    night_designation_count = pd.DataFrame(night_designation_count)\n",
    "    night_designation_count.rename(columns={\"designation\": \"num_obs\"}, inplace=True)\n",
    "    night_designation_count.reset_index(inplace=True)\n",
    "\n",
    "    # Remove nightly detections that would not be linked into a tracklet\n",
    "    night_designation_count = night_designation_count[night_designation_count[\"num_obs\"] >= trackletMinObs]\n",
    "\n",
    "    # Groupby object then count number of nights\n",
    "    try: \n",
    "        designation_night_count = pd.DataFrame(night_designation_count.groupby([\"designation\"])[\"nid\"].value_counts())\n",
    "    except:\n",
    "        # No objects satisfy the requirements, return empty array\n",
    "        return np.array([])\n",
    "    designation_night_count.rename(columns={\"nid\": \"num_nights\"}, inplace=True)\n",
    "    designation_night_count.reset_index(inplace=True)\n",
    "\n",
    "    # Grab objects that meet the night requirement\n",
    "    tracklet_nights_possible = designation_night_count[\"designation\"].value_counts()\n",
    "    return tracklet_nights_possible.index[tracklet_nights_possible >= trackMinNights].values"
   ]
  },
  {
   "cell_type": "code",
   "execution_count": null,
   "metadata": {},
   "outputs": [],
   "source": []
  },
  {
   "cell_type": "code",
   "execution_count": null,
   "metadata": {},
   "outputs": [],
   "source": [
    "findableMOPS = calcFindableMOPS(observations)"
   ]
  },
  {
   "cell_type": "code",
   "execution_count": null,
   "metadata": {},
   "outputs": [],
   "source": [
    "allObjects_survey[allObjects_survey[\"designation\"].isin(findableMOPS)][\"found\"].sum() / len(findableMOPS)"
   ]
  },
  {
   "cell_type": "code",
   "execution_count": null,
   "metadata": {},
   "outputs": [],
   "source": [
    "len(findableMOPS) / 21401"
   ]
  },
  {
   "cell_type": "code",
   "execution_count": null,
   "metadata": {},
   "outputs": [],
   "source": [
    "def calcDiscoverableZMODE(observations, \n",
    "                          minTracklets=2, \n",
    "                          trackletMinObs=2,\n",
    "                          minObsPerTrack=4,\n",
    "                          maxTrackNightSpan=4, \n",
    "                          falsePositiveIDs=[-1],\n",
    "                          unknownIDs=[]):\n",
    "\n",
    "    # Count number of observations per object\n",
    "    obs_per_obj = observations[\"designation\"].value_counts()\n",
    "    possibly_findable = obs_per_obj.index.values[obs_per_obj >= minObsPerTrack]\n",
    "\n",
    "    night_designation_count = observations[~observations[\"designation\"].isin(falsePositiveIDs + unknownIDs)].groupby([\"nid\"])[\"designation\"].value_counts()\n",
    "    night_designation_count = pd.DataFrame(night_designation_count)\n",
    "    night_designation_count.rename(columns={\"designation\": \"num_obs\"}, inplace=True)\n",
    "    night_designation_count.reset_index(inplace=True)\n",
    "    \n",
    "    night_designation_count[\"delta_night\"] = night_designation_count.groupby([\"designation\"])[\"nid\"].diff()\n",
    "    night_designation_count.loc[night_designation_count[\"delta_night\"].isna(), \"delta_night\"] = 0\n",
    "    night_designation_count[\"possible_tracklet\"] = np.where(night_designation_count[\"num_obs\"] >= trackletMinObs, 1, 0)\n",
    "\n",
    "    night_designation_count = night_designation_count[night_designation_count[\"delta_night\"] < maxTrackNightSpan]\n",
    "    tracklets_per_designation = night_designation_count.groupby([\"designation\"])[\"possible_tracklet\"].sum()\n",
    "    possibly_findable = tracklets_per_designation.index.values[tracklets_per_designation >= minTracklets]\n",
    "\n",
    "    obs_per_designation = night_designation_count[night_designation_count[\"designation\"].isin(possibly_findable)].groupby([\"designation\"])[\"num_obs\"].sum()\n",
    "    return obs_per_designation.index.values[obs_per_designation >= minObsPerTrack]\n",
    "    "
   ]
  },
  {
   "cell_type": "code",
   "execution_count": null,
   "metadata": {},
   "outputs": [],
   "source": [
    "findableZMODE = calcDiscoverableZMODE(observations)"
   ]
  },
  {
   "cell_type": "code",
   "execution_count": null,
   "metadata": {},
   "outputs": [],
   "source": [
    "allObjects_survey[allObjects_survey[\"designation\"].isin(findableZMODE)][\"found\"].sum() / len(findableZMODE)"
   ]
  },
  {
   "cell_type": "code",
   "execution_count": null,
   "metadata": {},
   "outputs": [],
   "source": [
    "len(findableZMODE) / 21401"
   ]
  },
  {
   "cell_type": "code",
   "execution_count": null,
   "metadata": {},
   "outputs": [],
   "source": [
    "_, _ = thor.analyzeObservations(observations, unknownIDs=unknownIDs, falsePositiveIDs=falsePositiveIDs, columnMapping=columnMapping)"
   ]
  },
  {
   "cell_type": "code",
   "execution_count": null,
   "metadata": {},
   "outputs": [],
   "source": [
    "printRunStats(allObjects_survey, test_orbits)"
   ]
  },
  {
   "cell_type": "code",
   "execution_count": null,
   "metadata": {},
   "outputs": [],
   "source": [
    "allClusters_projection = []\n",
    "allObjects_projection = []\n",
    "for i in range(338):\n",
    "    allClusters_projection.append(pd.read_csv(os.path.join(RUN_DIR, \"orbit_{:04d}/allClusters.txt\".format(i + 1)), sep=\" \", index_col=False, low_memory=False))\n",
    "    allObjects_projection.append(pd.read_csv(os.path.join(RUN_DIR, \"orbit_{:04d}/allObjects.txt\".format(i + 1)), sep=\" \", index_col=False, low_memory=False))\n",
    "    \n",
    "allClusters_projection = pd.concat(allClusters_projection)\n",
    "allObjects_projection = pd.concat(allObjects_projection)\n",
    "\n",
    "allClusters_projection[\"num_dupes\"] = allClusters_projection[\"num_obs\"] - allClusters_projection[\"num_visits\"] "
   ]
  },
  {
   "cell_type": "code",
   "execution_count": null,
   "metadata": {},
   "outputs": [],
   "source": [
    "printClusterStats(allClusters_projection, falsePositiveIDs=falsePositiveIDs, unknownIDs=unknownIDs)"
   ]
  },
  {
   "cell_type": "code",
   "execution_count": null,
   "metadata": {},
   "outputs": [],
   "source": [
    "printClusterStats(allClusters_projection[allClusters_projection[\"num_dupes\"] == 0], falsePositiveIDs=falsePositiveIDs, unknownIDs=unknownIDs)"
   ]
  },
  {
   "cell_type": "code",
   "execution_count": null,
   "metadata": {},
   "outputs": [],
   "source": [
    "accepted_clusters = allClusters_projection[(~allClusters_projection[\"linked_object\"].isna()) \n",
    "                                           & (~allClusters_projection[\"linked_object\"].isin(falsePositiveIDs + unknownIDs))]\n",
    "a = set(accepted_clusters[accepted_clusters[\"num_dupes\"] == 0][\"linked_object\"].unique())\n",
    "b = set(accepted_clusters[accepted_clusters[\"num_dupes\"] > 0][\"linked_object\"].unique())\n",
    "\n",
    "\n",
    "fig, ax = plt.subplots(1, 1, dpi=600)\n",
    "ax.hist([allClusters_projection[allClusters_projection[\"linked_object\"].isna()][\"num_dupes\"].values, \n",
    "         allClusters_projection[allClusters_projection[\"linked_object\"].isin(falsePositiveIDs)][\"num_dupes\"].values,\n",
    "         allClusters_projection[allClusters_projection[\"linked_object\"].isin(unknownIDs)][\"num_dupes\"].values,\n",
    "         allClusters_projection[(~allClusters_projection[\"linked_object\"].isin(falsePositiveIDs + unknownIDs) & (~allClusters_projection[\"linked_object\"].isna()))][\"num_dupes\"].values], \n",
    "        bins=range(7), \n",
    "        label=[\"False Clusters ({})\".format(len(allClusters_projection[allClusters_projection[\"linked_object\"].isna()])), \n",
    "               \"False Positive Clusters ({})\".format(len(allClusters_projection[allClusters_projection[\"linked_object\"].isin(falsePositiveIDs)])),\n",
    "               \"Unknown Clusters ({})\".format(len(allClusters_projection[allClusters_projection[\"linked_object\"].isin(unknownIDs)])),\n",
    "               \"True Positive Clusters ({})\".format(len(allClusters_projection[((allClusters_projection[\"partial\"] == 1) | (allClusters_projection[\"pure\"] == 1)) & (~allClusters_projection[\"linked_object\"].isin(falsePositiveIDs + unknownIDs))]))])\n",
    "ax.legend(fontsize=8)\n",
    "ax.set_xlabel(\"Number of detections from the same exposure\")\n",
    "ax.vlines(1, 1, 10**7)\n",
    "ax.set_yscale(\"log\")\n",
    "ax.set_ylim(1, 10**7)\n",
    "ax.text(0.2, 10**6.5, \"{:0.2f}%\".format(len(a) / 21401 * 100))\n",
    "ax.text(1.2, 10**6.5, \"{:0.2f}%\".format(len(b.difference(a)) / 21401 * 100))\n",
    "ax.axvspan(1, 6, color=\"k\", alpha=0.2)\n",
    "ax.set_xlim(0, 6)\n",
    "ax.set_title(\"Cluster Summary (338 Orbits: 92.1% Completeness)\")\n",
    "ax.set_ylabel(\"Number\")\n",
    "fig.savefig(\"plots/cluster_summary_ztf.png\")"
   ]
  },
  {
   "cell_type": "code",
   "execution_count": null,
   "metadata": {},
   "outputs": [],
   "source": [
    "len(observations) == (len(observations[observations[\"designation\"].isna() | observations[\"designation\"].isin(falsePositiveIDs + unknownIDs)])\n",
    "                        + len(observations[~observations[\"designation\"].isna() & ~observations[\"designation\"].isin(falsePositiveIDs + unknownIDs)]))"
   ]
  },
  {
   "cell_type": "code",
   "execution_count": null,
   "metadata": {},
   "outputs": [],
   "source": [
    "len(allClusters_projection) == (len(allClusters_projection[allClusters_projection[\"linked_object\"].isna() | allClusters_projection[\"linked_object\"].isin(falsePositiveIDs + unknownIDs)])\n",
    "                        + len(allClusters_projection[~allClusters_projection[\"linked_object\"].isna() & ~allClusters_projection[\"linked_object\"].isin(falsePositiveIDs + unknownIDs)]))"
   ]
  },
  {
   "cell_type": "code",
   "execution_count": null,
   "metadata": {},
   "outputs": [],
   "source": [
    "observations[]"
   ]
  },
  {
   "cell_type": "code",
   "execution_count": null,
   "metadata": {},
   "outputs": [],
   "source": [
    "# Groupby night, then count number of occurences per night\n",
    "night_designation_count = observations[~observations[\"designation\"].isin(falsePositiveIDs + unknownIDs)].groupby([\"nid\"])[\"designation\"].value_counts()\n",
    "night_designation_count = pd.DataFrame(night_designation_count)\n",
    "night_designation_count.rename(columns={\"designation\": \"num_obs\"}, inplace=True)\n",
    "night_designation_count.reset_index(inplace=True)"
   ]
  },
  {
   "cell_type": "code",
   "execution_count": null,
   "metadata": {},
   "outputs": [],
   "source": [
    "test = observations[~observations[\"designation\"].isin(falsePositiveIDs + unknownIDs) & observations[\"designation\"].isin([\"09816\"])]"
   ]
  },
  {
   "cell_type": "code",
   "execution_count": null,
   "metadata": {},
   "outputs": [],
   "source": [
    "fig, ax = plt.subplots(1, 1)\n",
    "ax.scatter(*test[[\"ra\", \"decl\"]].values.T)"
   ]
  },
  {
   "cell_type": "code",
   "execution_count": null,
   "metadata": {},
   "outputs": [],
   "source": [
    "obs_per_night = test[\"nid\"].value_counts()\n",
    "tracklet_nights = obs_per_night[obs_per_night >= 2].index.values"
   ]
  },
  {
   "cell_type": "code",
   "execution_count": null,
   "metadata": {},
   "outputs": [],
   "source": [
    "tracklet_nights"
   ]
  },
  {
   "cell_type": "code",
   "execution_count": null,
   "metadata": {},
   "outputs": [],
   "source": []
  },
  {
   "cell_type": "code",
   "execution_count": null,
   "metadata": {},
   "outputs": [],
   "source": [
    "obs_per_object = observations[(~observations[\"designation\"].isna()) \n",
    "                              & (~observations[\"designation\"].isin(falsePositiveIDs + unknownIDs))][\"designation\"].value_counts()\n",
    "possibly_findable = obs_per_object[obs_per_object >= 4].index.values"
   ]
  },
  {
   "cell_type": "code",
   "execution_count": null,
   "metadata": {},
   "outputs": [],
   "source": []
  },
  {
   "cell_type": "code",
   "execution_count": null,
   "metadata": {},
   "outputs": [],
   "source": [
    "test = observations[observations[\"designation\"].isin([possibly_findable[0]])]"
   ]
  },
  {
   "cell_type": "code",
   "execution_count": null,
   "metadata": {},
   "outputs": [],
   "source": [
    "test[]"
   ]
  },
  {
   "cell_type": "code",
   "execution_count": null,
   "metadata": {},
   "outputs": [],
   "source": [
    "for tracklet_night in tracklet_nights:\n",
    "    delta_night = test[\"nid\"].values - tracklet_night"
   ]
  },
  {
   "cell_type": "code",
   "execution_count": null,
   "metadata": {},
   "outputs": [],
   "source": [
    "delta_night[delta_night > -3 % ]"
   ]
  },
  {
   "cell_type": "code",
   "execution_count": null,
   "metadata": {},
   "outputs": [],
   "source": [
    "delta_night =  614 - test[\"nid\"]"
   ]
  },
  {
   "cell_type": "code",
   "execution_count": null,
   "metadata": {},
   "outputs": [],
   "source": [
    "test[\"nid\"]"
   ]
  },
  {
   "cell_type": "code",
   "execution_count": null,
   "metadata": {},
   "outputs": [],
   "source": [
    "delta_night"
   ]
  },
  {
   "cell_type": "code",
   "execution_count": null,
   "metadata": {},
   "outputs": [],
   "source": [
    "delta_night[(delta_night > 0) & (delta_night < 4)]"
   ]
  },
  {
   "cell_type": "code",
   "execution_count": null,
   "metadata": {},
   "outputs": [],
   "source": [
    "delta_night"
   ]
  },
  {
   "cell_type": "code",
   "execution_count": null,
   "metadata": {},
   "outputs": [],
   "source": []
  }
 ],
 "metadata": {
  "kernelspec": {
   "display_name": "Python 3 (THOR)",
   "language": "python",
   "name": "thor"
  },
  "language_info": {
   "codemirror_mode": {
    "name": "ipython",
    "version": 3
   },
   "file_extension": ".py",
   "mimetype": "text/x-python",
   "name": "python",
   "nbconvert_exporter": "python",
   "pygments_lexer": "ipython3",
   "version": "3.6.6"
  }
 },
 "nbformat": 4,
 "nbformat_minor": 2
}
