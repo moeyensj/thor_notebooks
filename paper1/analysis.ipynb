{
 "cells": [
  {
   "cell_type": "code",
   "execution_count": 1,
   "metadata": {},
   "outputs": [
    {
     "data": {
      "text/html": [
       "<script type=\"text/javascript\">window.PlotlyConfig = {MathJaxConfig: 'local'};</script><script type=\"text/javascript\">if (window.MathJax) {MathJax.Hub.Config({SVG: {font: \"STIX-Web\"}});}</script><script>requirejs.config({paths: { 'plotly': ['https://cdn.plot.ly/plotly-latest.min']},});if(!window._Plotly) {require(['plotly'],function(plotly) {window._Plotly=plotly;});}</script>"
      ],
      "text/vnd.plotly.v1+html": [
       "<script type=\"text/javascript\">window.PlotlyConfig = {MathJaxConfig: 'local'};</script><script type=\"text/javascript\">if (window.MathJax) {MathJax.Hub.Config({SVG: {font: \"STIX-Web\"}});}</script><script>requirejs.config({paths: { 'plotly': ['https://cdn.plot.ly/plotly-latest.min']},});if(!window._Plotly) {require(['plotly'],function(plotly) {window._Plotly=plotly;});}</script>"
      ]
     },
     "metadata": {},
     "output_type": "display_data"
    }
   ],
   "source": [
    "import glob\n",
    "import os\n",
    "import numpy as np\n",
    "import pandas as pd\n",
    "import sqlite3 as sql\n",
    "import matplotlib\n",
    "import matplotlib.pyplot as plt\n",
    "import matplotlib.patches as patches\n",
    "import matplotlib.colors as colors\n",
    "import seaborn as sns\n",
    "sns.set(font_scale=1.2, context=\"paper\", style=\"ticks\")\n",
    "sns.set_palette(\"viridis\")\n",
    "\n",
    "import mysql.connector as mariadb\n",
    "from astropy.time import Time\n",
    "\n",
    "from scipy.stats import binned_statistic_2d\n",
    "\n",
    "%matplotlib inline\n",
    "\n",
    "import plotly\n",
    "plotly.offline.init_notebook_mode(connected=True)\n",
    "\n",
    "import sys\n",
    "sys.path.append(\"../..\")"
   ]
  },
  {
   "cell_type": "code",
   "execution_count": 2,
   "metadata": {},
   "outputs": [],
   "source": [
    "import thor"
   ]
  },
  {
   "cell_type": "code",
   "execution_count": 3,
   "metadata": {},
   "outputs": [],
   "source": [
    "DPI = 200\n",
    "SAVE_DIR = \"plots/\"\n",
    "FORMAT = \"pdf\""
   ]
  },
  {
   "cell_type": "markdown",
   "metadata": {},
   "source": [
    "### Simulations"
   ]
  },
  {
   "cell_type": "code",
   "execution_count": 4,
   "metadata": {},
   "outputs": [],
   "source": [
    "RUN_DIR = \"../../analysis/msst_4x4/run_3_new/\"\n",
    "DATABASE = \"/epyc/projects/thor/data/msst_survey.db\"\n",
    "con = sql.connect(DATABASE)"
   ]
  },
  {
   "cell_type": "code",
   "execution_count": 5,
   "metadata": {},
   "outputs": [],
   "source": [
    "allObjects_survey = pd.read_csv(os.path.join(RUN_DIR, \"allObjects_survey.txt\"), sep=\" \", index_col=False)\n",
    "summary_survey = pd.read_csv(os.path.join(RUN_DIR, \"summary_survey.txt\"), sep=\" \", index_col=False)\n",
    "summary_orbits = pd.read_csv(os.path.join(RUN_DIR, \"summary_orbits.txt\"), sep=\" \", index_col=False)\n",
    "test_orbits_survey = pd.read_csv(os.path.join(RUN_DIR, \"orbits.txt\"), sep=\" \", index_col=False)\n",
    "\n",
    "known_orbits = pd.read_sql(\"SELECT * FROM mpcOrbitCat\", con)\n",
    "known_orbits = known_orbits[known_orbits[\"designation\"].isin(allObjects_survey[\"designation\"].values)]"
   ]
  },
  {
   "cell_type": "code",
   "execution_count": 6,
   "metadata": {},
   "outputs": [],
   "source": [
    "findable = allObjects_survey[allObjects_survey[\"findable\"] == 1][\"designation\"].values\n",
    "found = allObjects_survey[allObjects_survey[\"found\"] == 1][\"designation\"].values\n",
    "missed = allObjects_survey[(allObjects_survey[\"found\"] == 0) & (allObjects_survey[\"findable\"] == 1) ][\"designation\"].values\n",
    "test_orbits = test_orbits_survey[\"designation\"].values"
   ]
  },
  {
   "cell_type": "markdown",
   "metadata": {},
   "source": [
    "### ZTF "
   ]
  },
  {
   "cell_type": "code",
   "execution_count": 166,
   "metadata": {},
   "outputs": [],
   "source": [
    "columnMapping = {        \n",
    "        \n",
    "        # Observation ID\n",
    "        \"obs_id\" : \"obs_id\",\n",
    "        \n",
    "        # Exposure time\n",
    "        \"exp_mjd\" : \"exp_mjd\",\n",
    "        \n",
    "        # Visit ID\n",
    "        \"visit_id\" : \"visit_id\",\n",
    "        \n",
    "        # Field ID\n",
    "        \"field_id\" : \"field\",\n",
    "        \n",
    "        # Field RA in degrees\n",
    "        \"field_RA_deg\" : \"fieldRA_deg\",\n",
    "        \n",
    "        # Field Dec in degrees\n",
    "        \"field_Dec_deg\" : \"fieldDec_deg\",\n",
    "        \n",
    "        # Night number\n",
    "        \"night\": \"nid\",\n",
    "        \n",
    "        # RA in degrees\n",
    "        \"RA_deg\" : \"ra\",\n",
    "        \n",
    "        # Dec in degrees\n",
    "        \"Dec_deg\" : \"decl\",\n",
    "        \n",
    "        # Observer's x coordinate in AU\n",
    "        \"obs_x_au\" : \"HEclObsy_X_au\",\n",
    "        \n",
    "        # Observer's y coordinate in AU\n",
    "        \"obs_y_au\" : \"HEclObsy_Y_au\",\n",
    "        \n",
    "        # Observer's z coordinate in AU\n",
    "        \"obs_z_au\" : \"HEclObsy_Z_au\",\n",
    "        \n",
    "        # Magnitude (UNUSED)\n",
    "        \"mag\" : \"magpsf\",\n",
    "        \n",
    "        ### Truth Parameters\n",
    "        \n",
    "        # Object name\n",
    "        \"name\" : \"designation\",\n",
    "        \n",
    "        # Observer-object distance in AU\n",
    "        \"Delta_au\" : \"Delta_au\",\n",
    "        \n",
    "        # Sun-object distance in AU (heliocentric distance)\n",
    "        \"r_au\" : \"r_au\",\n",
    "        \n",
    "        # Object's x coordinate in AU\n",
    "        \"obj_x_au\" : \"HEclObj_X_au\",\n",
    "        \n",
    "        # Object's y coordinate in AU\n",
    "        \"obj_y_au\" : \"HEclObj_Y_au\",\n",
    "        \n",
    "        # Object's z coordinate in AU\n",
    "        \"obj_z_au\" : \"HEclObj_Z_au\",\n",
    "        \n",
    "        # Object's x velocity in AU per day\n",
    "        \"obj_dx/dt_au_p_day\" : \"HEclObj_dX/dt_au_p_day\",\n",
    "        \n",
    "        # Object's y velocity in AU per day\n",
    "        \"obj_dy/dt_au_p_day\" : \"HEclObj_dY/dt_au_p_day\",\n",
    "        \n",
    "        # Object's z velocity in AU per day\n",
    "        \"obj_dz/dt_au_p_day\" : \"HEclObj_dZ/dt_au_p_day\",\n",
    "        \n",
    "        # Semi-major axis\n",
    "        \"a_au\" : \"a_au\",\n",
    "        \n",
    "        # Inclination\n",
    "        \"i_deg\" : \"i_deg\",\n",
    "        \n",
    "        # Eccentricity\n",
    "        \"e\" : \"e\",\n",
    "    }"
   ]
  },
  {
   "cell_type": "code",
   "execution_count": 167,
   "metadata": {},
   "outputs": [],
   "source": [
    "RUN_DIR = \"../../analysis/ztf/run_10/\""
   ]
  },
  {
   "cell_type": "code",
   "execution_count": 168,
   "metadata": {},
   "outputs": [],
   "source": [
    "allObjects_survey = pd.read_csv(os.path.join(RUN_DIR, \"allObjects_survey.txt\"), sep=\" \", index_col=False)\n",
    "summary_survey = pd.read_csv(os.path.join(RUN_DIR, \"summary_survey.txt\"), sep=\" \", index_col=False)\n",
    "summary_orbits = pd.read_csv(os.path.join(RUN_DIR, \"summary_orbits.txt\"), sep=\" \", index_col=False)\n",
    "test_orbits_survey = pd.read_csv(os.path.join(RUN_DIR, \"orbits.txt\"), sep=\" \", index_col=False)\n",
    "\n",
    "known_orbits = pd.read_sql(\"SELECT * FROM mpcOrbitCat\", con)\n",
    "known_orbits = known_orbits[known_orbits[\"designation\"].isin(allObjects_survey[\"designation\"].values)]"
   ]
  },
  {
   "cell_type": "code",
   "execution_count": 169,
   "metadata": {},
   "outputs": [],
   "source": [
    "findable = allObjects_survey[allObjects_survey[\"findable\"] == 1][\"designation\"].values\n",
    "found = allObjects_survey[allObjects_survey[\"found\"] == 1][\"designation\"].values\n",
    "missed = allObjects_survey[(allObjects_survey[\"found\"] == 0) & (allObjects_survey[\"findable\"] == 1) ][\"designation\"].values\n",
    "test_orbits = test_orbits_survey[\"designation\"].values"
   ]
  },
  {
   "cell_type": "code",
   "execution_count": null,
   "metadata": {},
   "outputs": [],
   "source": [
    "simulated_ephemeris = pd.read_csv(\"../../analysis/ztf/known_object_observations_nid_610_624.eph\", sep=\" \", index_col=False, low_memory=False)\n",
    "known_orbits = pd.read_csv(\"../../analysis/ztf/known_object_observations_nid_610_624.orb\", sep=\" \", index_col=False, low_memory=False)\n",
    "\n",
    "#observations = pd.read_csv(\"../analysis/ztf/known_object_observations_nid_610_624.txt\", sep=\" \", index_col=False, low_memory=False)\n",
    "observations = pd.read_csv(\"../../analysis/ztf/observations_nid_610_624.txt\", sep=\" \", index_col=False, low_memory=False)\n",
    "\n",
    "observations.sort_values(by=\"mjd\", inplace=True)\n",
    "#observations.drop(index=observations[observations[\"designation\"].isna()].index, inplace=True)\n",
    "observations.loc[observations[\"designation\"].isna(), \"designation\"] = -1"
   ]
  },
  {
   "cell_type": "code",
   "execution_count": null,
   "metadata": {},
   "outputs": [],
   "source": [
    "def calcFindableMOPS(observations, trackletMinDetections=2, trackMinNights=3, falsePositiveIDs=[-1], unknownIDs=[]):\n",
    "    # Groupby night, then count number of occurences per night\n",
    "    night_designation_count = observations[~observations[\"designation\"].isin(falsePositiveIDs + unknownIDs)].groupby([\"nid\"])[\"designation\"].value_counts()\n",
    "    night_designation_count = pd.DataFrame(night_designation_count)\n",
    "    night_designation_count.rename(columns={\"designation\": \"num_obs\"}, inplace=True)\n",
    "    night_designation_count.reset_index(inplace=True)\n",
    "\n",
    "    # Remove nightly detections that would not be linked into a tracklet\n",
    "    night_designation_count = night_designation_count[night_designation_count[\"num_obs\"] >= trackletMinDetections]\n",
    "\n",
    "    # Groupby object then count number of nights\n",
    "    try: \n",
    "        designation_night_count = pd.DataFrame(night_designation_count.groupby([\"designation\"])[\"nid\"].value_counts())\n",
    "    except:\n",
    "        # No objects satisfy the requirements, return empty array\n",
    "        return np.array([])\n",
    "    designation_night_count.rename(columns={\"nid\": \"num_nights\"}, inplace=True)\n",
    "    designation_night_count.reset_index(inplace=True)\n",
    "\n",
    "    # Grab objects that meet the night requirement\n",
    "    tracklet_nights_possible = designation_night_count[\"designation\"].value_counts()\n",
    "    return tracklet_nights_possible.index[tracklet_nights_possible >= trackMinNights].values"
   ]
  },
  {
   "cell_type": "code",
   "execution_count": null,
   "metadata": {},
   "outputs": [],
   "source": [
    "len(allObjects_survey[allObjects_survey[\"found\"] == 1]) / len(allObjects_survey[allObjects_survey[\"findable\"] == 1])"
   ]
  },
  {
   "cell_type": "code",
   "execution_count": null,
   "metadata": {},
   "outputs": [],
   "source": [
    "len(allObjects_survey[allObjects_survey[\"found\"] == 1])"
   ]
  },
  {
   "cell_type": "code",
   "execution_count": null,
   "metadata": {},
   "outputs": [],
   "source": [
    "def calcDiscoverableZMODE(\n",
    "    observations[\"designation\"].isin([falsePosiiv])"
   ]
  }
 ],
 "metadata": {
  "kernelspec": {
   "display_name": "Python 3 (THOR)",
   "language": "python",
   "name": "thor"
  },
  "language_info": {
   "codemirror_mode": {
    "name": "ipython",
    "version": 3
   },
   "file_extension": ".py",
   "mimetype": "text/x-python",
   "name": "python",
   "nbconvert_exporter": "python",
   "pygments_lexer": "ipython3",
   "version": "3.6.6"
  }
 },
 "nbformat": 4,
 "nbformat_minor": 2
}
