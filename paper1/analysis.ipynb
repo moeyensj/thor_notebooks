{
 "cells": [
  {
   "cell_type": "markdown",
   "metadata": {},
   "source": [
    "## Analysis\n",
    "In this notebook, we generate some of the summary statistics for the THOR runs on both simulations and ZTF alerts.\n",
    "\n",
    "Data and results files for this notebook may be downloaded [here](https://dirac.astro.washington.edu/~moeyensj/projects/thor/paper1/)."
   ]
  },
  {
   "cell_type": "code",
   "execution_count": 1,
   "metadata": {},
   "outputs": [
    {
     "data": {
      "text/html": [
       "        <script type=\"text/javascript\">\n",
       "        window.PlotlyConfig = {MathJaxConfig: 'local'};\n",
       "        if (window.MathJax) {MathJax.Hub.Config({SVG: {font: \"STIX-Web\"}});}\n",
       "        if (typeof require !== 'undefined') {\n",
       "        require.undef(\"plotly\");\n",
       "        requirejs.config({\n",
       "            paths: {\n",
       "                'plotly': ['https://cdn.plot.ly/plotly-latest.min']\n",
       "            }\n",
       "        });\n",
       "        require(['plotly'], function(Plotly) {\n",
       "            window._Plotly = Plotly;\n",
       "        });\n",
       "        }\n",
       "        </script>\n",
       "        "
      ]
     },
     "metadata": {},
     "output_type": "display_data"
    }
   ],
   "source": [
    "import glob\n",
    "import os\n",
    "import numpy as np\n",
    "import pandas as pd\n",
    "import sqlite3 as sql\n",
    "import matplotlib\n",
    "import matplotlib.pyplot as plt\n",
    "import matplotlib.patches as patches\n",
    "import matplotlib.colors as colors\n",
    "import seaborn as sns\n",
    "sns.set(font_scale=1.2, context=\"paper\", style=\"ticks\")\n",
    "sns.set_palette(\"viridis\")\n",
    "\n",
    "import mysql.connector as mariadb\n",
    "from astropy.time import Time\n",
    "\n",
    "from scipy.stats import binned_statistic_2d\n",
    "\n",
    "%matplotlib inline\n",
    "\n",
    "import plotly\n",
    "plotly.offline.init_notebook_mode(connected=True)\n",
    "\n",
    "import sys\n",
    "sys.path.append(\"/epyc/projects/thor/thor\")"
   ]
  },
  {
   "cell_type": "code",
   "execution_count": 2,
   "metadata": {},
   "outputs": [],
   "source": [
    "import thor"
   ]
  },
  {
   "cell_type": "markdown",
   "metadata": {},
   "source": [
    "### Simulations"
   ]
  },
  {
   "cell_type": "code",
   "execution_count": 3,
   "metadata": {},
   "outputs": [],
   "source": [
    "RUN_DIR = \"/epyc/projects/thor/results/msst_4x4/run_16/\"\n",
    "DATABASE = \"/epyc/projects/thor/data/msst_4x4/msst_survey.db\"\n",
    "con = sql.connect(DATABASE)"
   ]
  },
  {
   "cell_type": "code",
   "execution_count": 4,
   "metadata": {},
   "outputs": [],
   "source": [
    "allObjects_survey = pd.read_csv(os.path.join(RUN_DIR, \"allObjects_survey.txt\"), sep=\" \", index_col=False)\n",
    "summary_survey = pd.read_csv(os.path.join(RUN_DIR, \"summary_survey.txt\"), sep=\" \", index_col=False)\n",
    "summary_orbits = pd.read_csv(os.path.join(RUN_DIR, \"summary_orbits.txt\"), sep=\" \", index_col=False)\n",
    "test_orbits_survey = pd.read_csv(os.path.join(RUN_DIR, \"orbits.txt\"), sep=\" \", index_col=False)\n",
    "\n",
    "known_orbits = pd.read_sql(\"SELECT * FROM mpcOrbitCat\", con)\n",
    "known_orbits = known_orbits[known_orbits[\"designation\"].isin(allObjects_survey[\"designation\"].values)]"
   ]
  },
  {
   "cell_type": "code",
   "execution_count": 5,
   "metadata": {},
   "outputs": [],
   "source": [
    "findable = allObjects_survey[allObjects_survey[\"findable\"] == 1][\"designation\"].values\n",
    "found = allObjects_survey[allObjects_survey[\"found\"] == 1][\"designation\"].values\n",
    "missed = allObjects_survey[(allObjects_survey[\"found\"] == 0) & (allObjects_survey[\"findable\"] == 1) ][\"designation\"].values\n",
    "test_orbits = test_orbits_survey[\"designation\"].values\n",
    "\n",
    "falsePositiveIDs = [\"NS\"]\n",
    "unknownIDs = []"
   ]
  },
  {
   "cell_type": "code",
   "execution_count": 6,
   "metadata": {},
   "outputs": [],
   "source": [
    "def printRunStats(allObjects, orbits):\n",
    "    completeness = len(allObjects[allObjects[\"found\"] == 1]) / len(allObjects[allObjects[\"findable\"] == 1])\n",
    "    print(\"Completeness: {:.2f}\".format(completeness * 100.0))\n",
    "    print(\"Number of objects findable: {}\".format(len(allObjects[allObjects[\"findable\"] == 1])))\n",
    "    print(\"Number of objects found: {}\".format(len(allObjects[allObjects[\"found\"] == 1])))\n",
    "    print(\"Number of objects missed: {}\".format(len(allObjects[(allObjects[\"found\"] == 0) & (allObjects[\"findable\"] == 1)])))\n",
    "    print(\"Number of test orbits: {}\".format(len(orbits)))\n",
    "    \n",
    "def printClusterStats(allClusters, falsePositiveIDs=[\"NS\"], unknownIDs=[]):\n",
    "    # Don't want linkages with NaN linked ID, or linked false positive IDs or unknownIDs\n",
    "    good_linkages = allClusters[(~allClusters[\"linked_object\"].isna()) & (~allClusters[\"linked_object\"].isin(falsePositiveIDs + unknownIDs))]\n",
    "    \n",
    "    print(\"Total clusters: {}\".format(len(allClusters)))\n",
    "    print(\"Total pure clusters: {}\".format(len(good_linkages[good_linkages[\"pure\"] == 1])))\n",
    "    print(\"Total partial clusters: {}\".format(len(good_linkages[good_linkages[\"partial\"] == 1])))\n",
    "    print(\"Total pure + partial clusters: {}\".format(len(good_linkages)))\n",
    "    print(\"Total false or unknown clusters: {}\".format(len(allClusters) - len(good_linkages)))\n",
    "    print(\"Cluster Contamination [%]: {:.2f}\".format((1 - len(good_linkages)/len(allClusters)) * 100.0))\n",
    "    print(\"Total duplicate visit clusters: {}\".format(len(allClusters[allClusters[\"num_dupes\"] != 0])))"
   ]
  },
  {
   "cell_type": "code",
   "execution_count": 7,
   "metadata": {},
   "outputs": [
    {
     "name": "stdout",
     "output_type": "stream",
     "text": [
      "Completeness: 94.57\n",
      "Number of objects findable: 18332\n",
      "Number of objects found: 17337\n",
      "Number of objects missed: 995\n",
      "Number of test orbits: 9\n"
     ]
    }
   ],
   "source": [
    "printRunStats(allObjects_survey, test_orbits)"
   ]
  },
  {
   "cell_type": "code",
   "execution_count": 8,
   "metadata": {},
   "outputs": [],
   "source": [
    "allClusters_projection = []\n",
    "allObjects_projection = []\n",
    "for i in range(9):\n",
    "    allClusters_projection.append(pd.read_csv(os.path.join(RUN_DIR, \"orbit_{:04d}/allClusters.txt\".format(i + 1)), sep=\" \", index_col=False))\n",
    "    allObjects_projection.append(pd.read_csv(os.path.join(RUN_DIR, \"orbit_{:04d}/allObjects.txt\".format(i + 1)), sep=\" \", index_col=False))\n",
    "    \n",
    "allClusters_projection = pd.concat(allClusters_projection)\n",
    "allObjects_projection = pd.concat(allObjects_projection)\n",
    "\n",
    "allClusters_projection[\"num_dupes\"] = allClusters_projection[\"num_obs\"] - allClusters_projection[\"num_visits\"] "
   ]
  },
  {
   "cell_type": "code",
   "execution_count": 9,
   "metadata": {},
   "outputs": [
    {
     "name": "stdout",
     "output_type": "stream",
     "text": [
      "Total clusters: 238205\n",
      "Total pure clusters: 46688\n",
      "Total partial clusters: 12910\n",
      "Total pure + partial clusters: 59598\n",
      "Total false or unknown clusters: 178607\n",
      "Cluster Contamination [%]: 74.98\n",
      "Total duplicate visit clusters: 157622\n"
     ]
    }
   ],
   "source": [
    "printClusterStats(allClusters_projection, falsePositiveIDs=falsePositiveIDs, unknownIDs=unknownIDs)"
   ]
  },
  {
   "cell_type": "code",
   "execution_count": 10,
   "metadata": {},
   "outputs": [
    {
     "name": "stdout",
     "output_type": "stream",
     "text": [
      "Total clusters: 80583\n",
      "Total pure clusters: 46688\n",
      "Total partial clusters: 2457\n",
      "Total pure + partial clusters: 49145\n",
      "Total false or unknown clusters: 31438\n",
      "Cluster Contamination [%]: 39.01\n",
      "Total duplicate visit clusters: 0\n"
     ]
    }
   ],
   "source": [
    "printClusterStats(allClusters_projection[allClusters_projection[\"num_dupes\"] == 0], falsePositiveIDs=falsePositiveIDs, unknownIDs=unknownIDs)"
   ]
  },
  {
   "cell_type": "code",
   "execution_count": 11,
   "metadata": {},
   "outputs": [
    {
     "name": "stdout",
     "output_type": "stream",
     "text": [
      "Total clusters: 178243\n",
      "Total pure clusters: 46688\n",
      "Total partial clusters: 12910\n",
      "Total pure + partial clusters: 59598\n",
      "Total false or unknown clusters: 118645\n",
      "Cluster Contamination [%]: 66.56\n",
      "Total duplicate visit clusters: 97660\n"
     ]
    }
   ],
   "source": [
    "printClusterStats(allClusters_projection[allClusters_projection[\"num_dupes\"].isin([0, 1])], falsePositiveIDs=falsePositiveIDs, unknownIDs=unknownIDs)"
   ]
  },
  {
   "cell_type": "code",
   "execution_count": 12,
   "metadata": {},
   "outputs": [
    {
     "name": "stdout",
     "output_type": "stream",
     "text": [
      "Completeness between 1.7 and 2.06 AU: 65.10 %, 125\n",
      "Completeness between 2.06 and 2.5 AU: 88.78 %, 6164\n",
      "Completeness between 2.5 and 2.82 AU: 98.99 %, 6351\n",
      "Completeness between 2.82 and 2.95 AU: 99.65 %, 855\n",
      "Completeness between 2.95 and 3.27 AU: 99.59 %, 3437\n",
      "Completeness between 3.27 and 5.0 AU: 99.44 %, 353\n",
      "Completeness between 5.0 and 50.0 AU: 100.00 %, 57\n"
     ]
    }
   ],
   "source": [
    "sma_bins = [1.7, 2.06, 2.5, 2.82, 2.95, 3.27, 5.0, 50.0]\n",
    "\n",
    "for a_min, a_max in zip(sma_bins[:-1], sma_bins[1:]):\n",
    "    found_in_bin = len(known_orbits[(known_orbits[\"a_au\"] >= a_min) & (known_orbits[\"a_au\"] < a_max) & known_orbits[\"designation\"].isin(found)]) \n",
    "    findable_in_bin = len(known_orbits[(known_orbits[\"a_au\"] >= a_min) & (known_orbits[\"a_au\"] < a_max) & known_orbits[\"designation\"].isin(findable)])\n",
    "    print(\"Completeness between {} and {} AU: {:.2f} %, {}\".format(a_min, a_max, found_in_bin / findable_in_bin * 100.0, found_in_bin))"
   ]
  },
  {
   "cell_type": "code",
   "execution_count": 13,
   "metadata": {},
   "outputs": [
    {
     "name": "stdout",
     "output_type": "stream",
     "text": [
      "Completeness between 0.0 and 1.7 AU: 18.75 %, 15\n",
      "Completeness between 1.7 and 50.0 AU: 94.91 %, 17342\n"
     ]
    }
   ],
   "source": [
    "sma_bins = [0.0, 1.7, 50.0]\n",
    "for a_min, a_max in zip(sma_bins[:-1], sma_bins[1:]):\n",
    "    found_in_bin = len(known_orbits[(known_orbits[\"a_au\"] >= a_min) & (known_orbits[\"a_au\"] < a_max) & known_orbits[\"designation\"].isin(found)]) \n",
    "    findable_in_bin = len(known_orbits[(known_orbits[\"a_au\"] >= a_min) & (known_orbits[\"a_au\"] < a_max) & known_orbits[\"designation\"].isin(findable)])\n",
    "    print(\"Completeness between {} and {} AU: {:.2f} %, {}\".format(a_min, a_max, found_in_bin / findable_in_bin * 100.0, found_in_bin))"
   ]
  },
  {
   "cell_type": "markdown",
   "metadata": {},
   "source": [
    "### ZTF "
   ]
  },
  {
   "cell_type": "code",
   "execution_count": 14,
   "metadata": {},
   "outputs": [],
   "source": [
    "columnMapping = {        \n",
    "        \n",
    "        # Observation ID\n",
    "        \"obs_id\" : \"obs_id\",\n",
    "        \n",
    "        # Exposure time\n",
    "        \"exp_mjd\" : \"exp_mjd\",\n",
    "        \n",
    "        # Visit ID\n",
    "        \"visit_id\" : \"visit_id\",\n",
    "        \n",
    "        # Field ID\n",
    "        \"field_id\" : \"field\",\n",
    "        \n",
    "        # Field RA in degrees\n",
    "        \"field_RA_deg\" : \"fieldRA_deg\",\n",
    "        \n",
    "        # Field Dec in degrees\n",
    "        \"field_Dec_deg\" : \"fieldDec_deg\",\n",
    "        \n",
    "        # Night number\n",
    "        \"night\": \"nid\",\n",
    "        \n",
    "        # RA in degrees\n",
    "        \"RA_deg\" : \"ra\",\n",
    "        \n",
    "        # Dec in degrees\n",
    "        \"Dec_deg\" : \"decl\",\n",
    "        \n",
    "        # Observer's x coordinate in AU\n",
    "        \"obs_x_au\" : \"HEclObsy_X_au\",\n",
    "        \n",
    "        # Observer's y coordinate in AU\n",
    "        \"obs_y_au\" : \"HEclObsy_Y_au\",\n",
    "        \n",
    "        # Observer's z coordinate in AU\n",
    "        \"obs_z_au\" : \"HEclObsy_Z_au\",\n",
    "        \n",
    "        # Magnitude (UNUSED)\n",
    "        \"mag\" : \"magpsf\",\n",
    "        \n",
    "        ### Truth Parameters\n",
    "        \n",
    "        # Object name\n",
    "        \"name\" : \"designation\",\n",
    "        \n",
    "        # Observer-object distance in AU\n",
    "        \"Delta_au\" : \"Delta_au\",\n",
    "        \n",
    "        # Sun-object distance in AU (heliocentric distance)\n",
    "        \"r_au\" : \"r_au\",\n",
    "        \n",
    "        # Object's x coordinate in AU\n",
    "        \"obj_x_au\" : \"HEclObj_X_au\",\n",
    "        \n",
    "        # Object's y coordinate in AU\n",
    "        \"obj_y_au\" : \"HEclObj_Y_au\",\n",
    "        \n",
    "        # Object's z coordinate in AU\n",
    "        \"obj_z_au\" : \"HEclObj_Z_au\",\n",
    "        \n",
    "        # Object's x velocity in AU per day\n",
    "        \"obj_dx/dt_au_p_day\" : \"HEclObj_dX/dt_au_p_day\",\n",
    "        \n",
    "        # Object's y velocity in AU per day\n",
    "        \"obj_dy/dt_au_p_day\" : \"HEclObj_dY/dt_au_p_day\",\n",
    "        \n",
    "        # Object's z velocity in AU per day\n",
    "        \"obj_dz/dt_au_p_day\" : \"HEclObj_dZ/dt_au_p_day\",\n",
    "        \n",
    "        # Semi-major axis\n",
    "        \"a_au\" : \"a_au\",\n",
    "        \n",
    "        # Inclination\n",
    "        \"i_deg\" : \"i_deg\",\n",
    "        \n",
    "        # Eccentricity\n",
    "        \"e\" : \"e\",\n",
    "    }"
   ]
  },
  {
   "cell_type": "code",
   "execution_count": 15,
   "metadata": {},
   "outputs": [],
   "source": [
    "RUN_DIR = \"/epyc/projects/thor/results/ztf/run_16/\""
   ]
  },
  {
   "cell_type": "code",
   "execution_count": 16,
   "metadata": {},
   "outputs": [],
   "source": [
    "allObjects_survey = pd.read_csv(os.path.join(RUN_DIR, \"allObjects_survey.txt\"), sep=\" \", index_col=False)\n",
    "summary_survey = pd.read_csv(os.path.join(RUN_DIR, \"summary_survey.txt\"), sep=\" \", index_col=False)\n",
    "summary_orbits = pd.read_csv(os.path.join(RUN_DIR, \"summary_orbits.txt\"), sep=\" \", index_col=False)\n",
    "test_orbits_survey = pd.read_csv(os.path.join(RUN_DIR, \"orbits.txt\"), sep=\" \", index_col=False)\n",
    "\n",
    "known_orbits = pd.read_sql(\"SELECT * FROM mpcOrbitCat\", con)\n",
    "known_orbits = known_orbits[known_orbits[\"designation\"].isin(allObjects_survey[\"designation\"].values)]"
   ]
  },
  {
   "cell_type": "code",
   "execution_count": 17,
   "metadata": {},
   "outputs": [],
   "source": [
    "findable = allObjects_survey[allObjects_survey[\"findable\"] == 1][\"designation\"].values\n",
    "found = allObjects_survey[allObjects_survey[\"found\"] == 1][\"designation\"].values\n",
    "missed = allObjects_survey[(allObjects_survey[\"found\"] == 0) & (allObjects_survey[\"findable\"] == 1) ][\"designation\"].values\n",
    "test_orbits = test_orbits_survey[\"designation\"].values\n",
    "\n",
    "falsePositiveIDs = []\n",
    "unknownIDs = [-1, \"-1\"]"
   ]
  },
  {
   "cell_type": "code",
   "execution_count": 18,
   "metadata": {},
   "outputs": [],
   "source": [
    "DATA_DIR = \"/epyc/projects/thor/data/ztf\"\n",
    "\n",
    "simulated_ephemeris = thor.readEPHFile(os.path.join(DATA_DIR, \"MPCORB_20181106_ZTF.eph\"))\n",
    "orbits = thor.readORBFile(os.path.join(DATA_DIR, \"MPCORB_20181106_ZTF_keplerian.orb\"), elementType=\"keplerian\")\n",
    "observations = pd.read_csv(os.path.join(DATA_DIR, \"observations_nid_610_624.txt\"), sep=\" \", index_col=False, low_memory=False)\n",
    "\n",
    "observations.sort_values(by=\"mjd\", inplace=True)\n",
    "observations.loc[observations[\"designation\"].isna(), \"designation\"] = -1"
   ]
  },
  {
   "cell_type": "code",
   "execution_count": 19,
   "metadata": {},
   "outputs": [],
   "source": [
    "def calcFindableMOPS(observations, trackletMinObs=2, trackMinNights=3, falsePositiveIDs=[-1], unknownIDs=[]):\n",
    "    # Groupby night, then count number of occurences per night\n",
    "    night_designation_count = observations[~observations[\"designation\"].isin(falsePositiveIDs + unknownIDs)].groupby([\"nid\"])[\"designation\"].value_counts()\n",
    "    night_designation_count = pd.DataFrame(night_designation_count)\n",
    "    night_designation_count.rename(columns={\"designation\": \"num_obs\"}, inplace=True)\n",
    "    night_designation_count.reset_index(inplace=True)\n",
    "\n",
    "    # Remove nightly detections that would not be linked into a tracklet\n",
    "    night_designation_count = night_designation_count[night_designation_count[\"num_obs\"] >= trackletMinObs]\n",
    "\n",
    "    # Groupby object then count number of nights\n",
    "    try: \n",
    "        designation_night_count = pd.DataFrame(night_designation_count.groupby([\"designation\"])[\"nid\"].value_counts())\n",
    "    except:\n",
    "        # No objects satisfy the requirements, return empty array\n",
    "        return np.array([])\n",
    "    designation_night_count.rename(columns={\"nid\": \"num_nights\"}, inplace=True)\n",
    "    designation_night_count.reset_index(inplace=True)\n",
    "\n",
    "    # Grab objects that meet the night requirement\n",
    "    tracklet_nights_possible = designation_night_count[\"designation\"].value_counts()\n",
    "    return tracklet_nights_possible.index[tracklet_nights_possible >= trackMinNights].values"
   ]
  },
  {
   "cell_type": "code",
   "execution_count": 20,
   "metadata": {},
   "outputs": [],
   "source": [
    "findableMOPS = calcFindableMOPS(observations)"
   ]
  },
  {
   "cell_type": "code",
   "execution_count": 21,
   "metadata": {},
   "outputs": [
    {
     "data": {
      "text/plain": [
       "9373"
      ]
     },
     "execution_count": 21,
     "metadata": {},
     "output_type": "execute_result"
    }
   ],
   "source": [
    "len(findableMOPS)"
   ]
  },
  {
   "cell_type": "code",
   "execution_count": 22,
   "metadata": {},
   "outputs": [
    {
     "data": {
      "text/plain": [
       "0.9900778832817668"
      ]
     },
     "execution_count": 22,
     "metadata": {},
     "output_type": "execute_result"
    }
   ],
   "source": [
    "allObjects_survey[allObjects_survey[\"designation\"].isin(findableMOPS)][\"found\"].sum() / len(findableMOPS)"
   ]
  },
  {
   "cell_type": "code",
   "execution_count": 23,
   "metadata": {},
   "outputs": [
    {
     "data": {
      "text/plain": [
       "43.79701883089575"
      ]
     },
     "execution_count": 23,
     "metadata": {},
     "output_type": "execute_result"
    }
   ],
   "source": [
    "len(findableMOPS) / 21401 * 100"
   ]
  },
  {
   "cell_type": "code",
   "execution_count": 24,
   "metadata": {},
   "outputs": [],
   "source": [
    "def calcDiscoverableZMODE(observations, \n",
    "                          minTracklets=2, \n",
    "                          trackletMinObs=2,\n",
    "                          minObsPerTrack=4,\n",
    "                          maxTrackNightSpan=4, \n",
    "                          falsePositiveIDs=[-1],\n",
    "                          unknownIDs=[]):\n",
    "\n",
    "    # Count number of observations per object\n",
    "    obs_per_obj = observations[\"designation\"].value_counts()\n",
    "    possibly_findable = obs_per_obj.index.values[obs_per_obj >= minObsPerTrack]\n",
    "\n",
    "    night_designation_count = observations[~observations[\"designation\"].isin(falsePositiveIDs + unknownIDs)].groupby([\"nid\"])[\"designation\"].value_counts()\n",
    "    night_designation_count = pd.DataFrame(night_designation_count)\n",
    "    night_designation_count.rename(columns={\"designation\": \"num_obs\"}, inplace=True)\n",
    "    night_designation_count.reset_index(inplace=True)\n",
    "    \n",
    "    night_designation_count[\"delta_night\"] = night_designation_count.groupby([\"designation\"])[\"nid\"].diff()\n",
    "    night_designation_count.loc[night_designation_count[\"delta_night\"].isna(), \"delta_night\"] = 0\n",
    "    night_designation_count[\"possible_tracklet\"] = np.where(night_designation_count[\"num_obs\"] >= trackletMinObs, 1, 0)\n",
    "\n",
    "    night_designation_count = night_designation_count[night_designation_count[\"delta_night\"] < maxTrackNightSpan]\n",
    "    tracklets_per_designation = night_designation_count.groupby([\"designation\"])[\"possible_tracklet\"].sum()\n",
    "    possibly_findable = tracklets_per_designation.index.values[tracklets_per_designation >= minTracklets]\n",
    "\n",
    "    obs_per_designation = night_designation_count[night_designation_count[\"designation\"].isin(possibly_findable)].groupby([\"designation\"])[\"num_obs\"].sum()\n",
    "    return obs_per_designation.index.values[obs_per_designation >= minObsPerTrack]\n",
    "    "
   ]
  },
  {
   "cell_type": "code",
   "execution_count": 25,
   "metadata": {},
   "outputs": [],
   "source": [
    "findableZMODE = calcDiscoverableZMODE(observations)"
   ]
  },
  {
   "cell_type": "code",
   "execution_count": 26,
   "metadata": {},
   "outputs": [
    {
     "data": {
      "text/plain": [
       "14200"
      ]
     },
     "execution_count": 26,
     "metadata": {},
     "output_type": "execute_result"
    }
   ],
   "source": [
    "len(findableZMODE)"
   ]
  },
  {
   "cell_type": "code",
   "execution_count": 27,
   "metadata": {},
   "outputs": [
    {
     "data": {
      "text/plain": [
       "0.9557746478873239"
      ]
     },
     "execution_count": 27,
     "metadata": {},
     "output_type": "execute_result"
    }
   ],
   "source": [
    "allObjects_survey[allObjects_survey[\"designation\"].isin(findableZMODE)][\"found\"].sum() / len(findableZMODE)"
   ]
  },
  {
   "cell_type": "code",
   "execution_count": 28,
   "metadata": {},
   "outputs": [
    {
     "data": {
      "text/plain": [
       "66.35203962431662"
      ]
     },
     "execution_count": 28,
     "metadata": {},
     "output_type": "execute_result"
    }
   ],
   "source": [
    "len(findableZMODE) / 21401 * 100"
   ]
  },
  {
   "cell_type": "code",
   "execution_count": 29,
   "metadata": {},
   "outputs": [
    {
     "name": "stdout",
     "output_type": "stream",
     "text": [
      "THOR: analyzeObservations\n",
      "-------------------------\n",
      "Analyzing observations...\n",
      "Known object observations: 252836\n",
      "Unknown object observations: 574710\n",
      "False positive observations: 0\n",
      "Percent known object observations (%): 30.553\n",
      "Percent unknown object observations (%): 69.447\n",
      "Percent false positive observations (%): 0.000\n",
      "Unique known objects: 62307\n",
      "Unique known objects with at least 5 detections: 21401\n",
      "\n",
      "Total time in seconds: 0.5905530452728271\n",
      "-------------------------\n",
      "\n"
     ]
    }
   ],
   "source": [
    "_, _ = thor.analyzeObservations(observations, unknownIDs=unknownIDs, falsePositiveIDs=falsePositiveIDs, columnMapping=columnMapping)"
   ]
  },
  {
   "cell_type": "code",
   "execution_count": 30,
   "metadata": {},
   "outputs": [
    {
     "name": "stdout",
     "output_type": "stream",
     "text": [
      "Completeness: 97.38\n",
      "Number of objects findable: 21401\n",
      "Number of objects found: 20840\n",
      "Number of objects missed: 561\n",
      "Number of test orbits: 821\n"
     ]
    }
   ],
   "source": [
    "printRunStats(allObjects_survey, test_orbits)"
   ]
  },
  {
   "cell_type": "code",
   "execution_count": 31,
   "metadata": {},
   "outputs": [],
   "source": [
    "allClusters_projection = []\n",
    "allObjects_projection = []\n",
    "for i in range(821):\n",
    "    try:\n",
    "        allClusters_projection.append(pd.read_csv(os.path.join(RUN_DIR, \"orbit_{:04d}/allClusters.txt\".format(i + 1)), sep=\" \", index_col=False, low_memory=False))\n",
    "        allObjects_projection.append(pd.read_csv(os.path.join(RUN_DIR, \"orbit_{:04d}/allObjects.txt\".format(i + 1)), sep=\" \", index_col=False, low_memory=False))\n",
    "    except:\n",
    "        continue\n",
    "    \n",
    "allClusters_projection = pd.concat(allClusters_projection)\n",
    "allObjects_projection = pd.concat(allObjects_projection)\n",
    "\n",
    "allClusters_projection.loc[allClusters_projection[\"linked_object\"].isin([-1]), \"linked_object\"] = \"-1\"\n",
    "allClusters_projection[\"num_dupes\"] = allClusters_projection[\"num_obs\"] - allClusters_projection[\"num_visits\"] "
   ]
  },
  {
   "cell_type": "code",
   "execution_count": 32,
   "metadata": {},
   "outputs": [
    {
     "name": "stdout",
     "output_type": "stream",
     "text": [
      "Total clusters: 4282373\n",
      "Total pure clusters: 74148\n",
      "Total partial clusters: 167486\n",
      "Total pure + partial clusters: 241634\n",
      "Total false or unknown clusters: 4040739\n",
      "Cluster Contamination [%]: 94.36\n",
      "Total duplicate visit clusters: 2521184\n"
     ]
    }
   ],
   "source": [
    "printClusterStats(allClusters_projection, falsePositiveIDs=falsePositiveIDs, unknownIDs=unknownIDs)"
   ]
  },
  {
   "cell_type": "code",
   "execution_count": 33,
   "metadata": {},
   "outputs": [
    {
     "name": "stdout",
     "output_type": "stream",
     "text": [
      "Total clusters: 1761189\n",
      "Total pure clusters: 73939\n",
      "Total partial clusters: 162256\n",
      "Total pure + partial clusters: 236195\n",
      "Total false or unknown clusters: 1524994\n",
      "Cluster Contamination [%]: 86.59\n",
      "Total duplicate visit clusters: 0\n"
     ]
    }
   ],
   "source": [
    "printClusterStats(allClusters_projection[allClusters_projection[\"num_dupes\"] == 0], falsePositiveIDs=falsePositiveIDs, unknownIDs=unknownIDs)"
   ]
  },
  {
   "cell_type": "code",
   "execution_count": 34,
   "metadata": {},
   "outputs": [
    {
     "name": "stdout",
     "output_type": "stream",
     "text": [
      "Total clusters: 2026543\n",
      "Total pure clusters: 74148\n",
      "Total partial clusters: 167040\n",
      "Total pure + partial clusters: 241188\n",
      "Total false or unknown clusters: 1785355\n",
      "Cluster Contamination [%]: 88.10\n",
      "Total duplicate visit clusters: 265354\n"
     ]
    }
   ],
   "source": [
    "printClusterStats(allClusters_projection[allClusters_projection[\"num_dupes\"].isin([0, 1])], falsePositiveIDs=falsePositiveIDs, unknownIDs=unknownIDs)"
   ]
  },
  {
   "cell_type": "code",
   "execution_count": 35,
   "metadata": {},
   "outputs": [
    {
     "name": "stdout",
     "output_type": "stream",
     "text": [
      "Completeness between 1.7 and 2.06 AU: 94.61 %, 544\n",
      "Completeness between 2.06 and 2.5 AU: 95.69 %, 6218\n",
      "Completeness between 2.5 and 2.82 AU: 97.79 %, 7639\n",
      "Completeness between 2.82 and 2.95 AU: 99.04 %, 724\n",
      "Completeness between 2.95 and 3.27 AU: 99.26 %, 5375\n",
      "Completeness between 3.27 and 5.0 AU: 98.96 %, 191\n",
      "Completeness between 5.0 and 100.0 AU: 97.56 %, 80\n"
     ]
    }
   ],
   "source": [
    "sma_bins = [1.7, 2.06, 2.5, 2.82, 2.95, 3.27, 5.0, 100.0]\n",
    "\n",
    "for a_min, a_max in zip(sma_bins[:-1], sma_bins[1:]):\n",
    "    found_in_bin = len(known_orbits[(known_orbits[\"a_au\"] >= a_min) & (known_orbits[\"a_au\"] < a_max) & known_orbits[\"designation\"].isin(found)]) \n",
    "    findable_in_bin = len(known_orbits[(known_orbits[\"a_au\"] >= a_min) & (known_orbits[\"a_au\"] < a_max) & known_orbits[\"designation\"].isin(findable)])\n",
    "    print(\"Completeness between {} and {} AU: {:.2f} %, {}\".format(a_min, a_max, found_in_bin / findable_in_bin * 100.0, found_in_bin))"
   ]
  },
  {
   "cell_type": "code",
   "execution_count": 36,
   "metadata": {},
   "outputs": [
    {
     "name": "stdout",
     "output_type": "stream",
     "text": [
      "Completeness between 0.0 and 1.7 AU: 43.90 %, 18\n",
      "Completeness between 1.7 and 50.0 AU: 97.49 %, 20770\n"
     ]
    }
   ],
   "source": [
    "sma_bins = [0.0, 1.7, 50.0]\n",
    "for a_min, a_max in zip(sma_bins[:-1], sma_bins[1:]):\n",
    "    found_in_bin = len(known_orbits[(known_orbits[\"a_au\"] >= a_min) & (known_orbits[\"a_au\"] < a_max) & known_orbits[\"designation\"].isin(found)]) \n",
    "    findable_in_bin = len(known_orbits[(known_orbits[\"a_au\"] >= a_min) & (known_orbits[\"a_au\"] < a_max) & known_orbits[\"designation\"].isin(findable)])\n",
    "    print(\"Completeness between {} and {} AU: {:.2f} %, {}\".format(a_min, a_max, found_in_bin / findable_in_bin * 100.0, found_in_bin))"
   ]
  },
  {
   "cell_type": "code",
   "execution_count": 37,
   "metadata": {},
   "outputs": [
    {
     "name": "stdout",
     "output_type": "stream",
     "text": [
      "Completeness between 0.0 and 2.5 AU: 95.31 %, 6780\n",
      "Completeness between 2.5 and 50.0 AU: 98.43 %, 14008\n"
     ]
    }
   ],
   "source": [
    "sma_bins = [0.0, 2.5, 50.0]\n",
    "for a_min, a_max in zip(sma_bins[:-1], sma_bins[1:]):\n",
    "    found_in_bin = len(known_orbits[(known_orbits[\"a_au\"] >= a_min) & (known_orbits[\"a_au\"] < a_max) & known_orbits[\"designation\"].isin(found)]) \n",
    "    findable_in_bin = len(known_orbits[(known_orbits[\"a_au\"] >= a_min) & (known_orbits[\"a_au\"] < a_max) & known_orbits[\"designation\"].isin(findable)])\n",
    "    print(\"Completeness between {} and {} AU: {:.2f} %, {}\".format(a_min, a_max, found_in_bin / findable_in_bin * 100.0, found_in_bin))"
   ]
  },
  {
   "cell_type": "code",
   "execution_count": 38,
   "metadata": {},
   "outputs": [
    {
     "data": {
      "text/plain": [
       "0       146\n",
       "1        41\n",
       "2        22\n",
       "3        19\n",
       "4        18\n",
       "13       18\n",
       "9        17\n",
       "5        16\n",
       "8        15\n",
       "7        13\n",
       "11       13\n",
       "14       13\n",
       "6        12\n",
       "28       11\n",
       "15       11\n",
       "24       11\n",
       "22       11\n",
       "19       10\n",
       "12       10\n",
       "10        9\n",
       "18        8\n",
       "36        8\n",
       "16        7\n",
       "68        7\n",
       "33        7\n",
       "45        6\n",
       "25        6\n",
       "29        6\n",
       "41        5\n",
       "40        5\n",
       "       ... \n",
       "1167      1\n",
       "142       1\n",
       "204       1\n",
       "212       1\n",
       "349       1\n",
       "1238      1\n",
       "333       1\n",
       "332       1\n",
       "328       1\n",
       "2366      1\n",
       "313       1\n",
       "311       1\n",
       "308       1\n",
       "304       1\n",
       "293       1\n",
       "1311      1\n",
       "273       1\n",
       "269       1\n",
       "266       1\n",
       "257       1\n",
       "256       1\n",
       "255       1\n",
       "246       1\n",
       "244       1\n",
       "243       1\n",
       "240       1\n",
       "239       1\n",
       "224       1\n",
       "217       1\n",
       "157       1\n",
       "Name: num_unique_known_objects_findable, Length: 237, dtype: int64"
      ]
     },
     "execution_count": 38,
     "metadata": {},
     "output_type": "execute_result"
    }
   ],
   "source": [
    "summary_orbits[\"num_unique_known_objects_findable\"].value_counts()"
   ]
  },
  {
   "cell_type": "code",
   "execution_count": 39,
   "metadata": {},
   "outputs": [
    {
     "data": {
      "text/plain": [
       "0       441\n",
       "1        89\n",
       "2        35\n",
       "3        31\n",
       "5        19\n",
       "4        17\n",
       "6        15\n",
       "7        11\n",
       "8        11\n",
       "13        8\n",
       "16        7\n",
       "20        5\n",
       "10        5\n",
       "18        5\n",
       "17        5\n",
       "14        5\n",
       "15        4\n",
       "11        4\n",
       "9         4\n",
       "12        3\n",
       "21        3\n",
       "37        3\n",
       "35        3\n",
       "29        2\n",
       "59        2\n",
       "52        2\n",
       "45        2\n",
       "69        2\n",
       "38        2\n",
       "33        2\n",
       "       ... \n",
       "395       1\n",
       "404       1\n",
       "514       1\n",
       "517       1\n",
       "672       1\n",
       "704       1\n",
       "829       1\n",
       "929       1\n",
       "176       1\n",
       "154       1\n",
       "1997      1\n",
       "147       1\n",
       "63        1\n",
       "68        1\n",
       "71        1\n",
       "72        1\n",
       "77        1\n",
       "81        1\n",
       "84        1\n",
       "85        1\n",
       "87        1\n",
       "96        1\n",
       "97        1\n",
       "99        1\n",
       "100       1\n",
       "103       1\n",
       "126       1\n",
       "130       1\n",
       "145       1\n",
       "62        1\n",
       "Name: num_unique_known_objects_found, Length: 91, dtype: int64"
      ]
     },
     "execution_count": 39,
     "metadata": {},
     "output_type": "execute_result"
    }
   ],
   "source": [
    "summary_orbits[\"num_unique_known_objects_found\"].value_counts()"
   ]
  },
  {
   "cell_type": "code",
   "execution_count": 40,
   "metadata": {},
   "outputs": [
    {
     "data": {
      "text/plain": [
       "2331"
      ]
     },
     "execution_count": 40,
     "metadata": {},
     "output_type": "execute_result"
    }
   ],
   "source": [
    "summary_orbits[\"num_unique_known_objects_found\"].max()"
   ]
  },
  {
   "cell_type": "code",
   "execution_count": 41,
   "metadata": {},
   "outputs": [
    {
     "data": {
      "text/plain": [
       "2002501"
      ]
     },
     "execution_count": 41,
     "metadata": {},
     "output_type": "execute_result"
    }
   ],
   "source": [
    "unknown_clusters = len(allClusters_projection[allClusters_projection[\"linked_object\"].isin(unknownIDs)])\n",
    "unknown_clusters"
   ]
  },
  {
   "cell_type": "code",
   "execution_count": 42,
   "metadata": {},
   "outputs": [
    {
     "data": {
      "text/plain": [
       "2038238"
      ]
     },
     "execution_count": 42,
     "metadata": {},
     "output_type": "execute_result"
    }
   ],
   "source": [
    "mixed_clusters = len(allClusters_projection[allClusters_projection[\"linked_object\"].isna()])\n",
    "mixed_clusters"
   ]
  },
  {
   "cell_type": "code",
   "execution_count": 43,
   "metadata": {},
   "outputs": [
    {
     "data": {
      "text/plain": [
       "241634"
      ]
     },
     "execution_count": 43,
     "metadata": {},
     "output_type": "execute_result"
    }
   ],
   "source": [
    "true_clusters = len(allClusters_projection[(~allClusters_projection[\"linked_object\"].isna()) & (~allClusters_projection[\"linked_object\"].isin([\"-1\"]))])\n",
    "true_clusters"
   ]
  },
  {
   "cell_type": "code",
   "execution_count": 44,
   "metadata": {},
   "outputs": [],
   "source": [
    "total_clusters = true_clusters + mixed_clusters + unknown_clusters"
   ]
  },
  {
   "cell_type": "code",
   "execution_count": 45,
   "metadata": {},
   "outputs": [
    {
     "data": {
      "text/plain": [
       "True"
      ]
     },
     "execution_count": 45,
     "metadata": {},
     "output_type": "execute_result"
    }
   ],
   "source": [
    "total_clusters == len(allClusters_projection)"
   ]
  },
  {
   "cell_type": "code",
   "execution_count": 46,
   "metadata": {},
   "outputs": [],
   "source": [
    "start = Time(observations[\"exp_mjd\"].min(), format=\"mjd\", scale=\"utc\")\n",
    "end = Time(observations[\"exp_mjd\"].max(), format=\"mjd\", scale=\"utc\")"
   ]
  },
  {
   "cell_type": "code",
   "execution_count": 47,
   "metadata": {},
   "outputs": [
    {
     "data": {
      "text/plain": [
       "'2018-09-03T03:07:53.999'"
      ]
     },
     "execution_count": 47,
     "metadata": {},
     "output_type": "execute_result"
    }
   ],
   "source": [
    "start.isot"
   ]
  },
  {
   "cell_type": "code",
   "execution_count": 48,
   "metadata": {},
   "outputs": [
    {
     "data": {
      "text/plain": [
       "'2018-09-17T12:37:12.999'"
      ]
     },
     "execution_count": 48,
     "metadata": {},
     "output_type": "execute_result"
    }
   ],
   "source": [
    "end.isot"
   ]
  },
  {
   "cell_type": "code",
   "execution_count": null,
   "metadata": {},
   "outputs": [],
   "source": []
  }
 ],
 "metadata": {
  "kernelspec": {
   "display_name": "Python 3.6 (THOR)",
   "language": "python",
   "name": "thor_py36"
  },
  "language_info": {
   "codemirror_mode": {
    "name": "ipython",
    "version": 3
   },
   "file_extension": ".py",
   "mimetype": "text/x-python",
   "name": "python",
   "nbconvert_exporter": "python",
   "pygments_lexer": "ipython3",
   "version": "3.6.8"
  }
 },
 "nbformat": 4,
 "nbformat_minor": 2
}
