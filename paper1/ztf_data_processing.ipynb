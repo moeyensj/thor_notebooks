{
 "cells": [
  {
   "cell_type": "markdown",
   "metadata": {},
   "source": [
    "# Package Imports"
   ]
  },
  {
   "cell_type": "code",
   "execution_count": 1,
   "metadata": {},
   "outputs": [
    {
     "data": {
      "text/html": [
       "<script type=\"text/javascript\">window.PlotlyConfig = {MathJaxConfig: 'local'};</script><script type=\"text/javascript\">if (window.MathJax) {MathJax.Hub.Config({SVG: {font: \"STIX-Web\"}});}</script><script>requirejs.config({paths: { 'plotly': ['https://cdn.plot.ly/plotly-latest.min']},});if(!window._Plotly) {require(['plotly'],function(plotly) {window._Plotly=plotly;});}</script>"
      ],
      "text/vnd.plotly.v1+html": [
       "<script type=\"text/javascript\">window.PlotlyConfig = {MathJaxConfig: 'local'};</script><script type=\"text/javascript\">if (window.MathJax) {MathJax.Hub.Config({SVG: {font: \"STIX-Web\"}});}</script><script>requirejs.config({paths: { 'plotly': ['https://cdn.plot.ly/plotly-latest.min']},});if(!window._Plotly) {require(['plotly'],function(plotly) {window._Plotly=plotly;});}</script>"
      ]
     },
     "metadata": {},
     "output_type": "display_data"
    }
   ],
   "source": [
    "import glob\n",
    "import os\n",
    "import numpy as np\n",
    "import pandas as pd\n",
    "import sqlite3 as sql\n",
    "import matplotlib.pyplot as plt\n",
    "import matplotlib.patches as patches\n",
    "import seaborn as sns\n",
    "sns.set(font_scale=1.2, context=\"paper\", style=\"ticks\")\n",
    "sns.set_palette(\"viridis\")\n",
    "\n",
    "import mysql.connector as mariadb\n",
    "from astropy.time import Time\n",
    "\n",
    "%matplotlib inline\n",
    "\n",
    "import plotly\n",
    "plotly.offline.init_notebook_mode(connected=True)\n",
    "\n",
    "import sys\n",
    "sys.path.append(\"..\")"
   ]
  },
  {
   "cell_type": "code",
   "execution_count": 2,
   "metadata": {},
   "outputs": [
    {
     "data": {
      "text/plain": [
       "'/epyc/opt/anaconda'"
      ]
     },
     "execution_count": 2,
     "metadata": {},
     "output_type": "execute_result"
    }
   ],
   "source": [
    "os.environ.get(\"CONDA_PREFIX\")"
   ]
  },
  {
   "cell_type": "code",
   "execution_count": 3,
   "metadata": {},
   "outputs": [
    {
     "data": {
      "text/plain": [
       "1"
      ]
     },
     "execution_count": 3,
     "metadata": {},
     "output_type": "execute_result"
    }
   ],
   "source": [
    "os.nice(1)"
   ]
  },
  {
   "cell_type": "code",
   "execution_count": 4,
   "metadata": {},
   "outputs": [],
   "source": [
    "import thor"
   ]
  },
  {
   "cell_type": "markdown",
   "metadata": {},
   "source": [
    "## Data Processing"
   ]
  },
  {
   "cell_type": "code",
   "execution_count": 5,
   "metadata": {},
   "outputs": [],
   "source": [
    "# Connect to database\n",
    "con = mariadb.connect(user='ztf', database='ztf')"
   ]
  },
  {
   "cell_type": "code",
   "execution_count": 6,
   "metadata": {},
   "outputs": [],
   "source": [
    "# https://zwickytransientfacility.github.io/ztf-avro-alert/schema.html"
   ]
  },
  {
   "cell_type": "code",
   "execution_count": 7,
   "metadata": {},
   "outputs": [
    {
     "name": "stdout",
     "output_type": "stream",
     "text": [
      "1027255\n"
     ]
    }
   ],
   "source": [
    "# Read alerts for solar system objects from after the photometry fix \n",
    "sso_alert_fix_date1 = Time('2018-05-16T23:30:00', format='isot', scale='utc') # first attribution fix\n",
    "sso_alert_fix_date2 = Time('2018-06-08T23:30:00', format='isot', scale='utc') # second attribution fix\n",
    "sso_alert_phot_fix_date = Time('2018-06-18T23:30:00', format='isot', scale='utc') # photometry fix date\n",
    "\n",
    "jd_good = sso_alert_phot_fix_date.jd\n",
    "#ssdistnr >= 0 \n",
    "df = pd.read_sql_query('select * from alerts where jd > {} and ssdistnr >= 0'.format(jd_good), con)\n",
    "print(len(df))"
   ]
  },
  {
   "cell_type": "code",
   "execution_count": 8,
   "metadata": {},
   "outputs": [],
   "source": [
    "df.sort_values(by=[\"jd\"], inplace=True)\n",
    "df.reset_index(inplace=True)"
   ]
  },
  {
   "cell_type": "code",
   "execution_count": 9,
   "metadata": {},
   "outputs": [],
   "source": [
    "df = df[(df[\"rb\"] >= 0.5) & (df[\"ndethist\"] <= 4)]"
   ]
  },
  {
   "cell_type": "code",
   "execution_count": 10,
   "metadata": {},
   "outputs": [
    {
     "data": {
      "text/html": [
       "<div>\n",
       "<style scoped>\n",
       "    .dataframe tbody tr th:only-of-type {\n",
       "        vertical-align: middle;\n",
       "    }\n",
       "\n",
       "    .dataframe tbody tr th {\n",
       "        vertical-align: top;\n",
       "    }\n",
       "\n",
       "    .dataframe thead th {\n",
       "        text-align: right;\n",
       "    }\n",
       "</style>\n",
       "<table border=\"1\" class=\"dataframe\">\n",
       "  <thead>\n",
       "    <tr style=\"text-align: right;\">\n",
       "      <th></th>\n",
       "      <th>index</th>\n",
       "      <th>objectId</th>\n",
       "      <th>jd</th>\n",
       "      <th>fid</th>\n",
       "      <th>pid</th>\n",
       "      <th>diffmaglim</th>\n",
       "      <th>programid</th>\n",
       "      <th>candid</th>\n",
       "      <th>isdiffpos</th>\n",
       "      <th>tblid</th>\n",
       "      <th>...</th>\n",
       "      <th>clrcounc</th>\n",
       "      <th>zpclrcov</th>\n",
       "      <th>zpmed</th>\n",
       "      <th>clrmed</th>\n",
       "      <th>clrrms</th>\n",
       "      <th>neargaia</th>\n",
       "      <th>neargaiabright</th>\n",
       "      <th>maggaia</th>\n",
       "      <th>maggaiabright</th>\n",
       "      <th>exptime</th>\n",
       "    </tr>\n",
       "  </thead>\n",
       "  <tbody>\n",
       "    <tr>\n",
       "      <th>0</th>\n",
       "      <td>0</td>\n",
       "      <td>ZTF18abcdwzp</td>\n",
       "      <td>2.458289e+06</td>\n",
       "      <td>3</td>\n",
       "      <td>534178763215</td>\n",
       "      <td>19.8391</td>\n",
       "      <td>2</td>\n",
       "      <td>534178763215015012</td>\n",
       "      <td>t</td>\n",
       "      <td>12</td>\n",
       "      <td>...</td>\n",
       "      <td>NaN</td>\n",
       "      <td>NaN</td>\n",
       "      <td>NaN</td>\n",
       "      <td>NaN</td>\n",
       "      <td>NaN</td>\n",
       "      <td>NaN</td>\n",
       "      <td>NaN</td>\n",
       "      <td>NaN</td>\n",
       "      <td>NaN</td>\n",
       "      <td>NaN</td>\n",
       "    </tr>\n",
       "    <tr>\n",
       "      <th>1</th>\n",
       "      <td>2</td>\n",
       "      <td>ZTF18abcdxgz</td>\n",
       "      <td>2.458289e+06</td>\n",
       "      <td>3</td>\n",
       "      <td>534186883815</td>\n",
       "      <td>19.6875</td>\n",
       "      <td>2</td>\n",
       "      <td>534186883815015006</td>\n",
       "      <td>t</td>\n",
       "      <td>6</td>\n",
       "      <td>...</td>\n",
       "      <td>NaN</td>\n",
       "      <td>NaN</td>\n",
       "      <td>NaN</td>\n",
       "      <td>NaN</td>\n",
       "      <td>NaN</td>\n",
       "      <td>NaN</td>\n",
       "      <td>NaN</td>\n",
       "      <td>NaN</td>\n",
       "      <td>NaN</td>\n",
       "      <td>NaN</td>\n",
       "    </tr>\n",
       "    <tr>\n",
       "      <th>2</th>\n",
       "      <td>1</td>\n",
       "      <td>ZTF18abcdxlq</td>\n",
       "      <td>2.458289e+06</td>\n",
       "      <td>1</td>\n",
       "      <td>534194142015</td>\n",
       "      <td>20.4920</td>\n",
       "      <td>2</td>\n",
       "      <td>534194142015015009</td>\n",
       "      <td>t</td>\n",
       "      <td>9</td>\n",
       "      <td>...</td>\n",
       "      <td>NaN</td>\n",
       "      <td>NaN</td>\n",
       "      <td>NaN</td>\n",
       "      <td>NaN</td>\n",
       "      <td>NaN</td>\n",
       "      <td>NaN</td>\n",
       "      <td>NaN</td>\n",
       "      <td>NaN</td>\n",
       "      <td>NaN</td>\n",
       "      <td>NaN</td>\n",
       "    </tr>\n",
       "    <tr>\n",
       "      <th>3</th>\n",
       "      <td>344</td>\n",
       "      <td>ZTF18abcdxlx</td>\n",
       "      <td>2.458289e+06</td>\n",
       "      <td>1</td>\n",
       "      <td>534194655515</td>\n",
       "      <td>20.5510</td>\n",
       "      <td>1</td>\n",
       "      <td>534194655515015006</td>\n",
       "      <td>t</td>\n",
       "      <td>6</td>\n",
       "      <td>...</td>\n",
       "      <td>NaN</td>\n",
       "      <td>NaN</td>\n",
       "      <td>NaN</td>\n",
       "      <td>NaN</td>\n",
       "      <td>NaN</td>\n",
       "      <td>NaN</td>\n",
       "      <td>NaN</td>\n",
       "      <td>NaN</td>\n",
       "      <td>NaN</td>\n",
       "      <td>NaN</td>\n",
       "    </tr>\n",
       "    <tr>\n",
       "      <th>5</th>\n",
       "      <td>354</td>\n",
       "      <td>ZTF18abcdxkm</td>\n",
       "      <td>2.458289e+06</td>\n",
       "      <td>1</td>\n",
       "      <td>534195112615</td>\n",
       "      <td>20.3525</td>\n",
       "      <td>1</td>\n",
       "      <td>534195112615015010</td>\n",
       "      <td>t</td>\n",
       "      <td>10</td>\n",
       "      <td>...</td>\n",
       "      <td>NaN</td>\n",
       "      <td>NaN</td>\n",
       "      <td>NaN</td>\n",
       "      <td>NaN</td>\n",
       "      <td>NaN</td>\n",
       "      <td>NaN</td>\n",
       "      <td>NaN</td>\n",
       "      <td>NaN</td>\n",
       "      <td>NaN</td>\n",
       "      <td>NaN</td>\n",
       "    </tr>\n",
       "    <tr>\n",
       "      <th>6</th>\n",
       "      <td>350</td>\n",
       "      <td>ZTF18abcdxkw</td>\n",
       "      <td>2.458289e+06</td>\n",
       "      <td>1</td>\n",
       "      <td>534195112515</td>\n",
       "      <td>20.4844</td>\n",
       "      <td>1</td>\n",
       "      <td>534195112515015019</td>\n",
       "      <td>t</td>\n",
       "      <td>19</td>\n",
       "      <td>...</td>\n",
       "      <td>NaN</td>\n",
       "      <td>NaN</td>\n",
       "      <td>NaN</td>\n",
       "      <td>NaN</td>\n",
       "      <td>NaN</td>\n",
       "      <td>NaN</td>\n",
       "      <td>NaN</td>\n",
       "      <td>NaN</td>\n",
       "      <td>NaN</td>\n",
       "      <td>NaN</td>\n",
       "    </tr>\n",
       "    <tr>\n",
       "      <th>7</th>\n",
       "      <td>346</td>\n",
       "      <td>ZTF18abcdxln</td>\n",
       "      <td>2.458289e+06</td>\n",
       "      <td>1</td>\n",
       "      <td>534195113415</td>\n",
       "      <td>20.5017</td>\n",
       "      <td>1</td>\n",
       "      <td>534195113415015014</td>\n",
       "      <td>t</td>\n",
       "      <td>14</td>\n",
       "      <td>...</td>\n",
       "      <td>NaN</td>\n",
       "      <td>NaN</td>\n",
       "      <td>NaN</td>\n",
       "      <td>NaN</td>\n",
       "      <td>NaN</td>\n",
       "      <td>NaN</td>\n",
       "      <td>NaN</td>\n",
       "      <td>NaN</td>\n",
       "      <td>NaN</td>\n",
       "      <td>NaN</td>\n",
       "    </tr>\n",
       "    <tr>\n",
       "      <th>9</th>\n",
       "      <td>341</td>\n",
       "      <td>ZTF18abcdxmd</td>\n",
       "      <td>2.458289e+06</td>\n",
       "      <td>1</td>\n",
       "      <td>534195112315</td>\n",
       "      <td>20.4401</td>\n",
       "      <td>1</td>\n",
       "      <td>534195112315015000</td>\n",
       "      <td>t</td>\n",
       "      <td>0</td>\n",
       "      <td>...</td>\n",
       "      <td>NaN</td>\n",
       "      <td>NaN</td>\n",
       "      <td>NaN</td>\n",
       "      <td>NaN</td>\n",
       "      <td>NaN</td>\n",
       "      <td>NaN</td>\n",
       "      <td>NaN</td>\n",
       "      <td>NaN</td>\n",
       "      <td>NaN</td>\n",
       "      <td>NaN</td>\n",
       "    </tr>\n",
       "    <tr>\n",
       "      <th>11</th>\n",
       "      <td>339</td>\n",
       "      <td>ZTF18abcdxlb</td>\n",
       "      <td>2.458289e+06</td>\n",
       "      <td>1</td>\n",
       "      <td>534195116015</td>\n",
       "      <td>20.3943</td>\n",
       "      <td>1</td>\n",
       "      <td>534195116015015011</td>\n",
       "      <td>t</td>\n",
       "      <td>11</td>\n",
       "      <td>...</td>\n",
       "      <td>NaN</td>\n",
       "      <td>NaN</td>\n",
       "      <td>NaN</td>\n",
       "      <td>NaN</td>\n",
       "      <td>NaN</td>\n",
       "      <td>NaN</td>\n",
       "      <td>NaN</td>\n",
       "      <td>NaN</td>\n",
       "      <td>NaN</td>\n",
       "      <td>NaN</td>\n",
       "    </tr>\n",
       "    <tr>\n",
       "      <th>15</th>\n",
       "      <td>378</td>\n",
       "      <td>ZTF18abcdxsa</td>\n",
       "      <td>2.458289e+06</td>\n",
       "      <td>1</td>\n",
       "      <td>534195113915</td>\n",
       "      <td>20.4780</td>\n",
       "      <td>1</td>\n",
       "      <td>534195113915015015</td>\n",
       "      <td>t</td>\n",
       "      <td>15</td>\n",
       "      <td>...</td>\n",
       "      <td>NaN</td>\n",
       "      <td>NaN</td>\n",
       "      <td>NaN</td>\n",
       "      <td>NaN</td>\n",
       "      <td>NaN</td>\n",
       "      <td>NaN</td>\n",
       "      <td>NaN</td>\n",
       "      <td>NaN</td>\n",
       "      <td>NaN</td>\n",
       "      <td>NaN</td>\n",
       "    </tr>\n",
       "  </tbody>\n",
       "</table>\n",
       "<p>10 rows × 101 columns</p>\n",
       "</div>"
      ],
      "text/plain": [
       "    index      objectId            jd  fid           pid  diffmaglim  \\\n",
       "0       0  ZTF18abcdwzp  2.458289e+06    3  534178763215     19.8391   \n",
       "1       2  ZTF18abcdxgz  2.458289e+06    3  534186883815     19.6875   \n",
       "2       1  ZTF18abcdxlq  2.458289e+06    1  534194142015     20.4920   \n",
       "3     344  ZTF18abcdxlx  2.458289e+06    1  534194655515     20.5510   \n",
       "5     354  ZTF18abcdxkm  2.458289e+06    1  534195112615     20.3525   \n",
       "6     350  ZTF18abcdxkw  2.458289e+06    1  534195112515     20.4844   \n",
       "7     346  ZTF18abcdxln  2.458289e+06    1  534195113415     20.5017   \n",
       "9     341  ZTF18abcdxmd  2.458289e+06    1  534195112315     20.4401   \n",
       "11    339  ZTF18abcdxlb  2.458289e+06    1  534195116015     20.3943   \n",
       "15    378  ZTF18abcdxsa  2.458289e+06    1  534195113915     20.4780   \n",
       "\n",
       "    programid              candid isdiffpos  tblid   ...     clrcounc  \\\n",
       "0           2  534178763215015012         t     12   ...          NaN   \n",
       "1           2  534186883815015006         t      6   ...          NaN   \n",
       "2           2  534194142015015009         t      9   ...          NaN   \n",
       "3           1  534194655515015006         t      6   ...          NaN   \n",
       "5           1  534195112615015010         t     10   ...          NaN   \n",
       "6           1  534195112515015019         t     19   ...          NaN   \n",
       "7           1  534195113415015014         t     14   ...          NaN   \n",
       "9           1  534195112315015000         t      0   ...          NaN   \n",
       "11          1  534195116015015011         t     11   ...          NaN   \n",
       "15          1  534195113915015015         t     15   ...          NaN   \n",
       "\n",
       "    zpclrcov  zpmed  clrmed  clrrms  neargaia  neargaiabright  maggaia  \\\n",
       "0        NaN    NaN     NaN     NaN       NaN             NaN      NaN   \n",
       "1        NaN    NaN     NaN     NaN       NaN             NaN      NaN   \n",
       "2        NaN    NaN     NaN     NaN       NaN             NaN      NaN   \n",
       "3        NaN    NaN     NaN     NaN       NaN             NaN      NaN   \n",
       "5        NaN    NaN     NaN     NaN       NaN             NaN      NaN   \n",
       "6        NaN    NaN     NaN     NaN       NaN             NaN      NaN   \n",
       "7        NaN    NaN     NaN     NaN       NaN             NaN      NaN   \n",
       "9        NaN    NaN     NaN     NaN       NaN             NaN      NaN   \n",
       "11       NaN    NaN     NaN     NaN       NaN             NaN      NaN   \n",
       "15       NaN    NaN     NaN     NaN       NaN             NaN      NaN   \n",
       "\n",
       "    maggaiabright  exptime  \n",
       "0             NaN      NaN  \n",
       "1             NaN      NaN  \n",
       "2             NaN      NaN  \n",
       "3             NaN      NaN  \n",
       "5             NaN      NaN  \n",
       "6             NaN      NaN  \n",
       "7             NaN      NaN  \n",
       "9             NaN      NaN  \n",
       "11            NaN      NaN  \n",
       "15            NaN      NaN  \n",
       "\n",
       "[10 rows x 101 columns]"
      ]
     },
     "execution_count": 10,
     "metadata": {},
     "output_type": "execute_result"
    }
   ],
   "source": [
    "df.head(10)"
   ]
  },
  {
   "cell_type": "code",
   "execution_count": 11,
   "metadata": {},
   "outputs": [],
   "source": [
    "columnMapping = {        \n",
    "        \n",
    "        # Observation ID\n",
    "        \"obs_id\" : \"obs_id\",\n",
    "        \n",
    "        # Exposure time\n",
    "        \"exp_mjd\" : \"exp_mjd\",\n",
    "        \n",
    "        # Visit ID\n",
    "        \"visit_id\" : \"visit_id\",\n",
    "        \n",
    "        # Field ID\n",
    "        \"field_id\" : \"field\",\n",
    "        \n",
    "        # Field RA in degrees\n",
    "        \"field_RA_deg\" : \"fieldRA_deg\",\n",
    "        \n",
    "        # Field Dec in degrees\n",
    "        \"field_Dec_deg\" : \"fieldDec_deg\",\n",
    "        \n",
    "        # Night number\n",
    "        \"night\": \"nid\",\n",
    "        \n",
    "        # RA in degrees\n",
    "        \"RA_deg\" : \"ra\",\n",
    "        \n",
    "        # Dec in degrees\n",
    "        \"Dec_deg\" : \"decl\",\n",
    "        \n",
    "        # Observer's x coordinate in AU\n",
    "        \"obs_x_au\" : \"HEclObsy_X_au\",\n",
    "        \n",
    "        # Observer's y coordinate in AU\n",
    "        \"obs_y_au\" : \"HEclObsy_Y_au\",\n",
    "        \n",
    "        # Observer's z coordinate in AU\n",
    "        \"obs_z_au\" : \"HEclObsy_Z_au\",\n",
    "        \n",
    "        # Magnitude (UNUSED)\n",
    "        \"mag\" : \"magpsf\",\n",
    "        \n",
    "        ### Truth Parameters\n",
    "        \n",
    "        # Object name\n",
    "        \"name\" : \"designation\",\n",
    "        \n",
    "        # Observer-object distance in AU\n",
    "        \"Delta_au\" : \"Delta_au\",\n",
    "        \n",
    "        # Sun-object distance in AU (heliocentric distance)\n",
    "        \"r_au\" : \"r_au\",\n",
    "        \n",
    "        # Object's x coordinate in AU\n",
    "        \"obj_x_au\" : \"HEclObj_X_au\",\n",
    "        \n",
    "        # Object's y coordinate in AU\n",
    "        \"obj_y_au\" : \"HEclObj_Y_au\",\n",
    "        \n",
    "        # Object's z coordinate in AU\n",
    "        \"obj_z_au\" : \"HEclObj_Z_au\",\n",
    "        \n",
    "        # Object's x velocity in AU per day\n",
    "        \"obj_dx/dt_au_p_day\" : \"HEclObj_dX/dt_au_p_day\",\n",
    "        \n",
    "        # Object's y velocity in AU per day\n",
    "        \"obj_dy/dt_au_p_day\" : \"HEclObj_dY/dt_au_p_day\",\n",
    "        \n",
    "        # Object's z velocity in AU per day\n",
    "        \"obj_dz/dt_au_p_day\" : \"HEclObj_dZ/dt_au_p_day\",\n",
    "        \n",
    "        # Semi-major axis\n",
    "        \"a_au\" : \"a_au\",\n",
    "        \n",
    "        # Inclination\n",
    "        \"i_deg\" : \"i_deg\",\n",
    "        \n",
    "        # Eccentricity\n",
    "        \"e\" : \"e\",\n",
    "    }\n",
    "\n",
    "def prepareZTFAlertsForTHOR(alerts):\n",
    "    # Sort by field and exposure time\n",
    "    alerts.sort_values(by=[\"field\", \"jd\"], inplace=True)\n",
    "    \n",
    "    # Add exposure time in MJD column\n",
    "    times = Time(alerts[\"jd\"], format=\"jd\", scale=\"utc\")\n",
    "    times = times.mjd\n",
    "    alerts[\"exp_mjd\"] = times\n",
    "    \n",
    "    # Only keep columns we want\n",
    "    alerts = alerts[[\"ra\", \"decl\", \"field\", \"nid\", \"jd\", \"exp_mjd\", \"magpsf\", \"sigmapsf\", \"fid\", \"ssnamenr\"]]\n",
    "    \n",
    "    # Read footprint and get field center locations\n",
    "    footprint = pd.read_csv(\"/epyc/projects/thor/ztf_information/field_grid/ZTF_Fields.txt\",\n",
    "                        delim_whitespace=True, \n",
    "                        skiprows=1,\n",
    "                        names=[\"field\", \"fieldRA_deg\", \"fieldDec_deg\", \"Ebv\", \"Gal Long\", \"Gal Lat\", \"Ecl Long\", \"Ecl Lat\" ,\"Entry\"])\n",
    "    footprint = footprint[[\"field\", \"fieldRA_deg\", \"fieldDec_deg\"]]\n",
    "    \n",
    "\n",
    "    survey = pd.DataFrame({\"exp_mjd\": alerts[\"exp_mjd\"].unique(), \"visit_id\" : np.arange(1, len(alerts[\"exp_mjd\"].unique()) + 1)})\n",
    "    eph = thor.propagateTestParticle([1, 1, 0, 0.0002, 0.0002, 0.000], 59580, survey[\"exp_mjd\"].values, observatoryCode=\"I41\")\n",
    "    survey = survey.merge(eph[[\"mjd\", 'HEclObsy_X_au', 'HEclObsy_Y_au', 'HEclObsy_Z_au']], left_on=\"exp_mjd\", right_on=\"mjd\")\n",
    "    \n",
    "    observations = alerts.merge(footprint, left_on=\"field\", right_on=\"field\")\n",
    "    observations = observations.merge(survey, on=\"exp_mjd\")\n",
    "\n",
    "    observations[\"obs_id\"] = np.arange(1, len(observations) + 1)\n",
    "    \n",
    "    return observations"
   ]
  },
  {
   "cell_type": "code",
   "execution_count": 12,
   "metadata": {},
   "outputs": [],
   "source": [
    "observations = prepareZTFAlertsForTHOR(df)\n",
    "del df"
   ]
  },
  {
   "cell_type": "code",
   "execution_count": 13,
   "metadata": {},
   "outputs": [],
   "source": [
    "observations.to_csv(\"../analysis/ztf/known_object_observations.txt\", sep=\" \", index=False)"
   ]
  },
  {
   "cell_type": "code",
   "execution_count": 14,
   "metadata": {},
   "outputs": [],
   "source": [
    "observations = pd.read_csv(\"../analysis/ztf/known_object_observations.txt\", sep=\" \", index_col=False)"
   ]
  },
  {
   "cell_type": "code",
   "execution_count": 15,
   "metadata": {},
   "outputs": [
    {
     "data": {
      "text/html": [
       "<div>\n",
       "<style scoped>\n",
       "    .dataframe tbody tr th:only-of-type {\n",
       "        vertical-align: middle;\n",
       "    }\n",
       "\n",
       "    .dataframe tbody tr th {\n",
       "        vertical-align: top;\n",
       "    }\n",
       "\n",
       "    .dataframe thead th {\n",
       "        text-align: right;\n",
       "    }\n",
       "</style>\n",
       "<table border=\"1\" class=\"dataframe\">\n",
       "  <thead>\n",
       "    <tr style=\"text-align: right;\">\n",
       "      <th></th>\n",
       "      <th>ra</th>\n",
       "      <th>decl</th>\n",
       "      <th>field</th>\n",
       "      <th>nid</th>\n",
       "      <th>jd</th>\n",
       "      <th>exp_mjd</th>\n",
       "      <th>magpsf</th>\n",
       "      <th>sigmapsf</th>\n",
       "      <th>fid</th>\n",
       "      <th>ssnamenr</th>\n",
       "      <th>fieldRA_deg</th>\n",
       "      <th>fieldDec_deg</th>\n",
       "      <th>visit_id</th>\n",
       "      <th>mjd</th>\n",
       "      <th>HEclObsy_X_au</th>\n",
       "      <th>HEclObsy_Y_au</th>\n",
       "      <th>HEclObsy_Z_au</th>\n",
       "      <th>obs_id</th>\n",
       "    </tr>\n",
       "  </thead>\n",
       "  <tbody>\n",
       "    <tr>\n",
       "      <th>0</th>\n",
       "      <td>3.424106</td>\n",
       "      <td>-24.019268</td>\n",
       "      <td>245</td>\n",
       "      <td>606</td>\n",
       "      <td>2.458361e+06</td>\n",
       "      <td>58360.399954</td>\n",
       "      <td>18.4710</td>\n",
       "      <td>0.132737</td>\n",
       "      <td>1</td>\n",
       "      <td>186910</td>\n",
       "      <td>1.16039</td>\n",
       "      <td>-24.25</td>\n",
       "      <td>1</td>\n",
       "      <td>58360.399954</td>\n",
       "      <td>0.927519</td>\n",
       "      <td>-0.399013</td>\n",
       "      <td>0.000036</td>\n",
       "      <td>1</td>\n",
       "    </tr>\n",
       "    <tr>\n",
       "      <th>1</th>\n",
       "      <td>1.823979</td>\n",
       "      <td>-26.530899</td>\n",
       "      <td>245</td>\n",
       "      <td>606</td>\n",
       "      <td>2.458361e+06</td>\n",
       "      <td>58360.399954</td>\n",
       "      <td>17.1856</td>\n",
       "      <td>0.050869</td>\n",
       "      <td>1</td>\n",
       "      <td>277529</td>\n",
       "      <td>1.16039</td>\n",
       "      <td>-24.25</td>\n",
       "      <td>1</td>\n",
       "      <td>58360.399954</td>\n",
       "      <td>0.927519</td>\n",
       "      <td>-0.399013</td>\n",
       "      <td>0.000036</td>\n",
       "      <td>2</td>\n",
       "    </tr>\n",
       "    <tr>\n",
       "      <th>2</th>\n",
       "      <td>2.427473</td>\n",
       "      <td>-24.440361</td>\n",
       "      <td>245</td>\n",
       "      <td>609</td>\n",
       "      <td>2.458364e+06</td>\n",
       "      <td>58363.334387</td>\n",
       "      <td>18.8113</td>\n",
       "      <td>0.129127</td>\n",
       "      <td>1</td>\n",
       "      <td>113739</td>\n",
       "      <td>1.16039</td>\n",
       "      <td>-24.25</td>\n",
       "      <td>2</td>\n",
       "      <td>58363.334387</td>\n",
       "      <td>0.945505</td>\n",
       "      <td>-0.352378</td>\n",
       "      <td>0.000039</td>\n",
       "      <td>3</td>\n",
       "    </tr>\n",
       "    <tr>\n",
       "      <th>3</th>\n",
       "      <td>0.060111</td>\n",
       "      <td>-26.851968</td>\n",
       "      <td>245</td>\n",
       "      <td>609</td>\n",
       "      <td>2.458364e+06</td>\n",
       "      <td>58363.334387</td>\n",
       "      <td>19.2119</td>\n",
       "      <td>0.144335</td>\n",
       "      <td>1</td>\n",
       "      <td>84685</td>\n",
       "      <td>1.16039</td>\n",
       "      <td>-24.25</td>\n",
       "      <td>2</td>\n",
       "      <td>58363.334387</td>\n",
       "      <td>0.945505</td>\n",
       "      <td>-0.352378</td>\n",
       "      <td>0.000039</td>\n",
       "      <td>4</td>\n",
       "    </tr>\n",
       "    <tr>\n",
       "      <th>4</th>\n",
       "      <td>2.551338</td>\n",
       "      <td>-24.995790</td>\n",
       "      <td>245</td>\n",
       "      <td>609</td>\n",
       "      <td>2.458364e+06</td>\n",
       "      <td>58363.334387</td>\n",
       "      <td>19.3703</td>\n",
       "      <td>0.172599</td>\n",
       "      <td>1</td>\n",
       "      <td>215529</td>\n",
       "      <td>1.16039</td>\n",
       "      <td>-24.25</td>\n",
       "      <td>2</td>\n",
       "      <td>58363.334387</td>\n",
       "      <td>0.945505</td>\n",
       "      <td>-0.352378</td>\n",
       "      <td>0.000039</td>\n",
       "      <td>5</td>\n",
       "    </tr>\n",
       "    <tr>\n",
       "      <th>5</th>\n",
       "      <td>1.749114</td>\n",
       "      <td>-27.423433</td>\n",
       "      <td>245</td>\n",
       "      <td>609</td>\n",
       "      <td>2.458364e+06</td>\n",
       "      <td>58363.334387</td>\n",
       "      <td>18.3123</td>\n",
       "      <td>0.097898</td>\n",
       "      <td>1</td>\n",
       "      <td>363132</td>\n",
       "      <td>1.16039</td>\n",
       "      <td>-24.25</td>\n",
       "      <td>2</td>\n",
       "      <td>58363.334387</td>\n",
       "      <td>0.945505</td>\n",
       "      <td>-0.352378</td>\n",
       "      <td>0.000039</td>\n",
       "      <td>6</td>\n",
       "    </tr>\n",
       "    <tr>\n",
       "      <th>6</th>\n",
       "      <td>359.865286</td>\n",
       "      <td>-26.278350</td>\n",
       "      <td>245</td>\n",
       "      <td>609</td>\n",
       "      <td>2.458364e+06</td>\n",
       "      <td>58363.334387</td>\n",
       "      <td>19.4659</td>\n",
       "      <td>0.201638</td>\n",
       "      <td>1</td>\n",
       "      <td>272471</td>\n",
       "      <td>1.16039</td>\n",
       "      <td>-24.25</td>\n",
       "      <td>2</td>\n",
       "      <td>58363.334387</td>\n",
       "      <td>0.945505</td>\n",
       "      <td>-0.352378</td>\n",
       "      <td>0.000039</td>\n",
       "      <td>7</td>\n",
       "    </tr>\n",
       "    <tr>\n",
       "      <th>7</th>\n",
       "      <td>357.542321</td>\n",
       "      <td>-24.481701</td>\n",
       "      <td>245</td>\n",
       "      <td>609</td>\n",
       "      <td>2.458364e+06</td>\n",
       "      <td>58363.334387</td>\n",
       "      <td>19.5034</td>\n",
       "      <td>0.155812</td>\n",
       "      <td>1</td>\n",
       "      <td>360331</td>\n",
       "      <td>1.16039</td>\n",
       "      <td>-24.25</td>\n",
       "      <td>2</td>\n",
       "      <td>58363.334387</td>\n",
       "      <td>0.945505</td>\n",
       "      <td>-0.352378</td>\n",
       "      <td>0.000039</td>\n",
       "      <td>8</td>\n",
       "    </tr>\n",
       "    <tr>\n",
       "      <th>8</th>\n",
       "      <td>1.420715</td>\n",
       "      <td>-26.591735</td>\n",
       "      <td>245</td>\n",
       "      <td>609</td>\n",
       "      <td>2.458364e+06</td>\n",
       "      <td>58363.334387</td>\n",
       "      <td>18.1973</td>\n",
       "      <td>0.076538</td>\n",
       "      <td>1</td>\n",
       "      <td>233487</td>\n",
       "      <td>1.16039</td>\n",
       "      <td>-24.25</td>\n",
       "      <td>2</td>\n",
       "      <td>58363.334387</td>\n",
       "      <td>0.945505</td>\n",
       "      <td>-0.352378</td>\n",
       "      <td>0.000039</td>\n",
       "      <td>9</td>\n",
       "    </tr>\n",
       "    <tr>\n",
       "      <th>9</th>\n",
       "      <td>2.085536</td>\n",
       "      <td>-27.214909</td>\n",
       "      <td>245</td>\n",
       "      <td>609</td>\n",
       "      <td>2.458364e+06</td>\n",
       "      <td>58363.334387</td>\n",
       "      <td>17.1913</td>\n",
       "      <td>0.055068</td>\n",
       "      <td>1</td>\n",
       "      <td>277529</td>\n",
       "      <td>1.16039</td>\n",
       "      <td>-24.25</td>\n",
       "      <td>2</td>\n",
       "      <td>58363.334387</td>\n",
       "      <td>0.945505</td>\n",
       "      <td>-0.352378</td>\n",
       "      <td>0.000039</td>\n",
       "      <td>10</td>\n",
       "    </tr>\n",
       "  </tbody>\n",
       "</table>\n",
       "</div>"
      ],
      "text/plain": [
       "           ra       decl  field  nid            jd       exp_mjd   magpsf  \\\n",
       "0    3.424106 -24.019268    245  606  2.458361e+06  58360.399954  18.4710   \n",
       "1    1.823979 -26.530899    245  606  2.458361e+06  58360.399954  17.1856   \n",
       "2    2.427473 -24.440361    245  609  2.458364e+06  58363.334387  18.8113   \n",
       "3    0.060111 -26.851968    245  609  2.458364e+06  58363.334387  19.2119   \n",
       "4    2.551338 -24.995790    245  609  2.458364e+06  58363.334387  19.3703   \n",
       "5    1.749114 -27.423433    245  609  2.458364e+06  58363.334387  18.3123   \n",
       "6  359.865286 -26.278350    245  609  2.458364e+06  58363.334387  19.4659   \n",
       "7  357.542321 -24.481701    245  609  2.458364e+06  58363.334387  19.5034   \n",
       "8    1.420715 -26.591735    245  609  2.458364e+06  58363.334387  18.1973   \n",
       "9    2.085536 -27.214909    245  609  2.458364e+06  58363.334387  17.1913   \n",
       "\n",
       "   sigmapsf  fid ssnamenr  fieldRA_deg  fieldDec_deg  visit_id           mjd  \\\n",
       "0  0.132737    1   186910      1.16039        -24.25         1  58360.399954   \n",
       "1  0.050869    1   277529      1.16039        -24.25         1  58360.399954   \n",
       "2  0.129127    1   113739      1.16039        -24.25         2  58363.334387   \n",
       "3  0.144335    1    84685      1.16039        -24.25         2  58363.334387   \n",
       "4  0.172599    1   215529      1.16039        -24.25         2  58363.334387   \n",
       "5  0.097898    1   363132      1.16039        -24.25         2  58363.334387   \n",
       "6  0.201638    1   272471      1.16039        -24.25         2  58363.334387   \n",
       "7  0.155812    1   360331      1.16039        -24.25         2  58363.334387   \n",
       "8  0.076538    1   233487      1.16039        -24.25         2  58363.334387   \n",
       "9  0.055068    1   277529      1.16039        -24.25         2  58363.334387   \n",
       "\n",
       "   HEclObsy_X_au  HEclObsy_Y_au  HEclObsy_Z_au  obs_id  \n",
       "0       0.927519      -0.399013       0.000036       1  \n",
       "1       0.927519      -0.399013       0.000036       2  \n",
       "2       0.945505      -0.352378       0.000039       3  \n",
       "3       0.945505      -0.352378       0.000039       4  \n",
       "4       0.945505      -0.352378       0.000039       5  \n",
       "5       0.945505      -0.352378       0.000039       6  \n",
       "6       0.945505      -0.352378       0.000039       7  \n",
       "7       0.945505      -0.352378       0.000039       8  \n",
       "8       0.945505      -0.352378       0.000039       9  \n",
       "9       0.945505      -0.352378       0.000039      10  "
      ]
     },
     "execution_count": 15,
     "metadata": {},
     "output_type": "execute_result"
    }
   ],
   "source": [
    "observations.head(10)"
   ]
  },
  {
   "cell_type": "code",
   "execution_count": 16,
   "metadata": {},
   "outputs": [
    {
     "data": {
      "text/plain": [
       "119688"
      ]
     },
     "execution_count": 16,
     "metadata": {},
     "output_type": "execute_result"
    }
   ],
   "source": [
    "# Unique solar system objects in ZTF alerts\n",
    "observations[\"ssnamenr\"].nunique()"
   ]
  },
  {
   "cell_type": "code",
   "execution_count": 17,
   "metadata": {},
   "outputs": [
    {
     "data": {
      "text/plain": [
       "array(['67779', '39155', '3376', '30656', '176737', '67973', '8355',\n",
       "       '209930', '31278', '7384', '30892', '45991', '16131', '686',\n",
       "       '13157', '81930', '28904', '120295', '122302', '5632'],\n",
       "      dtype=object)"
      ]
     },
     "execution_count": 17,
     "metadata": {},
     "output_type": "execute_result"
    }
   ],
   "source": [
    "# Multiple formats for ssnamenr field in alerts db\n",
    "np.random.choice(observations[observations[\"ssnamenr\"].str.isnumeric()][\"ssnamenr\"].values, 20)"
   ]
  },
  {
   "cell_type": "code",
   "execution_count": 18,
   "metadata": {},
   "outputs": [
    {
     "data": {
      "text/plain": [
       "array(['2017SN14', '2018RG31', '2001QU158', '2015AV00', '2014UT163',\n",
       "       '2005WB159', '2007RK54', '2018NP04', '2014UM217', '2006KU15',\n",
       "       '2018QE01', '2010MY99', '2012KC52', '2005UN353', '2013SK101',\n",
       "       '2013VW09', '2005ON04', '2015AA253', '2014SH210', '2017DP37'],\n",
       "      dtype=object)"
      ]
     },
     "execution_count": 18,
     "metadata": {},
     "output_type": "execute_result"
    }
   ],
   "source": [
    "np.random.choice(observations[~observations[\"ssnamenr\"].str.isnumeric()][\"ssnamenr\"].values, 20)"
   ]
  },
  {
   "cell_type": "code",
   "execution_count": 19,
   "metadata": {},
   "outputs": [],
   "source": [
    "mpcorb = thor.readMPCORBFile(\"../analysis/ztf/MPCORB_20181106.DAT\")\n",
    "# Drop two NaN rows... (population split)\n",
    "mpcorb.drop(index=mpcorb[mpcorb[\"designation\"].isna()].index, inplace=True)"
   ]
  },
  {
   "cell_type": "code",
   "execution_count": 20,
   "metadata": {},
   "outputs": [
    {
     "data": {
      "text/plain": [
       "array(['37371', '03607', '49602', '49277', '66854', '14568', '61268',\n",
       "       '36617', '84323', '38730', '28436', '62971', '09948', '44699',\n",
       "       '28251', '97663', '74894', '99171', '34166', '88404'], dtype=object)"
      ]
     },
     "execution_count": 20,
     "metadata": {},
     "output_type": "execute_result"
    }
   ],
   "source": [
    "np.random.choice(mpcorb[mpcorb[\"designation\"].str.isnumeric()][\"designation\"].values, 20)"
   ]
  },
  {
   "cell_type": "code",
   "execution_count": 21,
   "metadata": {},
   "outputs": [
    {
     "data": {
      "text/plain": [
       "array(['K12XF6E', 'K16W34S', 'e6701', 'l3836', 'N1475', 'K07VC2O',\n",
       "       'c8970', 'h9970', 'i8292', 'V0449', 'I3702', 'S7105', 'K18R37K',\n",
       "       'K5017', 'K05U03T', 'T4418', 'V2813', 'K14KA6Q', 'c6722', 'l5753'],\n",
       "      dtype=object)"
      ]
     },
     "execution_count": 21,
     "metadata": {},
     "output_type": "execute_result"
    }
   ],
   "source": [
    "np.random.choice(mpcorb[~mpcorb[\"designation\"].str.isnumeric()][\"designation\"].values, 20)"
   ]
  },
  {
   "cell_type": "code",
   "execution_count": 22,
   "metadata": {},
   "outputs": [
    {
     "data": {
      "text/plain": [
       "array([], dtype=object)"
      ]
     },
     "execution_count": 22,
     "metadata": {},
     "output_type": "execute_result"
    }
   ],
   "source": [
    "mpcorb[mpcorb[\"readableDesignation\"].str.isnumeric()][\"readableDesignation\"].values"
   ]
  },
  {
   "cell_type": "code",
   "execution_count": 23,
   "metadata": {},
   "outputs": [
    {
     "data": {
      "text/plain": [
       "array(['(433231) 2012 VT14', '(153846) 2001 XL42', '2008 CL14',\n",
       "       '(492320) 2014 BF47', '2013 KM18', '(300607) 2007 TA441',\n",
       "       '2014 RL42', '(307154) 2002 CF286', '(419129) 2009 SU240',\n",
       "       '(206933) 2004 RS49', '(326329) 2000 EY15', '(91967) 1999 VZ91',\n",
       "       '(80795) 2000 CE87', '(413356) 2003 YY67', '2016 TN78',\n",
       "       '(124747) 2001 SP211', '2008 SH297', '(437218) 2012 WJ23',\n",
       "       '2014 UV57', '2002 VX116'], dtype=object)"
      ]
     },
     "execution_count": 23,
     "metadata": {},
     "output_type": "execute_result"
    }
   ],
   "source": [
    "np.random.choice(mpcorb[~mpcorb[\"readableDesignation\"].str.isnumeric()][\"readableDesignation\"].values, 20)"
   ]
  },
  {
   "cell_type": "code",
   "execution_count": 24,
   "metadata": {},
   "outputs": [],
   "source": [
    "# Do pandas magic... \n",
    "split_readable_designation = mpcorb[\"readableDesignation\"].str.split(\" \", expand=True)\n",
    "mpcorb.loc[split_readable_designation[0].str.contains(\"\\(\"), \"splitname\"] = split_readable_designation[0]\n",
    "mpcorb.loc[~mpcorb[\"splitname\"].isna(), \"splitname\"] = mpcorb[~mpcorb[\"splitname\"].isna()][\"splitname\"].map(lambda x: x.lstrip('\\(').rstrip('\\)'))\n",
    "mpcorb.loc[(~mpcorb[\"readableDesignation\"].str.contains(\"\\(\")) \n",
    "           & (mpcorb[\"readableDesignation\"].str.contains(\" \")), \"splitname\"] = mpcorb[(~mpcorb[\"readableDesignation\"].str.contains(\"\\(\")) \n",
    "                                                                                      & (mpcorb[\"readableDesignation\"].str.contains(\" \"))][\"readableDesignation\"].str.replace(\" \", \"\")"
   ]
  },
  {
   "cell_type": "code",
   "execution_count": 25,
   "metadata": {},
   "outputs": [],
   "source": [
    "observations = observations.merge(mpcorb[[\"designation\", \"splitname\"]], left_on=\"ssnamenr\", right_on=\"splitname\", how='left')"
   ]
  },
  {
   "cell_type": "code",
   "execution_count": 26,
   "metadata": {},
   "outputs": [
    {
     "data": {
      "text/plain": [
       "119688"
      ]
     },
     "execution_count": 26,
     "metadata": {},
     "output_type": "execute_result"
    }
   ],
   "source": [
    "observations[\"ssnamenr\"].nunique()"
   ]
  },
  {
   "cell_type": "code",
   "execution_count": 27,
   "metadata": {},
   "outputs": [
    {
     "data": {
      "text/plain": [
       "118325"
      ]
     },
     "execution_count": 27,
     "metadata": {},
     "output_type": "execute_result"
    }
   ],
   "source": [
    "observations[\"designation\"].nunique()"
   ]
  },
  {
   "cell_type": "code",
   "execution_count": 28,
   "metadata": {},
   "outputs": [
    {
     "data": {
      "text/html": [
       "<div>\n",
       "<style scoped>\n",
       "    .dataframe tbody tr th:only-of-type {\n",
       "        vertical-align: middle;\n",
       "    }\n",
       "\n",
       "    .dataframe tbody tr th {\n",
       "        vertical-align: top;\n",
       "    }\n",
       "\n",
       "    .dataframe thead th {\n",
       "        text-align: right;\n",
       "    }\n",
       "</style>\n",
       "<table border=\"1\" class=\"dataframe\">\n",
       "  <thead>\n",
       "    <tr style=\"text-align: right;\">\n",
       "      <th></th>\n",
       "      <th>ra</th>\n",
       "      <th>decl</th>\n",
       "      <th>field</th>\n",
       "      <th>nid</th>\n",
       "      <th>jd</th>\n",
       "      <th>exp_mjd</th>\n",
       "      <th>magpsf</th>\n",
       "      <th>sigmapsf</th>\n",
       "      <th>fid</th>\n",
       "      <th>ssnamenr</th>\n",
       "      <th>fieldRA_deg</th>\n",
       "      <th>fieldDec_deg</th>\n",
       "      <th>visit_id</th>\n",
       "      <th>mjd</th>\n",
       "      <th>HEclObsy_X_au</th>\n",
       "      <th>HEclObsy_Y_au</th>\n",
       "      <th>HEclObsy_Z_au</th>\n",
       "      <th>obs_id</th>\n",
       "      <th>designation</th>\n",
       "      <th>splitname</th>\n",
       "    </tr>\n",
       "  </thead>\n",
       "  <tbody>\n",
       "    <tr>\n",
       "      <th>0</th>\n",
       "      <td>3.424106</td>\n",
       "      <td>-24.019268</td>\n",
       "      <td>245</td>\n",
       "      <td>606</td>\n",
       "      <td>2.458361e+06</td>\n",
       "      <td>58360.399954</td>\n",
       "      <td>18.4710</td>\n",
       "      <td>0.132737</td>\n",
       "      <td>1</td>\n",
       "      <td>186910</td>\n",
       "      <td>1.16039</td>\n",
       "      <td>-24.25</td>\n",
       "      <td>1</td>\n",
       "      <td>58360.399954</td>\n",
       "      <td>0.927519</td>\n",
       "      <td>-0.399013</td>\n",
       "      <td>0.000036</td>\n",
       "      <td>1</td>\n",
       "      <td>I6910</td>\n",
       "      <td>186910</td>\n",
       "    </tr>\n",
       "    <tr>\n",
       "      <th>1</th>\n",
       "      <td>1.823979</td>\n",
       "      <td>-26.530899</td>\n",
       "      <td>245</td>\n",
       "      <td>606</td>\n",
       "      <td>2.458361e+06</td>\n",
       "      <td>58360.399954</td>\n",
       "      <td>17.1856</td>\n",
       "      <td>0.050869</td>\n",
       "      <td>1</td>\n",
       "      <td>277529</td>\n",
       "      <td>1.16039</td>\n",
       "      <td>-24.25</td>\n",
       "      <td>1</td>\n",
       "      <td>58360.399954</td>\n",
       "      <td>0.927519</td>\n",
       "      <td>-0.399013</td>\n",
       "      <td>0.000036</td>\n",
       "      <td>2</td>\n",
       "      <td>R7529</td>\n",
       "      <td>277529</td>\n",
       "    </tr>\n",
       "    <tr>\n",
       "      <th>2</th>\n",
       "      <td>2.427473</td>\n",
       "      <td>-24.440361</td>\n",
       "      <td>245</td>\n",
       "      <td>609</td>\n",
       "      <td>2.458364e+06</td>\n",
       "      <td>58363.334387</td>\n",
       "      <td>18.8113</td>\n",
       "      <td>0.129127</td>\n",
       "      <td>1</td>\n",
       "      <td>113739</td>\n",
       "      <td>1.16039</td>\n",
       "      <td>-24.25</td>\n",
       "      <td>2</td>\n",
       "      <td>58363.334387</td>\n",
       "      <td>0.945505</td>\n",
       "      <td>-0.352378</td>\n",
       "      <td>0.000039</td>\n",
       "      <td>3</td>\n",
       "      <td>B3739</td>\n",
       "      <td>113739</td>\n",
       "    </tr>\n",
       "    <tr>\n",
       "      <th>3</th>\n",
       "      <td>0.060111</td>\n",
       "      <td>-26.851968</td>\n",
       "      <td>245</td>\n",
       "      <td>609</td>\n",
       "      <td>2.458364e+06</td>\n",
       "      <td>58363.334387</td>\n",
       "      <td>19.2119</td>\n",
       "      <td>0.144335</td>\n",
       "      <td>1</td>\n",
       "      <td>84685</td>\n",
       "      <td>1.16039</td>\n",
       "      <td>-24.25</td>\n",
       "      <td>2</td>\n",
       "      <td>58363.334387</td>\n",
       "      <td>0.945505</td>\n",
       "      <td>-0.352378</td>\n",
       "      <td>0.000039</td>\n",
       "      <td>4</td>\n",
       "      <td>84685</td>\n",
       "      <td>84685</td>\n",
       "    </tr>\n",
       "    <tr>\n",
       "      <th>4</th>\n",
       "      <td>2.551338</td>\n",
       "      <td>-24.995790</td>\n",
       "      <td>245</td>\n",
       "      <td>609</td>\n",
       "      <td>2.458364e+06</td>\n",
       "      <td>58363.334387</td>\n",
       "      <td>19.3703</td>\n",
       "      <td>0.172599</td>\n",
       "      <td>1</td>\n",
       "      <td>215529</td>\n",
       "      <td>1.16039</td>\n",
       "      <td>-24.25</td>\n",
       "      <td>2</td>\n",
       "      <td>58363.334387</td>\n",
       "      <td>0.945505</td>\n",
       "      <td>-0.352378</td>\n",
       "      <td>0.000039</td>\n",
       "      <td>5</td>\n",
       "      <td>L5529</td>\n",
       "      <td>215529</td>\n",
       "    </tr>\n",
       "  </tbody>\n",
       "</table>\n",
       "</div>"
      ],
      "text/plain": [
       "         ra       decl  field  nid            jd       exp_mjd   magpsf  \\\n",
       "0  3.424106 -24.019268    245  606  2.458361e+06  58360.399954  18.4710   \n",
       "1  1.823979 -26.530899    245  606  2.458361e+06  58360.399954  17.1856   \n",
       "2  2.427473 -24.440361    245  609  2.458364e+06  58363.334387  18.8113   \n",
       "3  0.060111 -26.851968    245  609  2.458364e+06  58363.334387  19.2119   \n",
       "4  2.551338 -24.995790    245  609  2.458364e+06  58363.334387  19.3703   \n",
       "\n",
       "   sigmapsf  fid ssnamenr  fieldRA_deg  fieldDec_deg  visit_id           mjd  \\\n",
       "0  0.132737    1   186910      1.16039        -24.25         1  58360.399954   \n",
       "1  0.050869    1   277529      1.16039        -24.25         1  58360.399954   \n",
       "2  0.129127    1   113739      1.16039        -24.25         2  58363.334387   \n",
       "3  0.144335    1    84685      1.16039        -24.25         2  58363.334387   \n",
       "4  0.172599    1   215529      1.16039        -24.25         2  58363.334387   \n",
       "\n",
       "   HEclObsy_X_au  HEclObsy_Y_au  HEclObsy_Z_au  obs_id designation splitname  \n",
       "0       0.927519      -0.399013       0.000036       1       I6910    186910  \n",
       "1       0.927519      -0.399013       0.000036       2       R7529    277529  \n",
       "2       0.945505      -0.352378       0.000039       3       B3739    113739  \n",
       "3       0.945505      -0.352378       0.000039       4       84685     84685  \n",
       "4       0.945505      -0.352378       0.000039       5       L5529    215529  "
      ]
     },
     "execution_count": 28,
     "metadata": {},
     "output_type": "execute_result"
    }
   ],
   "source": [
    "observations.head()"
   ]
  },
  {
   "cell_type": "code",
   "execution_count": 29,
   "metadata": {},
   "outputs": [],
   "source": [
    "observations.to_csv(\"../analysis/ztf/known_object_observations.txt\", sep=\" \", index=False)"
   ]
  },
  {
   "cell_type": "code",
   "execution_count": 30,
   "metadata": {},
   "outputs": [],
   "source": [
    "observations = pd.read_csv(\"../analysis/ztf/known_object_observations.txt\", sep=\" \", index_col=False)"
   ]
  },
  {
   "cell_type": "code",
   "execution_count": null,
   "metadata": {},
   "outputs": [],
   "source": [
    "! oorb --task=mpcorb --mpcorb=../analysis/ztf/MPCORB_20181106.DAT --orb-out=../analysis/ztf/MPCORB_20181106.orb --conf=../analysis/ztf/oorb.conf"
   ]
  },
  {
   "cell_type": "code",
   "execution_count": null,
   "metadata": {},
   "outputs": [],
   "source": [
    "fig, ax = plt.subplots(1, 1) \n",
    "hist = ax.hist(observations[\"nid\"].values, bins=100)\n",
    "ax.set_xlabel(\"Night ID\")\n",
    "ax.set_ylabel(\"Number of Observations\")\n",
    "ax.vlines([610, 624], 0, 60000)"
   ]
  },
  {
   "cell_type": "code",
   "execution_count": 31,
   "metadata": {},
   "outputs": [],
   "source": [
    "observations = observations[(observations[\"nid\"] >= 610) & (observations[\"nid\"] <= 624)]"
   ]
  },
  {
   "cell_type": "code",
   "execution_count": 32,
   "metadata": {},
   "outputs": [],
   "source": [
    "observations.to_csv(\"../analysis/ztf/known_object_observations_nid_610_624.txt\", sep=\" \", index=False)"
   ]
  },
  {
   "cell_type": "code",
   "execution_count": 33,
   "metadata": {},
   "outputs": [],
   "source": [
    "observations = pd.read_csv(\"../analysis/ztf/known_object_observations_nid_610_624.txt\", sep=\" \", index_col=False)"
   ]
  },
  {
   "cell_type": "code",
   "execution_count": null,
   "metadata": {},
   "outputs": [],
   "source": [
    "observations.sort_values(by=\"mjd\", inplace=True)"
   ]
  },
  {
   "cell_type": "code",
   "execution_count": null,
   "metadata": {},
   "outputs": [],
   "source": [
    "observations[\"mjd\"].min()"
   ]
  },
  {
   "cell_type": "code",
   "execution_count": null,
   "metadata": {},
   "outputs": [],
   "source": [
    "fig, ax = thor.plotObservations(observations, columnMapping=columnMapping, usePlotly=False)"
   ]
  },
  {
   "cell_type": "code",
   "execution_count": null,
   "metadata": {},
   "outputs": [],
   "source": [
    "! oorb --task=propagation --orb-in=../analysis/ztf/MPCORB_20181106.orb --epoch-mjd-utc=58364.13048609997 --orb-out=../analysis/ztf/MPCORB_20181106_ZTF.orb --conf=/epyc/opt/oorb/main/oorb.conf "
   ]
  },
  {
   "cell_type": "code",
   "execution_count": null,
   "metadata": {},
   "outputs": [],
   "source": [
    "# We also want keplerian elements\n",
    "! oorb --task=propagation --orb-in=../analysis/ztf/MPCORB_20181106.orb --epoch-mjd-utc=58364.13048609997 --orb-out=../analysis/ztf/MPCORB_20181106_ZTF_keplerian.orb --conf=../analysis/ztf/oorb.conf "
   ]
  },
  {
   "cell_type": "code",
   "execution_count": null,
   "metadata": {},
   "outputs": [],
   "source": [
    "! oorb --task=ephemeris --code=I41 --orb-in=../analysis/ztf/MPCORB_20181106_ZTF.orb --conf=../analysis/ztf/oorb.conf > ../analysis/ztf/MPCORB_20181106_ZTF.eph"
   ]
  },
  {
   "cell_type": "code",
   "execution_count": null,
   "metadata": {},
   "outputs": [],
   "source": [
    "simulated = thor.readEPHFile(\"../analysis/ztf/MPCORB_20181106_ZTF.eph\")"
   ]
  },
  {
   "cell_type": "code",
   "execution_count": null,
   "metadata": {},
   "outputs": [],
   "source": [
    "simulated[simulated[\"designation\"].isin(observations[\"designation\"].unique())].to_csv(\"../analysis/ztf/known_object_observations_nid_610_624.eph\", sep=\" \", index=False)"
   ]
  },
  {
   "cell_type": "code",
   "execution_count": null,
   "metadata": {},
   "outputs": [],
   "source": [
    "orbits = thor.readORBFile(\"../analysis/ztf/MPCORB_20181106_ZTF_keplerian.orb\")"
   ]
  },
  {
   "cell_type": "code",
   "execution_count": null,
   "metadata": {},
   "outputs": [],
   "source": [
    "orbits[orbits[\"designation\"].isin(observations[\"designation\"].unique())].to_csv(\"../analysis/ztf/known_object_observations_nid_610_624.orb\", sep=\" \", index=False)"
   ]
  },
  {
   "cell_type": "code",
   "execution_count": null,
   "metadata": {},
   "outputs": [],
   "source": []
  },
  {
   "cell_type": "code",
   "execution_count": 34,
   "metadata": {},
   "outputs": [
    {
     "name": "stdout",
     "output_type": "stream",
     "text": [
      "4966353\n"
     ]
    }
   ],
   "source": [
    "# Read alerts for solar system objects from after the photometry fix \n",
    "sso_alert_fix_date1 = Time('2018-05-16T23:30:00', format='isot', scale='utc') # first attribution fix\n",
    "sso_alert_fix_date2 = Time('2018-06-08T23:30:00', format='isot', scale='utc') # second attribution fix\n",
    "sso_alert_phot_fix_date = Time('2018-06-18T23:30:00', format='isot', scale='utc') # photometry fix date\n",
    "\n",
    "jd_good = sso_alert_phot_fix_date.jd\n",
    "#ssdistnr >= 0 \n",
    "df = pd.read_sql_query('select * from alerts where jd > {} and nid >= 610 and nid <= 624'.format(jd_good), con)\n",
    "print(len(df))"
   ]
  },
  {
   "cell_type": "code",
   "execution_count": 35,
   "metadata": {},
   "outputs": [],
   "source": [
    "df.sort_values(by=[\"jd\"], inplace=True)\n",
    "df.reset_index(inplace=True)"
   ]
  },
  {
   "cell_type": "code",
   "execution_count": 36,
   "metadata": {},
   "outputs": [],
   "source": [
    "df = df[(df[\"rb\"] >= 0.5) & (df[\"ndethist\"] <= 4)]"
   ]
  },
  {
   "cell_type": "code",
   "execution_count": 37,
   "metadata": {},
   "outputs": [],
   "source": [
    "observations = prepareZTFAlertsForTHOR(df)\n",
    "del df"
   ]
  },
  {
   "cell_type": "code",
   "execution_count": 38,
   "metadata": {},
   "outputs": [],
   "source": [
    "observations.to_csv(\"../analysis/ztf/observations_nid_610_624.txt\", sep=\" \", index=False)"
   ]
  },
  {
   "cell_type": "code",
   "execution_count": 39,
   "metadata": {},
   "outputs": [
    {
     "data": {
      "text/plain": [
       "62871"
      ]
     },
     "execution_count": 39,
     "metadata": {},
     "output_type": "execute_result"
    }
   ],
   "source": [
    "# Unique solar system objects in ZTF alerts\n",
    "observations[\"ssnamenr\"].nunique()"
   ]
  },
  {
   "cell_type": "code",
   "execution_count": 40,
   "metadata": {},
   "outputs": [
    {
     "data": {
      "text/plain": [
       "array(['427000', '302524', '323441', '38023', '334112', '40378', '281737',\n",
       "       '205275', '102276', '114162', '128283', '466213', '200133',\n",
       "       '53808', '368839', '87995', '66299', '318586', '67563', '146473'],\n",
       "      dtype=object)"
      ]
     },
     "execution_count": 40,
     "metadata": {},
     "output_type": "execute_result"
    }
   ],
   "source": [
    "# Multiple formats for ssnamenr field in alerts db\n",
    "np.random.choice(observations[observations[\"ssnamenr\"].str.isnumeric()][\"ssnamenr\"].values, 20)"
   ]
  },
  {
   "cell_type": "code",
   "execution_count": 41,
   "metadata": {},
   "outputs": [
    {
     "data": {
      "text/plain": [
       "array(['', '', '', '', '', '', '', '', '', '', '', '', '', '', '', '', '',\n",
       "       '', '', ''], dtype=object)"
      ]
     },
     "execution_count": 41,
     "metadata": {},
     "output_type": "execute_result"
    }
   ],
   "source": [
    "np.random.choice(observations[~observations[\"ssnamenr\"].str.isnumeric()][\"ssnamenr\"].values, 20)"
   ]
  },
  {
   "cell_type": "code",
   "execution_count": 42,
   "metadata": {},
   "outputs": [],
   "source": [
    "mpcorb = thor.readMPCORBFile(\"../analysis/ztf/MPCORB_20181106.DAT\")\n",
    "# Drop two NaN rows... (population split)\n",
    "mpcorb.drop(index=mpcorb[mpcorb[\"designation\"].isna()].index, inplace=True)"
   ]
  },
  {
   "cell_type": "code",
   "execution_count": 43,
   "metadata": {},
   "outputs": [
    {
     "data": {
      "text/plain": [
       "array(['42597', '34644', '61906', '01234', '76301', '42388', '51905',\n",
       "       '84168', '20510', '33653', '03594', '24624', '13445', '15519',\n",
       "       '60836', '18693', '79488', '17862', '50324', '07005'], dtype=object)"
      ]
     },
     "execution_count": 43,
     "metadata": {},
     "output_type": "execute_result"
    }
   ],
   "source": [
    "np.random.choice(mpcorb[mpcorb[\"designation\"].str.isnumeric()][\"designation\"].values, 20)"
   ]
  },
  {
   "cell_type": "code",
   "execution_count": 44,
   "metadata": {},
   "outputs": [
    {
     "data": {
      "text/plain": [
       "array(['l4479', 'j7915', 'K15TZ3N', 'K1855', 'm8011', 'K03WI2H',\n",
       "       'K10F08P', 'E1811', 'R0511', 'K16G75Y', 'Z8057', 'X0960', 'g1756',\n",
       "       'H3325', 'M6609', 'i0965', 'S4696', 'K07M08Q', 'd5228', 'j6240'],\n",
       "      dtype=object)"
      ]
     },
     "execution_count": 44,
     "metadata": {},
     "output_type": "execute_result"
    }
   ],
   "source": [
    "np.random.choice(mpcorb[~mpcorb[\"designation\"].str.isnumeric()][\"designation\"].values, 20)"
   ]
  },
  {
   "cell_type": "code",
   "execution_count": 45,
   "metadata": {},
   "outputs": [
    {
     "data": {
      "text/plain": [
       "array([], dtype=object)"
      ]
     },
     "execution_count": 45,
     "metadata": {},
     "output_type": "execute_result"
    }
   ],
   "source": [
    "mpcorb[mpcorb[\"readableDesignation\"].str.isnumeric()][\"readableDesignation\"].values"
   ]
  },
  {
   "cell_type": "code",
   "execution_count": 46,
   "metadata": {},
   "outputs": [
    {
     "data": {
      "text/plain": [
       "array(['2008 TO169', '2016 PC102', '(377796) 2006 AW32',\n",
       "       '(472647) 2015 DA213', '2015 BC481', '(474146) 1998 RF13',\n",
       "       '(302690) 2002 TE75', '2011 CL46', '(397381) 2006 UA361',\n",
       "       '(376137) 2011 AW68', '(18756) 1999 GY34', '(279201) 2009 TF42',\n",
       "       '2008 TA107', '(134317) 4117 T-1', '2016 YG8', '2016 EB229',\n",
       "       '(367492) 2009 HB30', '2014 QS144', '(335073) 2004 RT293',\n",
       "       '(179496) 2002 CT69'], dtype=object)"
      ]
     },
     "execution_count": 46,
     "metadata": {},
     "output_type": "execute_result"
    }
   ],
   "source": [
    "np.random.choice(mpcorb[~mpcorb[\"readableDesignation\"].str.isnumeric()][\"readableDesignation\"].values, 20)"
   ]
  },
  {
   "cell_type": "code",
   "execution_count": 47,
   "metadata": {},
   "outputs": [],
   "source": [
    "# Do pandas magic... \n",
    "split_readable_designation = mpcorb[\"readableDesignation\"].str.split(\" \", expand=True)\n",
    "mpcorb.loc[split_readable_designation[0].str.contains(\"\\(\"), \"splitname\"] = split_readable_designation[0]\n",
    "mpcorb.loc[~mpcorb[\"splitname\"].isna(), \"splitname\"] = mpcorb[~mpcorb[\"splitname\"].isna()][\"splitname\"].map(lambda x: x.lstrip('\\(').rstrip('\\)'))\n",
    "mpcorb.loc[(~mpcorb[\"readableDesignation\"].str.contains(\"\\(\")) \n",
    "           & (mpcorb[\"readableDesignation\"].str.contains(\" \")), \"splitname\"] = mpcorb[(~mpcorb[\"readableDesignation\"].str.contains(\"\\(\")) \n",
    "                                                                                      & (mpcorb[\"readableDesignation\"].str.contains(\" \"))][\"readableDesignation\"].str.replace(\" \", \"\")"
   ]
  },
  {
   "cell_type": "code",
   "execution_count": 48,
   "metadata": {},
   "outputs": [],
   "source": [
    "observations = observations.merge(mpcorb[[\"designation\", \"splitname\"]], left_on=\"ssnamenr\", right_on=\"splitname\", how='left')"
   ]
  },
  {
   "cell_type": "code",
   "execution_count": 49,
   "metadata": {},
   "outputs": [
    {
     "data": {
      "text/plain": [
       "62871"
      ]
     },
     "execution_count": 49,
     "metadata": {},
     "output_type": "execute_result"
    }
   ],
   "source": [
    "observations[\"ssnamenr\"].nunique()"
   ]
  },
  {
   "cell_type": "code",
   "execution_count": 50,
   "metadata": {},
   "outputs": [
    {
     "data": {
      "text/plain": [
       "62307"
      ]
     },
     "execution_count": 50,
     "metadata": {},
     "output_type": "execute_result"
    }
   ],
   "source": [
    "observations[\"designation\"].nunique()"
   ]
  },
  {
   "cell_type": "code",
   "execution_count": 51,
   "metadata": {},
   "outputs": [],
   "source": [
    "observations.to_csv(\"../analysis/ztf/observations_nid_610_624.txt\", sep=\" \", index=False)"
   ]
  },
  {
   "cell_type": "code",
   "execution_count": null,
   "metadata": {},
   "outputs": [],
   "source": []
  }
 ],
 "metadata": {
  "kernelspec": {
   "display_name": "Python 3 (THOR)",
   "language": "python",
   "name": "thor"
  },
  "language_info": {
   "codemirror_mode": {
    "name": "ipython",
    "version": 3
   },
   "file_extension": ".py",
   "mimetype": "text/x-python",
   "name": "python",
   "nbconvert_exporter": "python",
   "pygments_lexer": "ipython3",
   "version": "3.6.6"
  }
 },
 "nbformat": 4,
 "nbformat_minor": 2
}
