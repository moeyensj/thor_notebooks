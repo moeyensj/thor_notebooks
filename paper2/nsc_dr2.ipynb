{
 "cells": [
  {
   "cell_type": "markdown",
   "id": "723266f8-3666-4d79-b9d9-35a2bb55a234",
   "metadata": {},
   "source": [
    "## All-sky NOIRLab Source Catalog (DR2)"
   ]
  },
  {
   "cell_type": "markdown",
   "id": "aeb14ca7-502b-4eb2-8ab9-d2697ecca47f",
   "metadata": {},
   "source": [
    "To install NOAO datalab access:  \n",
    "```pip install --ignore-installed --no-cache-dir noaodatalab```\n",
    "\n",
    "Login via the command line to datalab:  \n",
    "```datalab login``` \n",
    "\n",
    "\n",
    "Information on the columns each of tables contains can be found here:  \n",
    "[Exposure](https://datalab.noirlab.edu/query.php?name=nsc_dr2.exposure)  \n",
    "[Measurements](https://datalab.noirlab.edu/query.php?name=nsc_dr2.meas)  \n",
    "[Coverage](https://datalab.noirlab.edu/query.php?name=nsc_dr2.coverage)  \n",
    "[Chip](https://datalab.noirlab.edu/query.php?name=nsc_dr2.chip)  \n",
    "[Object](https://datalab.noirlab.edu/query.php?name=nsc_dr2.object)  \n",
    "\n",
    "\n",
    "\n",
    "**References**:  \n",
    "Nidever, D. L., Dey, A., Fasbender, K., Juneau, S., Meisner, A. M., Wishart, J., Scott, A., Matt, K., Nikutta, R., & Pucha, R. (2021). Second Data Release of the All-sky NOIRLab Source Catalog. The Astronomical Journal, 161(4), 192. https://doi.org/10.3847/1538-3881/ABD6E1"
   ]
  },
  {
   "cell_type": "code",
   "execution_count": null,
   "id": "bf7f5699-bda3-4db7-a5d9-f96894f8e71f",
   "metadata": {},
   "outputs": [],
   "source": [
    "import os\n",
    "import pandas as pd\n",
    "import numpy as np\n",
    "import healpy as hp \n",
    "import matplotlib.pyplot as plt\n",
    "\n",
    "%matplotlib inline \n",
    "\n",
    "from astropy.time import Time"
   ]
  },
  {
   "cell_type": "code",
   "execution_count": null,
   "id": "15bc89de-cbd6-4757-9436-642db6c23211",
   "metadata": {},
   "outputs": [],
   "source": [
    "DATA_DIR = \"/mnt/data/projects/thor/thor_data/nsc/\""
   ]
  },
  {
   "cell_type": "code",
   "execution_count": null,
   "id": "386840f5-7271-41b9-8ed3-88704fb588b4",
   "metadata": {},
   "outputs": [],
   "source": [
    "from dl import authClient as ac\n",
    "from dl import queryClient as qc\n",
    "from getpass import getpass\n",
    "\n",
    "username = 'moeyensj'\n",
    "token = ac.login(username,getpass('Account Password: '))\n",
    "if not ac.isValidToken(token):\n",
    "    print('Error: invalid login for user %s (%s)' % (username,token))\n",
    "else:\n",
    "    print(\"Login token:   %s\" % token)"
   ]
  },
  {
   "cell_type": "markdown",
   "id": "de6a1f7d-57b4-45ae-a48e-cee3bd9c765d",
   "metadata": {},
   "source": [
    "Get the contents of the `exposure` table."
   ]
  },
  {
   "cell_type": "code",
   "execution_count": null,
   "id": "d7a7152a-f662-414b-84d7-bfc42d7118cb",
   "metadata": {},
   "outputs": [],
   "source": [
    "file_name = os.path.join(DATA_DIR, \"nsc_dr2_exposure.csv\")\n",
    "if not os.path.exists(file_name):\n",
    "    query = \"\"\"SELECT * FROM nsc_dr2.exposure ORDER BY mjd ASC\"\"\"\n",
    "    result = qc.query(token, sql=query, fmt='csv', out=file_name)\n",
    "exposures = pd.read_csv(file_name, index_col=False)"
   ]
  },
  {
   "cell_type": "code",
   "execution_count": null,
   "id": "19edeadb-57a3-4cba-8eeb-ffb2adac2b52",
   "metadata": {},
   "outputs": [],
   "source": [
    "exposures"
   ]
  },
  {
   "cell_type": "code",
   "execution_count": null,
   "id": "7cfedf18-ff23-44c9-b048-be4c83a8ccff",
   "metadata": {},
   "outputs": [],
   "source": [
    "file_name = os.path.join(DATA_DIR, \"nsc_dr2_coverage.csv\")\n",
    "if not os.path.exists(file_name):\n",
    "    query = \"\"\"SELECT * FROM nsc_dr2.coverage LIMIT 100\"\"\"\n",
    "    result = qc.query(token, sql=query, fmt='csv', out=file_name)\n",
    "coverage = pd.read_csv(file_name, index_col=False)"
   ]
  },
  {
   "cell_type": "code",
   "execution_count": null,
   "id": "96b092a7-3ea3-42e1-a079-5bc6dcff5f5e",
   "metadata": {},
   "outputs": [],
   "source": [
    "coverage"
   ]
  },
  {
   "cell_type": "markdown",
   "id": "55a8cb2a-2162-4209-9fb0-171e87cca6eb",
   "metadata": {},
   "source": [
    "The NSC DR2 release contains data from three instruments:"
   ]
  },
  {
   "cell_type": "code",
   "execution_count": null,
   "id": "ce7b0e17-9fe7-4cb1-8079-96f1938c07a0",
   "metadata": {},
   "outputs": [],
   "source": [
    "exposures[\"instrument\"].unique()"
   ]
  },
  {
   "cell_type": "markdown",
   "id": "915abe75-734d-409e-acd8-ec43f30a9787",
   "metadata": {},
   "source": [
    "CTIO-4m+DECam : c4d  \n",
    "KPNO-4m+Mosaic3 : ksb  \n",
    "Bok-2.3+90Prime : k4m  "
   ]
  },
  {
   "cell_type": "markdown",
   "id": "20e9444b-6550-4653-a429-94a53b6530dd",
   "metadata": {},
   "source": [
    "Number of measurements per instrument:"
   ]
  },
  {
   "cell_type": "code",
   "execution_count": null,
   "id": "723e7969-f510-402c-99fa-ad554adbf549",
   "metadata": {},
   "outputs": [],
   "source": [
    "exposures.groupby(by=\"instrument\")[\"nmeas\"].sum()"
   ]
  },
  {
   "cell_type": "code",
   "execution_count": null,
   "id": "369fff04-a5be-42c3-a73c-a511c37d59a0",
   "metadata": {},
   "outputs": [],
   "source": [
    "exposures.groupby(by=\"instrument\")[\"mjd\"].apply(lambda x : x.max() - x.min())"
   ]
  },
  {
   "cell_type": "code",
   "execution_count": null,
   "id": "adf7290b-0191-445e-99d5-9a57f676880a",
   "metadata": {},
   "outputs": [],
   "source": [
    "exposures.groupby(by=\"instrument\")[\"mjd\"].describe()"
   ]
  },
  {
   "cell_type": "code",
   "execution_count": null,
   "id": "02f50e4c-1155-45da-9b8b-d36615f8f858",
   "metadata": {},
   "outputs": [],
   "source": [
    "fig, ax = plt.subplots(1, 1, dpi=200)\n",
    "for instrument in exposures[\"instrument\"].unique():\n",
    "    mask = exposures[\"instrument\"].isin([instrument])\n",
    "\n",
    "    ax.scatter(\n",
    "        exposures[mask][\"mjd\"].values, \n",
    "        exposures[mask][\"nmeas\"].values, \n",
    "        label=instrument,\n",
    "        s=1\n",
    "    )\n",
    "ax.set_yscale(\"log\")\n",
    "ax.legend(\n",
    "    frameon=False,\n",
    "    bbox_to_anchor=(1.03, 0.6)\n",
    ")\n",
    "ax.set_ylabel(\"Measurements\")\n",
    "ax.set_xlabel(\"Observation Time [MJD]\")"
   ]
  },
  {
   "cell_type": "code",
   "execution_count": null,
   "id": "f5aa2c85-9026-4c77-81bb-671e47ab9408",
   "metadata": {},
   "outputs": [],
   "source": [
    "fig, ax = plt.subplots(1, 1, dpi=200)\n",
    "for instrument in exposures[\"instrument\"].unique():\n",
    "    mask = exposures[\"instrument\"].isin([instrument])\n",
    "\n",
    "    ax.scatter(\n",
    "        exposures[mask][\"mjd\"].values, \n",
    "        exposures[mask][\"depth95\"].values, \n",
    "        label=instrument,\n",
    "        s=1\n",
    "    )\n",
    "ax.legend(\n",
    "    frameon=False,\n",
    "    bbox_to_anchor=(1.03, 0.6)\n",
    ")\n",
    "ax.set_ylabel(r\"Depth $P_{95}$\")\n",
    "ax.set_xlabel(\"Observation Time [MJD]\")"
   ]
  },
  {
   "cell_type": "code",
   "execution_count": null,
   "id": "4295da06-8040-4674-a1e1-7265ef4c013a",
   "metadata": {},
   "outputs": [],
   "source": [
    "start_mjd = 56515\n",
    "window_size = 20\n",
    "window = exposures[\n",
    "    (exposures[\"instrument\"] == \"c4d\") \n",
    "    & (exposures[\"mjd\"] <= start_mjd + window_size)\n",
    "    & (exposures[\"mjd\"] >= start_mjd)\n",
    "]"
   ]
  },
  {
   "cell_type": "code",
   "execution_count": null,
   "id": "dd310d82-9767-4fc0-890e-2cd03ecf97d0",
   "metadata": {},
   "outputs": [],
   "source": [
    "np.round(window[\"mjd\"].max(), 2), np.round(window[\"mjd\"].min() - 0.01, 2)\n"
   ]
  },
  {
   "cell_type": "code",
   "execution_count": null,
   "id": "44f091ea-de86-442a-813d-181e2e90eac1",
   "metadata": {},
   "outputs": [],
   "source": [
    "query = \"\"\"\n",
    "SELECT COUNT(*)\n",
    "FROM nsc_dr2.object \n",
    "WHERE (ndet <= 4)\n",
    "\"\"\"\n",
    "results = qc.query(token, adql=query, fmt='pandas', timeout=3600, async_=True, wait=True, poll=10, verbose=1)\n",
    "results"
   ]
  },
  {
   "cell_type": "code",
   "execution_count": null,
   "id": "23903d3b-1250-47bc-8d4f-d69f305b03ac",
   "metadata": {},
   "outputs": [],
   "source": [
    "query = \"\"\"\n",
    "SELECT COUNT(*)\n",
    "FROM nsc_dr2.object \n",
    "WHERE (ndet <= 4)\n",
    "\"\"\"\n",
    "results = qc.query(token, adql=query, fmt='pandas', timeout=3600, async_=True, wait=True, poll=10, verbose=1)\n",
    "results"
   ]
  },
  {
   "cell_type": "markdown",
   "id": "5cbaca70-b590-4ee1-a314-ca4ede5a907b",
   "metadata": {},
   "source": [
    "Number of objects with ndet<=4: 1763381575  \n",
    "Number of objects with ndet==1: 886983556 "
   ]
  },
  {
   "cell_type": "code",
   "execution_count": null,
   "id": "8b2fa8e1-535f-465b-a300-43210bc72f29",
   "metadata": {},
   "outputs": [],
   "source": [
    "ras = np.linspace(0, 360, 360 * 10 + 1)"
   ]
  },
  {
   "cell_type": "code",
   "execution_count": null,
   "id": "9216853c-9436-4e0e-9386-5be7262eb3f1",
   "metadata": {},
   "outputs": [],
   "source": [
    "def queryRASlice(ra_start, ra_end):\n",
    "    \n",
    "    #print(f\"Processesing {ra_start:06.2f}<=RA<{ra_end:06.2f}\")\n",
    "    file_name = os.path.join(DATA_DIR, f\"nsc_dr2_observations_{ra_start:06.2f}_{ra_end:06.2f}.csv\")\n",
    "    \n",
    "    if not os.path.exists(file_name):\n",
    "        query = f\"\"\"\n",
    "        SELECT o.id, o.ra AS mean_ra, o.dec AS mean_dec, o.ndet, o.nphot, o.mjd AS mean_mjd, o.deltamjd, m.measid, m.mjd, m.ra, m.dec, m.raerr, m.decerr, m.mag_auto, m.magerr_auto, m.filter, m.exposure, m.class_star \n",
    "        FROM nsc_dr2.object AS o \n",
    "        JOIN nsc_dr2.meas as m \n",
    "        ON o.id = m.objectId \n",
    "        WHERE (o.ndet <= 4) AND (o.ra >= {ra_start}) AND (o.ra < {ra_end})\n",
    "        \"\"\"\n",
    "        results = qc.query(token, adql=query, fmt='pandas', timeout=3600, async_=True, wait=True, poll=5, verbose=0)\n",
    "        results.sort_values(by=[\"mjd\", \"measid\"], inplace=True, ascending=[True, True])\n",
    "        results.to_csv(file_name, index=False)\n",
    "        \n",
    "    else:\n",
    "        #print(\"Already processed.\")\n",
    "        pass\n",
    "        \n",
    "    return"
   ]
  },
  {
   "cell_type": "code",
   "execution_count": null,
   "id": "0ff176f2-d4e5-4524-aa67-8cd3951033d6",
   "metadata": {},
   "outputs": [],
   "source": [
    "import multiprocessing as mp\n",
    "\n",
    "pool = mp.Pool(10)\n",
    "pool.starmap(\n",
    "    queryRASlice,\n",
    "    zip(ras[:-1][:20], ras[1:][:20])\n",
    ")\n",
    "pool.close()"
   ]
  },
  {
   "cell_type": "code",
   "execution_count": null,
   "id": "3452b572-9ae3-4973-a5d2-3b005980f520",
   "metadata": {},
   "outputs": [],
   "source": [
    "phi = np.radians(preprocessed_observations[\"RA_deg\"].values)\n",
    "theta = np.radians(90 - preprocessed_observations[\"Dec_deg\"].values)\n",
    "mjd_utc = preprocessed_observations[\"mjd_utc\"].values\n",
    "\n",
    "\n",
    "nside = 32\n",
    "print(np.degrees(hp.nside2resol(nside)))\n",
    "pixel_indices = hp.ang2pix(nside, theta, phi)\n",
    "vals, counts = np.unique(pixel_indices, return_counts=True)\n",
    "preprocessed_observations[\"pixel_ind\"] = pixel_indices\n",
    "visits = preprocessed_observations.groupby(by=[\"pixel_ind\"])[\"mjd_utc\"].nunique()\n",
    "visits = visits[visits >= 5]\n",
    "\n",
    "num_pix = hp.nside2npix(nside)\n",
    "m = hp.ma(np.zeros(num_pix))\n",
    "m[visits.index.values] = visits.values\n",
    "m.mask = np.ones(len(m)) \n",
    "m.mask[visits.index.values] = False "
   ]
  }
 ],
 "metadata": {
  "kernelspec": {
   "display_name": "Python [conda env:thor_py38]",
   "language": "python",
   "name": "conda-env-thor_py38-py"
  },
  "language_info": {
   "codemirror_mode": {
    "name": "ipython",
    "version": 3
   },
   "file_extension": ".py",
   "mimetype": "text/x-python",
   "name": "python",
   "nbconvert_exporter": "python",
   "pygments_lexer": "ipython3",
   "version": "3.8.10"
  }
 },
 "nbformat": 4,
 "nbformat_minor": 5
}
