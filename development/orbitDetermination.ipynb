{
 "cells": [
  {
   "cell_type": "markdown",
   "metadata": {},
   "source": [
    "## Analysis"
   ]
  },
  {
   "cell_type": "code",
   "execution_count": 1,
   "metadata": {},
   "outputs": [
    {
     "data": {
      "text/html": [
       "        <script type=\"text/javascript\">\n",
       "        window.PlotlyConfig = {MathJaxConfig: 'local'};\n",
       "        if (window.MathJax) {MathJax.Hub.Config({SVG: {font: \"STIX-Web\"}});}\n",
       "        if (typeof require !== 'undefined') {\n",
       "        require.undef(\"plotly\");\n",
       "        requirejs.config({\n",
       "            paths: {\n",
       "                'plotly': ['https://cdn.plot.ly/plotly-latest.min']\n",
       "            }\n",
       "        });\n",
       "        require(['plotly'], function(Plotly) {\n",
       "            window._Plotly = Plotly;\n",
       "        });\n",
       "        }\n",
       "        </script>\n",
       "        "
      ]
     },
     "metadata": {},
     "output_type": "display_data"
    }
   ],
   "source": [
    "import glob\n",
    "import os\n",
    "import numpy as np\n",
    "import pandas as pd\n",
    "import sqlite3 as sql\n",
    "import matplotlib\n",
    "import matplotlib.pyplot as plt\n",
    "import matplotlib.patches as patches\n",
    "import matplotlib.colors as colors\n",
    "import seaborn as sns\n",
    "sns.set(font_scale=1.2, context=\"paper\", style=\"ticks\")\n",
    "sns.set_palette(\"viridis\")\n",
    "\n",
    "from astropy.time import Time\n",
    "\n",
    "from scipy.stats import binned_statistic_2d\n",
    "\n",
    "%matplotlib inline\n",
    "\n",
    "import plotly\n",
    "plotly.offline.init_notebook_mode(connected=True)\n",
    "\n",
    "import sys\n",
    "sys.path.append(\"/epyc/projects/thor/thor\")"
   ]
  },
  {
   "cell_type": "code",
   "execution_count": 2,
   "metadata": {},
   "outputs": [],
   "source": [
    "import thor"
   ]
  },
  {
   "cell_type": "markdown",
   "metadata": {},
   "source": [
    "### Simulations"
   ]
  },
  {
   "cell_type": "code",
   "execution_count": 3,
   "metadata": {},
   "outputs": [],
   "source": [
    "RUN_DIR = \"/epyc/projects/thor/results/msst_4x4/run_16/\"\n",
    "DATABASE = \"/epyc/projects/thor/data/msst_4x4/msst_survey.db\"\n",
    "con = sql.connect(DATABASE)"
   ]
  },
  {
   "cell_type": "code",
   "execution_count": 4,
   "metadata": {},
   "outputs": [],
   "source": [
    "allObjects_survey = pd.read_csv(os.path.join(RUN_DIR, \"allObjects_survey.txt\"), sep=\" \", index_col=False)\n",
    "summary_survey = pd.read_csv(os.path.join(RUN_DIR, \"summary_survey.txt\"), sep=\" \", index_col=False)\n",
    "summary_orbits = pd.read_csv(os.path.join(RUN_DIR, \"summary_orbits.txt\"), sep=\" \", index_col=False)\n",
    "test_orbits_survey = pd.read_csv(os.path.join(RUN_DIR, \"orbits.txt\"), sep=\" \", index_col=False)\n",
    "\n",
    "known_orbits = pd.read_sql(\"SELECT * FROM mpcOrbitCat\", con)\n",
    "known_orbits = known_orbits[known_orbits[\"designation\"].isin(allObjects_survey[\"designation\"].values)]"
   ]
  },
  {
   "cell_type": "code",
   "execution_count": 5,
   "metadata": {},
   "outputs": [],
   "source": [
    "observations = pd.read_sql(\"\"\"SELECT * FROM observations\"\"\", con)"
   ]
  },
  {
   "cell_type": "code",
   "execution_count": 122,
   "metadata": {},
   "outputs": [],
   "source": [
    "projected_obs = pd.read_csv(\"/epyc/projects/thor/results/msst_4x4/run_16/orbit_0006/projected_obs.txt\", index_col=False, sep=\" \")\n",
    "clusterMembers = pd.read_csv(\"/epyc/projects/thor/results/msst_4x4/run_16/orbit_0006/clusterMembers.txt\", index_col=False, sep=\" \")\n",
    "allClusters = pd.read_csv(\"/epyc/projects/thor/results/msst_4x4/run_16/orbit_0006/allClusters.txt\", index_col=False, sep=\" \")"
   ]
  },
  {
   "cell_type": "code",
   "execution_count": 166,
   "metadata": {},
   "outputs": [
    {
     "data": {
      "text/html": [
       "<div>\n",
       "<style scoped>\n",
       "    .dataframe tbody tr th:only-of-type {\n",
       "        vertical-align: middle;\n",
       "    }\n",
       "\n",
       "    .dataframe tbody tr th {\n",
       "        vertical-align: top;\n",
       "    }\n",
       "\n",
       "    .dataframe thead th {\n",
       "        text-align: right;\n",
       "    }\n",
       "</style>\n",
       "<table border=\"1\" class=\"dataframe\">\n",
       "  <thead>\n",
       "    <tr style=\"text-align: right;\">\n",
       "      <th></th>\n",
       "      <th>designation</th>\n",
       "      <th>H</th>\n",
       "      <th>G</th>\n",
       "      <th>epoch_pf_TT</th>\n",
       "      <th>meanAnom_deg</th>\n",
       "      <th>argPeri_deg</th>\n",
       "      <th>ascNode_deg</th>\n",
       "      <th>i_deg</th>\n",
       "      <th>e</th>\n",
       "      <th>n_deg_p_day</th>\n",
       "      <th>...</th>\n",
       "      <th>numObs</th>\n",
       "      <th>numOppos</th>\n",
       "      <th>obsArc</th>\n",
       "      <th>rmsResid_arcsec</th>\n",
       "      <th>coarsePerturbers</th>\n",
       "      <th>precisePerturbers</th>\n",
       "      <th>compName</th>\n",
       "      <th>flags</th>\n",
       "      <th>readableDesignation</th>\n",
       "      <th>lastObsInOrbitSolution</th>\n",
       "    </tr>\n",
       "  </thead>\n",
       "  <tbody>\n",
       "    <tr>\n",
       "      <th>653545</th>\n",
       "      <td>K03SQ2J</td>\n",
       "      <td>17.6</td>\n",
       "      <td>0.15</td>\n",
       "      <td>K03A8</td>\n",
       "      <td>0.13314</td>\n",
       "      <td>6.45775</td>\n",
       "      <td>18.57656</td>\n",
       "      <td>33.66076</td>\n",
       "      <td>0.164757</td>\n",
       "      <td>0.23502</td>\n",
       "      <td>...</td>\n",
       "      <td>19.0</td>\n",
       "      <td>1.0</td>\n",
       "      <td>27 days</td>\n",
       "      <td>0.51</td>\n",
       "      <td>None</td>\n",
       "      <td>None</td>\n",
       "      <td>MPCW</td>\n",
       "      <td>2000</td>\n",
       "      <td>2003 SJ262</td>\n",
       "      <td>20031024.0</td>\n",
       "    </tr>\n",
       "  </tbody>\n",
       "</table>\n",
       "<p>1 rows × 23 columns</p>\n",
       "</div>"
      ],
      "text/plain": [
       "       designation     H     G epoch_pf_TT  meanAnom_deg  argPeri_deg  \\\n",
       "653545     K03SQ2J  17.6  0.15       K03A8       0.13314      6.45775   \n",
       "\n",
       "        ascNode_deg     i_deg         e  n_deg_p_day  ...  numObs numOppos  \\\n",
       "653545     18.57656  33.66076  0.164757      0.23502  ...    19.0      1.0   \n",
       "\n",
       "         obsArc  rmsResid_arcsec  coarsePerturbers precisePerturbers  \\\n",
       "653545  27 days             0.51              None              None   \n",
       "\n",
       "        compName flags readableDesignation lastObsInOrbitSolution  \n",
       "653545      MPCW  2000          2003 SJ262             20031024.0  \n",
       "\n",
       "[1 rows x 23 columns]"
      ]
     },
     "execution_count": 166,
     "metadata": {},
     "output_type": "execute_result"
    }
   ],
   "source": [
    "known_orbits[known_orbits[\"designation\"].isin([\"K03SQ2J\"])]"
   ]
  },
  {
   "cell_type": "code",
   "execution_count": 124,
   "metadata": {},
   "outputs": [],
   "source": [
    "obs_ids = clusterMembers[clusterMembers[\"cluster_id\"] == 14][\"obsId\"].values"
   ]
  },
  {
   "cell_type": "code",
   "execution_count": 125,
   "metadata": {},
   "outputs": [],
   "source": [
    "from astropy import constants as c\n",
    "from astropy import units as u\n",
    "\n",
    "from scipy import roots"
   ]
  },
  {
   "cell_type": "code",
   "execution_count": 126,
   "metadata": {},
   "outputs": [],
   "source": [
    "MU = (c.G * c.M_sun).to(u.AU**3 / u.day**2).value"
   ]
  },
  {
   "cell_type": "code",
   "execution_count": 165,
   "metadata": {},
   "outputs": [
    {
     "data": {
      "text/html": [
       "<div>\n",
       "<style scoped>\n",
       "    .dataframe tbody tr th:only-of-type {\n",
       "        vertical-align: middle;\n",
       "    }\n",
       "\n",
       "    .dataframe tbody tr th {\n",
       "        vertical-align: top;\n",
       "    }\n",
       "\n",
       "    .dataframe thead th {\n",
       "        text-align: right;\n",
       "    }\n",
       "</style>\n",
       "<table border=\"1\" class=\"dataframe\">\n",
       "  <thead>\n",
       "    <tr style=\"text-align: right;\">\n",
       "      <th></th>\n",
       "      <th>obsId</th>\n",
       "      <th>visitId</th>\n",
       "      <th>fieldId</th>\n",
       "      <th>fieldRA_deg</th>\n",
       "      <th>fieldDec_deg</th>\n",
       "      <th>exp_mjd</th>\n",
       "      <th>night</th>\n",
       "      <th>designation</th>\n",
       "      <th>code</th>\n",
       "      <th>mjd_utc</th>\n",
       "      <th>...</th>\n",
       "      <th>HEclObsy_X_au</th>\n",
       "      <th>HEclObsy_Y_au</th>\n",
       "      <th>HEclObsy_Z_au</th>\n",
       "      <th>EccAnom</th>\n",
       "      <th>TrueAnom</th>\n",
       "      <th>PosAngle_deg</th>\n",
       "      <th>theta_x_deg</th>\n",
       "      <th>theta_y_deg</th>\n",
       "      <th>theta_x_eq_deg</th>\n",
       "      <th>theta_y_eq_deg</th>\n",
       "    </tr>\n",
       "  </thead>\n",
       "  <tbody>\n",
       "    <tr>\n",
       "      <th>21452</th>\n",
       "      <td>145298</td>\n",
       "      <td>446</td>\n",
       "      <td>446</td>\n",
       "      <td>176.282918</td>\n",
       "      <td>4.230249</td>\n",
       "      <td>59740.246528</td>\n",
       "      <td>59740</td>\n",
       "      <td>K03SQ2J</td>\n",
       "      <td>I11</td>\n",
       "      <td>59740.246528</td>\n",
       "      <td>...</td>\n",
       "      <td>-0.192653</td>\n",
       "      <td>-0.996779</td>\n",
       "      <td>0.000045</td>\n",
       "      <td>165.405104</td>\n",
       "      <td>167.621918</td>\n",
       "      <td>158.850399</td>\n",
       "      <td>7.515453</td>\n",
       "      <td>0.427467</td>\n",
       "      <td>7.186698</td>\n",
       "      <td>-2.440555</td>\n",
       "    </tr>\n",
       "    <tr>\n",
       "      <th>127562</th>\n",
       "      <td>1124714</td>\n",
       "      <td>4046</td>\n",
       "      <td>446</td>\n",
       "      <td>176.282918</td>\n",
       "      <td>4.230249</td>\n",
       "      <td>59746.246528</td>\n",
       "      <td>59746</td>\n",
       "      <td>K03SQ2J</td>\n",
       "      <td>I11</td>\n",
       "      <td>59746.246528</td>\n",
       "      <td>...</td>\n",
       "      <td>-0.092206</td>\n",
       "      <td>-1.011646</td>\n",
       "      <td>0.000048</td>\n",
       "      <td>166.620861</td>\n",
       "      <td>168.655779</td>\n",
       "      <td>151.608980</td>\n",
       "      <td>7.376779</td>\n",
       "      <td>-0.176527</td>\n",
       "      <td>6.607055</td>\n",
       "      <td>-2.913824</td>\n",
       "    </tr>\n",
       "    <tr>\n",
       "      <th>236671</th>\n",
       "      <td>2130591</td>\n",
       "      <td>7646</td>\n",
       "      <td>446</td>\n",
       "      <td>176.282918</td>\n",
       "      <td>4.230249</td>\n",
       "      <td>59752.246528</td>\n",
       "      <td>59752</td>\n",
       "      <td>K03SQ2J</td>\n",
       "      <td>I11</td>\n",
       "      <td>59752.246528</td>\n",
       "      <td>...</td>\n",
       "      <td>0.009195</td>\n",
       "      <td>-1.016292</td>\n",
       "      <td>0.000047</td>\n",
       "      <td>167.835772</td>\n",
       "      <td>169.688199</td>\n",
       "      <td>145.930357</td>\n",
       "      <td>7.241163</td>\n",
       "      <td>-0.777085</td>\n",
       "      <td>6.067290</td>\n",
       "      <td>-3.360467</td>\n",
       "    </tr>\n",
       "  </tbody>\n",
       "</table>\n",
       "<p>3 rows × 51 columns</p>\n",
       "</div>"
      ],
      "text/plain": [
       "          obsId  visitId  fieldId  fieldRA_deg  fieldDec_deg       exp_mjd  \\\n",
       "21452    145298      446      446   176.282918      4.230249  59740.246528   \n",
       "127562  1124714     4046      446   176.282918      4.230249  59746.246528   \n",
       "236671  2130591     7646      446   176.282918      4.230249  59752.246528   \n",
       "\n",
       "        night designation code       mjd_utc  ...  HEclObsy_X_au  \\\n",
       "21452   59740     K03SQ2J  I11  59740.246528  ...      -0.192653   \n",
       "127562  59746     K03SQ2J  I11  59746.246528  ...      -0.092206   \n",
       "236671  59752     K03SQ2J  I11  59752.246528  ...       0.009195   \n",
       "\n",
       "        HEclObsy_Y_au  HEclObsy_Z_au     EccAnom    TrueAnom  PosAngle_deg  \\\n",
       "21452       -0.996779       0.000045  165.405104  167.621918    158.850399   \n",
       "127562      -1.011646       0.000048  166.620861  168.655779    151.608980   \n",
       "236671      -1.016292       0.000047  167.835772  169.688199    145.930357   \n",
       "\n",
       "        theta_x_deg  theta_y_deg  theta_x_eq_deg  theta_y_eq_deg  \n",
       "21452      7.515453     0.427467        7.186698       -2.440555  \n",
       "127562     7.376779    -0.176527        6.607055       -2.913824  \n",
       "236671     7.241163    -0.777085        6.067290       -3.360467  \n",
       "\n",
       "[3 rows x 51 columns]"
      ]
     },
     "execution_count": 165,
     "metadata": {},
     "output_type": "execute_result"
    }
   ],
   "source": [
    "t = projected_obs[projected_obs[\"obsId\"].isin(obs_ids[[0, 3, -1]])][\"mjd_utc\"].values\n",
    "coords_eq_ang = np.radians(projected_obs[projected_obs[\"obsId\"].isin(obs_ids[[0, 3, -1]])][[\"RA_deg\", \"Dec_deg\"]].values)\n",
    "observer_coords =  projected_obs[projected_obs[\"obsId\"].isin(obs_ids[[0, 3, -1]])][['HEclObsy_X_au', 'HEclObsy_Y_au', 'HEclObsy_Z_au']].values\n",
    "r_truth = projected_obs[projected_obs[\"obsId\"].isin(obs_ids[[0, 3, -1]])][['r_au']].values\n",
    "obj_truth = projected_obs[projected_obs[\"obsId\"].isin(obs_ids[[0, 3, -1]])][['HEclObj_X_au', 'HEclObj_Y_au', 'HEclObj_Z_au']].values\n",
    "projected_obs[projected_obs[\"obsId\"].isin(obs_ids[[0, 3, -1]])]"
   ]
  },
  {
   "cell_type": "code",
   "execution_count": 128,
   "metadata": {},
   "outputs": [],
   "source": [
    "from thor.coordinates import equatorialToEclipticCartesian\n",
    "from thor.coordinates import equatorialAngularToCartesian"
   ]
  },
  {
   "cell_type": "code",
   "execution_count": 134,
   "metadata": {},
   "outputs": [
    {
     "data": {
      "text/plain": [
       "array([[-1.92653375e-01, -9.96779136e-01,  4.45859000e-05],\n",
       "       [-9.22061720e-02, -1.01164631e+00,  4.82342000e-05],\n",
       "       [ 9.19492130e-03, -1.01629173e+00,  4.70562000e-05]])"
      ]
     },
     "execution_count": 134,
     "metadata": {},
     "output_type": "execute_result"
    }
   ],
   "source": [
    "observer_coords"
   ]
  },
  {
   "cell_type": "code",
   "execution_count": 139,
   "metadata": {},
   "outputs": [
    {
     "data": {
      "text/plain": [
       "array([[-0.19265338, -0.99677914],\n",
       "       [-0.09220617, -1.01164631],\n",
       "       [ 0.00919492, -1.01629173]])"
      ]
     },
     "execution_count": 139,
     "metadata": {},
     "output_type": "execute_result"
    }
   ],
   "source": []
  },
  {
   "cell_type": "code",
   "execution_count": 250,
   "metadata": {},
   "outputs": [
    {
     "data": {
      "text/plain": [
       "<matplotlib.collections.PathCollection at 0x7f1ac8ec9dd8>"
      ]
     },
     "execution_count": 250,
     "metadata": {},
     "output_type": "execute_result"
    },
    {
     "data": {
      "image/png": "[encoded data removed]",
      "text/plain": [
       "<Figure size 1200x800 with 1 Axes>"
      ]
     },
     "metadata": {
      "needs_background": "light"
     },
     "output_type": "display_data"
    }
   ],
   "source": [
    "fig, ax = plt.subplots(1, 1, dpi=200)\n",
    "ax.scatter(*observer_coords[:,:2].T)\n",
    "ax.scatter(0,0)\n",
    "ax.set_aspect(\"equal\")\n",
    "ax.scatter(*obj_truth[:, :2].T, s=0.5)\n",
    "ax.scatter(*elements_cart[:2], marker=\"x\")"
   ]
  },
  {
   "cell_type": "code",
   "execution_count": 244,
   "metadata": {},
   "outputs": [],
   "source": [
    "C = c.c.to(u.au / u.d).value\n",
    "\n",
    "def _calcV(rho1hat, rho2hat, rho3hat):\n",
    "    # Vector triple product that gives the area of \n",
    "    # the \"volume of the parallelepiped\" or according to \n",
    "    # to Milani et al. 2008: 3x volume of the pyramid with vertices q, r1, r2, r3.\n",
    "    # Note that vector triple product rules apply here.\n",
    "    return np.dot(np.cross(rho1hat, rho2hat), rho3hat)\n",
    "\n",
    "def _calcA(q1, q2, q3, rho1hat, rho3hat, t31, t32, t21):\n",
    "    return np.dot(np.cross(np.linalg.norm(q2)**3 * rho1hat, rho3hat), (t32 * q1 - t31 * q2 + t21 * q3))\n",
    "\n",
    "def _calcB(q1, q3, rho1hat, rho3hat, t31, t32, t21):\n",
    "    return np.dot(np.cross(MU / 6 * t32 * t21 * rho1hat, rho3hat), ((t31 + t32) * q1 + (t31 + t21) * q3))\n",
    "\n",
    "def _calcLambdas(r2_mag, t31, t32, t21):\n",
    "    lambda1 = t32 / t31 * (1 + MU / (6 * r2_mag**3) * (t31**2 - t32**2))\n",
    "    lambda3 = t21 / t31 * (1 + MU / (6 * r2_mag**3) * (t31**2 - t21**2))\n",
    "    return lambda1, lambda3\n",
    "\n",
    "def _calcRhos(lambda1, lambda3, q1, q2, q3, rho1hat, rho2hat, rho3hat, V):\n",
    "    # This can be derived by taking a series of scalar products of the coplanarity condition equation\n",
    "    # with cross products of unit vectors in the direction of the observer\n",
    "    numerator = -lambda1 * q1 + q2 - lambda3 * q3\n",
    "    rho1_mag = np.dot(numerator, np.cross(rho2hat, rho3hat)) / (lambda1 * V)\n",
    "    rho2_mag = np.dot(numerator, np.cross(rho1hat, rho3hat)) / V\n",
    "    rho3_mag = np.dot(numerator, np.cross(rho1hat, rho2hat)) / (lambda3 * V)\n",
    "    return np.dot(rho1_mag, rho1hat), np.dot(rho2_mag, rho2hat), np.dot(rho2_mag, rho2hat)\n",
    "\n",
    "\n",
    "def calcHerrickGibbs(r1, r2, r3, t31, t32, t21):\n",
    "    # Following formula in Vallado Page 466\n",
    "    v2 = (-t32 * (1 / (t21 * t31) + MU / (12 * np.linalg.norm(r1)**3)) * r1 \n",
    "          + (t32 - t21) * (1 / (t21 * t32) + MU / (12 * np.linalg.norm(r2)**3)) * r2\n",
    "          + t21 * (1 / (t32 * t31) + MU / (12 * np.linalg.norm(r3)**3)) * r3)\n",
    "    return v2\n",
    "\n",
    "def calcGibbs(r1, r2, r3):\n",
    "    \n",
    "    r1_mag = np.linalg.norm(r1)\n",
    "    r2_mag = np.linalg.norm(r2)\n",
    "    r3_mag = np.linalg.norm(r3)\n",
    "    Z12 = np.cross(r1, r2)\n",
    "    Z23 = np.cross(r2, r3)\n",
    "    Z31 = np.cross(r3, r1)\n",
    "    \n",
    "    N = r1_mag * Z23 + r2_mag * Z31 * r3_mag * Z12\n",
    "    N_mag = np.linalg.norm(N)\n",
    "    D = Z12 + Z23 + Z31\n",
    "    D_mag = np.linalg.norm(D)\n",
    "    S = (r2_mag - r3_mag) * r1 + (r3_mag - r1_mag) * r2 + (r1_mag - r2_mag) * r3\n",
    "    S_mag = np.linalg.norm(S)\n",
    "    B = np.cross(D, r2)\n",
    "    Lg = np.sqrt(MU / N_mag / D_mag)\n",
    "    v2 = Lg / r2_mag * B + Lg * S\n",
    "    \n",
    "    print(S_mag/D_mag)\n",
    "    return v2\n",
    "    \n",
    "\n",
    "def iod(coords_eq_ang, t):\n",
    "    rho = equatorialToEclipticCartesian(equatorialAngularToCartesian(coords_eq_ang))\n",
    "    rho1 = rho[0]\n",
    "    rho2 = rho[1]\n",
    "    rho3 = rho[2]\n",
    "    q1 = observer_coords[0]\n",
    "    q2 = observer_coords[1]\n",
    "    q3 = observer_coords[2]\n",
    "    q2_mag = np.linalg.norm(q2)\n",
    "\n",
    "    rho1hat = rho1 / np.linalg.norm(rho1)\n",
    "    rho2hat = rho2 / np.linalg.norm(rho2)\n",
    "    rho3hat = rho3 / np.linalg.norm(rho3)\n",
    "\n",
    "    t31 = t[2] - t[0]\n",
    "    t21 = t[1] - t[0]\n",
    "    t32 = t[2] - t[1]\n",
    "    \n",
    "    \n",
    "    A = _calcA(q1, q2, q3, rho1hat, rho3hat, t31, t32, t21)\n",
    "    B = _calcB(q1, q3, rho1hat, rho3hat, t31, t32, t21)\n",
    "    V = _calcV(rho1hat, rho2hat, rho3hat)\n",
    "    coseps2 = np.dot(q2 / np.linalg.norm(q2), rho2hat) \n",
    "    C0 = V * t31 * q2_mag**4 / B\n",
    "    h0 = - A / B\n",
    "\n",
    "    # Find roots to eighth order polynomial\n",
    "    all_roots = roots([\n",
    "        C0**2,\n",
    "        0,\n",
    "        -q2_mag**2 * (h0**2 + 2 * C0 * h0 * coseps2 + C0**2),\n",
    "        0,\n",
    "        0,\n",
    "        2 * q2_mag**5 * (h0 + C0 * coseps2),\n",
    "        0,\n",
    "        0,\n",
    "        -q2_mag**8\n",
    "    ])\n",
    "    \n",
    "    # Keep only positive real roots (which should at most be 3)\n",
    "    r2_mags = np.real(all_roots[np.isreal(all_roots) & (np.real(all_roots) >= 0)])\n",
    "    num_solutions = len(r2_mags)\n",
    "    \n",
    "    orbits = []\n",
    "    for r2_mag in r2_mags:\n",
    "        lambda1, lambda3 = _calcLambdas(r2_mag, t31, t32, t21)\n",
    "        rho1, rho2, rho3 = _calcRhos(lambda1, lambda3, q1, q2, q3, rho1hat, rho2hat, rho3hat, V)\n",
    "\n",
    "        # Test if we get the same rho2 as using equation 22 in Milani et al. 2008\n",
    "        rho2_mag = (h0 - q2_mag**3 / r2_mag**3) * q2_mag / C0\n",
    "        np.testing.assert_almost_equal(np.dot(rho2_mag, rho2hat), rho2)\n",
    "\n",
    "        r1 = q1 + rho1\n",
    "        r2 = q2 + rho2\n",
    "        r3 = q3 + rho3\n",
    "\n",
    "        # Calculate v2 using Herrick-Gibbs\n",
    "        v2 = calcGibbs(r1, r2, r3)# t31, t32, t21)\n",
    "        orbit = np.concatenate([r2, v2])\n",
    "        \n",
    "        if np.linalg.norm(v2) >= C:\n",
    "            print(\"Velocity is greater than speed of light!\")\n",
    "        orbits.append(orbit)\n",
    "    \n",
    "    return np.array(orbits)"
   ]
  },
  {
   "cell_type": "code",
   "execution_count": 245,
   "metadata": {},
   "outputs": [
    {
     "name": "stdout",
     "output_type": "stream",
     "text": [
      "0.9755678493430143\n",
      "0.40640115593823994\n",
      "0.011438863661530513\n"
     ]
    }
   ],
   "source": [
    "orbits = iod(coords_eq_ang, t)"
   ]
  },
  {
   "cell_type": "code",
   "execution_count": 255,
   "metadata": {},
   "outputs": [
    {
     "data": {
      "text/plain": [
       "(6,)"
      ]
     },
     "execution_count": 255,
     "metadata": {},
     "output_type": "execute_result"
    }
   ],
   "source": [
    "orbits[0].shape"
   ]
  },
  {
   "cell_type": "code",
   "execution_count": 266,
   "metadata": {},
   "outputs": [],
   "source": [
    "elements_cart = orbits[1]"
   ]
  },
  {
   "cell_type": "code",
   "execution_count": 267,
   "metadata": {},
   "outputs": [
    {
     "data": {
      "text/plain": [
       "array([-3.41285297e-01, -9.89010917e-01,  1.26087761e-02,  1.29897772e-03,\n",
       "       -1.55914819e-04, -1.87609246e-05])"
      ]
     },
     "execution_count": 267,
     "metadata": {},
     "output_type": "execute_result"
    }
   ],
   "source": [
    "elements_cart"
   ]
  },
  {
   "cell_type": "code",
   "execution_count": 268,
   "metadata": {},
   "outputs": [],
   "source": [
    "r = elements_cart[:3]\n",
    "v = elements_cart[3:]\n",
    "v_mag = np.linalg.norm(v)\n",
    "r_mag = np.linalg.norm(r)\n",
    "\n",
    "sme = v_mag**2 / 2 - MU / r_mag\n",
    "a = -2 * sme / MU\n",
    "\n",
    "h = np.cross(r, v)\n",
    "h_mag = np.linalg.norm(h)\n",
    "\n",
    "n = np.cross(np.array([0, 0, 1]), h)\n",
    "n_mag = np.linalg.norm(n)\n",
    "\n",
    "e = ((v_mag**2 - MU / r_mag) * r - (np.dot(r, v)) * v) / MU\n",
    "e_mag = np.linalg.norm(e)\n",
    "\n",
    "i = np.degrees(np.arccos(h[2] / h_mag))\n",
    "\n",
    "ascNode = np.degrees(np.arccos(n[0] / n_mag))\n",
    "if n[1] < 0:\n",
    "    ascNode = 360.0 - ascNode\n",
    "\n",
    "argPeri = np.degrees(np.arccos(np.dot(n, e) / (n_mag * e_mag)))\n",
    "if e[2] < 0:\n",
    "    argPeri = 360.0 - argPeri\n",
    "    \n",
    "trueAnom = np.degrees(np.arccos(np.dot(e, r) / (e_mag * r_mag)))\n",
    "if np.dot(r, v) < 0:\n",
    "    trueAnom = 360.0 - trueAnom\n"
   ]
  },
  {
   "cell_type": "code",
   "execution_count": 269,
   "metadata": {},
   "outputs": [
    {
     "data": {
      "text/html": [
       "<div>\n",
       "<style scoped>\n",
       "    .dataframe tbody tr th:only-of-type {\n",
       "        vertical-align: middle;\n",
       "    }\n",
       "\n",
       "    .dataframe tbody tr th {\n",
       "        vertical-align: top;\n",
       "    }\n",
       "\n",
       "    .dataframe thead th {\n",
       "        text-align: right;\n",
       "    }\n",
       "</style>\n",
       "<table border=\"1\" class=\"dataframe\">\n",
       "  <thead>\n",
       "    <tr style=\"text-align: right;\">\n",
       "      <th></th>\n",
       "      <th>designation</th>\n",
       "      <th>H</th>\n",
       "      <th>G</th>\n",
       "      <th>epoch_pf_TT</th>\n",
       "      <th>meanAnom_deg</th>\n",
       "      <th>argPeri_deg</th>\n",
       "      <th>ascNode_deg</th>\n",
       "      <th>i_deg</th>\n",
       "      <th>e</th>\n",
       "      <th>n_deg_p_day</th>\n",
       "      <th>...</th>\n",
       "      <th>numObs</th>\n",
       "      <th>numOppos</th>\n",
       "      <th>obsArc</th>\n",
       "      <th>rmsResid_arcsec</th>\n",
       "      <th>coarsePerturbers</th>\n",
       "      <th>precisePerturbers</th>\n",
       "      <th>compName</th>\n",
       "      <th>flags</th>\n",
       "      <th>readableDesignation</th>\n",
       "      <th>lastObsInOrbitSolution</th>\n",
       "    </tr>\n",
       "  </thead>\n",
       "  <tbody>\n",
       "    <tr>\n",
       "      <th>653545</th>\n",
       "      <td>K03SQ2J</td>\n",
       "      <td>17.6</td>\n",
       "      <td>0.15</td>\n",
       "      <td>K03A8</td>\n",
       "      <td>0.13314</td>\n",
       "      <td>6.45775</td>\n",
       "      <td>18.57656</td>\n",
       "      <td>33.66076</td>\n",
       "      <td>0.164757</td>\n",
       "      <td>0.23502</td>\n",
       "      <td>...</td>\n",
       "      <td>19.0</td>\n",
       "      <td>1.0</td>\n",
       "      <td>27 days</td>\n",
       "      <td>0.51</td>\n",
       "      <td>None</td>\n",
       "      <td>None</td>\n",
       "      <td>MPCW</td>\n",
       "      <td>2000</td>\n",
       "      <td>2003 SJ262</td>\n",
       "      <td>20031024.0</td>\n",
       "    </tr>\n",
       "  </tbody>\n",
       "</table>\n",
       "<p>1 rows × 23 columns</p>\n",
       "</div>"
      ],
      "text/plain": [
       "       designation     H     G epoch_pf_TT  meanAnom_deg  argPeri_deg  \\\n",
       "653545     K03SQ2J  17.6  0.15       K03A8       0.13314      6.45775   \n",
       "\n",
       "        ascNode_deg     i_deg         e  n_deg_p_day  ...  numObs numOppos  \\\n",
       "653545     18.57656  33.66076  0.164757      0.23502  ...    19.0      1.0   \n",
       "\n",
       "         obsArc  rmsResid_arcsec  coarsePerturbers precisePerturbers  \\\n",
       "653545  27 days             0.51              None              None   \n",
       "\n",
       "        compName flags readableDesignation lastObsInOrbitSolution  \n",
       "653545      MPCW  2000          2003 SJ262             20031024.0  \n",
       "\n",
       "[1 rows x 23 columns]"
      ]
     },
     "execution_count": 269,
     "metadata": {},
     "output_type": "execute_result"
    }
   ],
   "source": [
    "known_orbits[known_orbits[\"designation\"] == \"K03SQ2J\"]"
   ]
  },
  {
   "cell_type": "code",
   "execution_count": 271,
   "metadata": {},
   "outputs": [
    {
     "data": {
      "text/plain": [
       "0.9942177316776171"
      ]
     },
     "execution_count": 271,
     "metadata": {},
     "output_type": "execute_result"
    }
   ],
   "source": [
    "e_mag"
   ]
  },
  {
   "cell_type": "code",
   "execution_count": 261,
   "metadata": {},
   "outputs": [
    {
     "data": {
      "text/plain": [
       "array([[3.0151848 ],\n",
       "       [3.01738251],\n",
       "       [3.01939124]])"
      ]
     },
     "execution_count": 261,
     "metadata": {},
     "output_type": "execute_result"
    }
   ],
   "source": [
    "r_truth"
   ]
  },
  {
   "cell_type": "code",
   "execution_count": null,
   "metadata": {},
   "outputs": [],
   "source": [
    "mask = ((np.absolute(projected_obs[\"theta_x_deg\"]) < 0.25) \n",
    "        & (np.absolute(projected_obs[\"theta_y_deg\"]) < 0.25) \n",
    "        & (~projected_obs[\"designation\"].isin([\"NS\"])))\n",
    "objs = [\"F3455\", \"K10T54J\"]"
   ]
  },
  {
   "cell_type": "code",
   "execution_count": null,
   "metadata": {},
   "outputs": [],
   "source": [
    "fig = plotProjections(projected_obs[projected_obs[\"designation\"].isin(objs)], colorByObject=True)"
   ]
  },
  {
   "cell_type": "code",
   "execution_count": null,
   "metadata": {},
   "outputs": [],
   "source": []
  },
  {
   "cell_type": "code",
   "execution_count": null,
   "metadata": {},
   "outputs": [],
   "source": [
    "rangeAndShift?"
   ]
  },
  {
   "cell_type": "code",
   "execution_count": null,
   "metadata": {},
   "outputs": [],
   "source": [
    "projected_obs[projected_obs[\"designation\"].isin(objs)].columns"
   ]
  },
  {
   "cell_type": "code",
   "execution_count": null,
   "metadata": {},
   "outputs": [],
   "source": [
    "orbit_col = ['HEclObj_X_au', 'HEclObj_Y_au', 'HEclObj_Z_au',\n",
    "             'HEclObj_dX/dt_au_p_day', 'HEclObj_dY/dt_au_p_day',\n",
    "             'HEclObj_dZ/dt_au_p_day']"
   ]
  },
  {
   "cell_type": "code",
   "execution_count": null,
   "metadata": {},
   "outputs": [],
   "source": [
    "mjds = projected_obs[projected_obs[\"designation\"].isin([objs[0]])][\"mjd_utc\"].values\n",
    "target = projected_obs[projected_obs[\"designation\"].isin([objs[0]])][orbit_col].values\n",
    "target_theta = projected_obs[projected_obs[\"designation\"].isin([objs[0]])][[\"theta_x_deg\", \"theta_y_deg\"]].values\n",
    "initial = projected_obs[projected_obs[\"designation\"].isin([objs[-1]])][orbit_col].values"
   ]
  },
  {
   "cell_type": "code",
   "execution_count": null,
   "metadata": {},
   "outputs": [],
   "source": [
    "target_theta"
   ]
  },
  {
   "cell_type": "code",
   "execution_count": null,
   "metadata": {},
   "outputs": [],
   "source": [
    "from thor import propagateTestParticle\n",
    "from thor import rangeAndShift"
   ]
  },
  {
   "cell_type": "code",
   "execution_count": null,
   "metadata": {},
   "outputs": [],
   "source": [
    "delta  = initial * 0.01"
   ]
  },
  {
   "cell_type": "code",
   "execution_count": null,
   "metadata": {},
   "outputs": [],
   "source": [
    "mod = initial + delta"
   ]
  },
  {
   "cell_type": "code",
   "execution_count": null,
   "metadata": {},
   "outputs": [],
   "source": [
    "mjds"
   ]
  },
  {
   "cell_type": "code",
   "execution_count": null,
   "metadata": {},
   "outputs": [],
   "source": [
    "propagateTestParticle(mod[0], mjds[0], [mjds[1]])"
   ]
  },
  {
   "cell_type": "code",
   "execution_count": null,
   "metadata": {},
   "outputs": [],
   "source": [
    "findable = allObjects_survey[allObjects_survey[\"findable\"] == 1][\"designation\"].values\n",
    "found = allObjects_survey[allObjects_survey[\"found\"] == 1][\"designation\"].values\n",
    "missed = allObjects_survey[(allObjects_survey[\"found\"] == 0) & (allObjects_survey[\"findable\"] == 1) ][\"designation\"].values\n",
    "test_orbits = test_orbits_survey[\"designation\"].values\n",
    "\n",
    "falsePositiveIDs = [\"NS\"]\n",
    "unknownIDs = []"
   ]
  },
  {
   "cell_type": "code",
   "execution_count": null,
   "metadata": {},
   "outputs": [],
   "source": [
    "observations"
   ]
  },
  {
   "cell_type": "code",
   "execution_count": null,
   "metadata": {},
   "outputs": [],
   "source": []
  }
 ],
 "metadata": {
  "kernelspec": {
   "display_name": "THOR (Python 3.6)",
   "language": "python",
   "name": "thor_py36"
  },
  "language_info": {
   "codemirror_mode": {
    "name": "ipython",
    "version": 3
   },
   "file_extension": ".py",
   "mimetype": "text/x-python",
   "name": "python",
   "nbconvert_exporter": "python",
   "pygments_lexer": "ipython3",
   "version": "3.6.8"
  }
 },
 "nbformat": 4,
 "nbformat_minor": 2
}
