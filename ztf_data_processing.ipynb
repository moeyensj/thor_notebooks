{
 "cells": [
  {
   "cell_type": "markdown",
   "metadata": {},
   "source": [
    "# Package Imports"
   ]
  },
  {
   "cell_type": "code",
   "execution_count": 1,
   "metadata": {},
   "outputs": [
    {
     "data": {
      "text/html": [
       "<script>requirejs.config({paths: { 'plotly': ['https://cdn.plot.ly/plotly-latest.min']},});if(!window.Plotly) {{require(['plotly'],function(plotly) {window.Plotly=plotly;});}}</script>"
      ],
      "text/vnd.plotly.v1+html": [
       "<script>requirejs.config({paths: { 'plotly': ['https://cdn.plot.ly/plotly-latest.min']},});if(!window.Plotly) {{require(['plotly'],function(plotly) {window.Plotly=plotly;});}}</script>"
      ]
     },
     "metadata": {},
     "output_type": "display_data"
    }
   ],
   "source": [
    "import glob\n",
    "import os\n",
    "import numpy as np\n",
    "import pandas as pd\n",
    "import sqlite3 as sql\n",
    "import matplotlib.pyplot as plt\n",
    "import matplotlib.patches as patches\n",
    "import seaborn as sns\n",
    "sns.set(font_scale=1.2, context=\"paper\", style=\"ticks\")\n",
    "sns.set_palette(\"viridis\")\n",
    "\n",
    "import mysql.connector as mariadb\n",
    "from astropy.time import Time\n",
    "\n",
    "%matplotlib inline\n",
    "\n",
    "import plotly\n",
    "plotly.offline.init_notebook_mode(connected=True)\n",
    "\n",
    "import sys\n",
    "sys.path.append(\"..\")"
   ]
  },
  {
   "cell_type": "code",
   "execution_count": 2,
   "metadata": {},
   "outputs": [
    {
     "data": {
      "text/plain": [
       "'/epyc/opt/anaconda'"
      ]
     },
     "execution_count": 2,
     "metadata": {},
     "output_type": "execute_result"
    }
   ],
   "source": [
    "os.environ.get(\"CONDA_PREFIX\")"
   ]
  },
  {
   "cell_type": "code",
   "execution_count": 3,
   "metadata": {},
   "outputs": [
    {
     "data": {
      "text/plain": [
       "1"
      ]
     },
     "execution_count": 3,
     "metadata": {},
     "output_type": "execute_result"
    }
   ],
   "source": [
    "os.nice(1)"
   ]
  },
  {
   "cell_type": "code",
   "execution_count": 4,
   "metadata": {},
   "outputs": [],
   "source": [
    "import thor"
   ]
  },
  {
   "cell_type": "markdown",
   "metadata": {},
   "source": [
    "## Data Processing"
   ]
  },
  {
   "cell_type": "code",
   "execution_count": 71,
   "metadata": {},
   "outputs": [],
   "source": [
    "# Connect to database\n",
    "con = mariadb.connect(user='ztf', database='ztf')"
   ]
  },
  {
   "cell_type": "code",
   "execution_count": 6,
   "metadata": {},
   "outputs": [],
   "source": [
    "# https://zwickytransientfacility.github.io/ztf-avro-alert/schema.html"
   ]
  },
  {
   "cell_type": "code",
   "execution_count": 7,
   "metadata": {},
   "outputs": [
    {
     "name": "stdout",
     "output_type": "stream",
     "text": [
      "869616\n"
     ]
    }
   ],
   "source": [
    "# Read alerts for solar system objects from after the photometry fix \n",
    "sso_alert_fix_date1 = Time('2018-05-16T23:30:00', format='isot', scale='utc') # first attribution fix\n",
    "sso_alert_fix_date2 = Time('2018-06-08T23:30:00', format='isot', scale='utc') # second attribution fix\n",
    "sso_alert_phot_fix_date = Time('2018-06-18T23:30:00', format='isot', scale='utc') # photometry fix date\n",
    "\n",
    "jd_good = sso_alert_phot_fix_date.jd\n",
    "#ssdistnr >= 0 \n",
    "df = pd.read_sql_query('select * from alerts where jd > {} and ssdistnr >= 0'.format(jd_good), con)\n",
    "print(len(df))"
   ]
  },
  {
   "cell_type": "code",
   "execution_count": 8,
   "metadata": {},
   "outputs": [],
   "source": [
    "df.sort_values(by=[\"jd\"], inplace=True)\n",
    "df.reset_index(inplace=True)"
   ]
  },
  {
   "cell_type": "code",
   "execution_count": 9,
   "metadata": {},
   "outputs": [
    {
     "data": {
      "text/html": [
       "<div>\n",
       "<style scoped>\n",
       "    .dataframe tbody tr th:only-of-type {\n",
       "        vertical-align: middle;\n",
       "    }\n",
       "\n",
       "    .dataframe tbody tr th {\n",
       "        vertical-align: top;\n",
       "    }\n",
       "\n",
       "    .dataframe thead th {\n",
       "        text-align: right;\n",
       "    }\n",
       "</style>\n",
       "<table border=\"1\" class=\"dataframe\">\n",
       "  <thead>\n",
       "    <tr style=\"text-align: right;\">\n",
       "      <th></th>\n",
       "      <th>index</th>\n",
       "      <th>objectId</th>\n",
       "      <th>jd</th>\n",
       "      <th>fid</th>\n",
       "      <th>pid</th>\n",
       "      <th>diffmaglim</th>\n",
       "      <th>programid</th>\n",
       "      <th>candid</th>\n",
       "      <th>isdiffpos</th>\n",
       "      <th>tblid</th>\n",
       "      <th>...</th>\n",
       "      <th>clrcounc</th>\n",
       "      <th>zpclrcov</th>\n",
       "      <th>zpmed</th>\n",
       "      <th>clrmed</th>\n",
       "      <th>clrrms</th>\n",
       "      <th>neargaia</th>\n",
       "      <th>neargaiabright</th>\n",
       "      <th>maggaia</th>\n",
       "      <th>maggaiabright</th>\n",
       "      <th>exptime</th>\n",
       "    </tr>\n",
       "  </thead>\n",
       "  <tbody>\n",
       "    <tr>\n",
       "      <th>0</th>\n",
       "      <td>0</td>\n",
       "      <td>ZTF18abcdwzp</td>\n",
       "      <td>2.458289e+06</td>\n",
       "      <td>3</td>\n",
       "      <td>534178763215</td>\n",
       "      <td>19.8391</td>\n",
       "      <td>2</td>\n",
       "      <td>534178763215015012</td>\n",
       "      <td>t</td>\n",
       "      <td>12</td>\n",
       "      <td>...</td>\n",
       "      <td>NaN</td>\n",
       "      <td>NaN</td>\n",
       "      <td>NaN</td>\n",
       "      <td>NaN</td>\n",
       "      <td>NaN</td>\n",
       "      <td>NaN</td>\n",
       "      <td>NaN</td>\n",
       "      <td>NaN</td>\n",
       "      <td>NaN</td>\n",
       "      <td>NaN</td>\n",
       "    </tr>\n",
       "    <tr>\n",
       "      <th>1</th>\n",
       "      <td>2</td>\n",
       "      <td>ZTF18abcdxgz</td>\n",
       "      <td>2.458289e+06</td>\n",
       "      <td>3</td>\n",
       "      <td>534186883815</td>\n",
       "      <td>19.6875</td>\n",
       "      <td>2</td>\n",
       "      <td>534186883815015006</td>\n",
       "      <td>t</td>\n",
       "      <td>6</td>\n",
       "      <td>...</td>\n",
       "      <td>NaN</td>\n",
       "      <td>NaN</td>\n",
       "      <td>NaN</td>\n",
       "      <td>NaN</td>\n",
       "      <td>NaN</td>\n",
       "      <td>NaN</td>\n",
       "      <td>NaN</td>\n",
       "      <td>NaN</td>\n",
       "      <td>NaN</td>\n",
       "      <td>NaN</td>\n",
       "    </tr>\n",
       "    <tr>\n",
       "      <th>2</th>\n",
       "      <td>1</td>\n",
       "      <td>ZTF18abcdxlq</td>\n",
       "      <td>2.458289e+06</td>\n",
       "      <td>1</td>\n",
       "      <td>534194142015</td>\n",
       "      <td>20.4920</td>\n",
       "      <td>2</td>\n",
       "      <td>534194142015015009</td>\n",
       "      <td>t</td>\n",
       "      <td>9</td>\n",
       "      <td>...</td>\n",
       "      <td>NaN</td>\n",
       "      <td>NaN</td>\n",
       "      <td>NaN</td>\n",
       "      <td>NaN</td>\n",
       "      <td>NaN</td>\n",
       "      <td>NaN</td>\n",
       "      <td>NaN</td>\n",
       "      <td>NaN</td>\n",
       "      <td>NaN</td>\n",
       "      <td>NaN</td>\n",
       "    </tr>\n",
       "    <tr>\n",
       "      <th>3</th>\n",
       "      <td>344</td>\n",
       "      <td>ZTF18abcdxlx</td>\n",
       "      <td>2.458289e+06</td>\n",
       "      <td>1</td>\n",
       "      <td>534194655515</td>\n",
       "      <td>20.5510</td>\n",
       "      <td>1</td>\n",
       "      <td>534194655515015006</td>\n",
       "      <td>t</td>\n",
       "      <td>6</td>\n",
       "      <td>...</td>\n",
       "      <td>NaN</td>\n",
       "      <td>NaN</td>\n",
       "      <td>NaN</td>\n",
       "      <td>NaN</td>\n",
       "      <td>NaN</td>\n",
       "      <td>NaN</td>\n",
       "      <td>NaN</td>\n",
       "      <td>NaN</td>\n",
       "      <td>NaN</td>\n",
       "      <td>NaN</td>\n",
       "    </tr>\n",
       "    <tr>\n",
       "      <th>4</th>\n",
       "      <td>336</td>\n",
       "      <td>ZTF18abcdxjw</td>\n",
       "      <td>2.458289e+06</td>\n",
       "      <td>1</td>\n",
       "      <td>534195114715</td>\n",
       "      <td>20.4822</td>\n",
       "      <td>1</td>\n",
       "      <td>534195114715015006</td>\n",
       "      <td>t</td>\n",
       "      <td>6</td>\n",
       "      <td>...</td>\n",
       "      <td>NaN</td>\n",
       "      <td>NaN</td>\n",
       "      <td>NaN</td>\n",
       "      <td>NaN</td>\n",
       "      <td>NaN</td>\n",
       "      <td>NaN</td>\n",
       "      <td>NaN</td>\n",
       "      <td>NaN</td>\n",
       "      <td>NaN</td>\n",
       "      <td>NaN</td>\n",
       "    </tr>\n",
       "    <tr>\n",
       "      <th>5</th>\n",
       "      <td>337</td>\n",
       "      <td>ZTF18abcdxky</td>\n",
       "      <td>2.458289e+06</td>\n",
       "      <td>1</td>\n",
       "      <td>534195110615</td>\n",
       "      <td>20.3403</td>\n",
       "      <td>1</td>\n",
       "      <td>534195110615015008</td>\n",
       "      <td>t</td>\n",
       "      <td>8</td>\n",
       "      <td>...</td>\n",
       "      <td>NaN</td>\n",
       "      <td>NaN</td>\n",
       "      <td>NaN</td>\n",
       "      <td>NaN</td>\n",
       "      <td>NaN</td>\n",
       "      <td>NaN</td>\n",
       "      <td>NaN</td>\n",
       "      <td>NaN</td>\n",
       "      <td>NaN</td>\n",
       "      <td>NaN</td>\n",
       "    </tr>\n",
       "    <tr>\n",
       "      <th>6</th>\n",
       "      <td>338</td>\n",
       "      <td>ZTF18abcdxkx</td>\n",
       "      <td>2.458289e+06</td>\n",
       "      <td>1</td>\n",
       "      <td>534195112515</td>\n",
       "      <td>20.4844</td>\n",
       "      <td>1</td>\n",
       "      <td>534195112515015009</td>\n",
       "      <td>t</td>\n",
       "      <td>9</td>\n",
       "      <td>...</td>\n",
       "      <td>NaN</td>\n",
       "      <td>NaN</td>\n",
       "      <td>NaN</td>\n",
       "      <td>NaN</td>\n",
       "      <td>NaN</td>\n",
       "      <td>NaN</td>\n",
       "      <td>NaN</td>\n",
       "      <td>NaN</td>\n",
       "      <td>NaN</td>\n",
       "      <td>NaN</td>\n",
       "    </tr>\n",
       "    <tr>\n",
       "      <th>7</th>\n",
       "      <td>339</td>\n",
       "      <td>ZTF18abcdxlb</td>\n",
       "      <td>2.458289e+06</td>\n",
       "      <td>1</td>\n",
       "      <td>534195116015</td>\n",
       "      <td>20.3943</td>\n",
       "      <td>1</td>\n",
       "      <td>534195116015015011</td>\n",
       "      <td>t</td>\n",
       "      <td>11</td>\n",
       "      <td>...</td>\n",
       "      <td>NaN</td>\n",
       "      <td>NaN</td>\n",
       "      <td>NaN</td>\n",
       "      <td>NaN</td>\n",
       "      <td>NaN</td>\n",
       "      <td>NaN</td>\n",
       "      <td>NaN</td>\n",
       "      <td>NaN</td>\n",
       "      <td>NaN</td>\n",
       "      <td>NaN</td>\n",
       "    </tr>\n",
       "    <tr>\n",
       "      <th>8</th>\n",
       "      <td>340</td>\n",
       "      <td>ZTF18abcdxlw</td>\n",
       "      <td>2.458289e+06</td>\n",
       "      <td>1</td>\n",
       "      <td>534195110315</td>\n",
       "      <td>20.3434</td>\n",
       "      <td>1</td>\n",
       "      <td>534195110315015005</td>\n",
       "      <td>t</td>\n",
       "      <td>5</td>\n",
       "      <td>...</td>\n",
       "      <td>NaN</td>\n",
       "      <td>NaN</td>\n",
       "      <td>NaN</td>\n",
       "      <td>NaN</td>\n",
       "      <td>NaN</td>\n",
       "      <td>NaN</td>\n",
       "      <td>NaN</td>\n",
       "      <td>NaN</td>\n",
       "      <td>NaN</td>\n",
       "      <td>NaN</td>\n",
       "    </tr>\n",
       "    <tr>\n",
       "      <th>9</th>\n",
       "      <td>341</td>\n",
       "      <td>ZTF18abcdxmd</td>\n",
       "      <td>2.458289e+06</td>\n",
       "      <td>1</td>\n",
       "      <td>534195112315</td>\n",
       "      <td>20.4401</td>\n",
       "      <td>1</td>\n",
       "      <td>534195112315015000</td>\n",
       "      <td>t</td>\n",
       "      <td>0</td>\n",
       "      <td>...</td>\n",
       "      <td>NaN</td>\n",
       "      <td>NaN</td>\n",
       "      <td>NaN</td>\n",
       "      <td>NaN</td>\n",
       "      <td>NaN</td>\n",
       "      <td>NaN</td>\n",
       "      <td>NaN</td>\n",
       "      <td>NaN</td>\n",
       "      <td>NaN</td>\n",
       "      <td>NaN</td>\n",
       "    </tr>\n",
       "  </tbody>\n",
       "</table>\n",
       "<p>10 rows × 101 columns</p>\n",
       "</div>"
      ],
      "text/plain": [
       "   index      objectId            jd  fid           pid  diffmaglim  \\\n",
       "0      0  ZTF18abcdwzp  2.458289e+06    3  534178763215     19.8391   \n",
       "1      2  ZTF18abcdxgz  2.458289e+06    3  534186883815     19.6875   \n",
       "2      1  ZTF18abcdxlq  2.458289e+06    1  534194142015     20.4920   \n",
       "3    344  ZTF18abcdxlx  2.458289e+06    1  534194655515     20.5510   \n",
       "4    336  ZTF18abcdxjw  2.458289e+06    1  534195114715     20.4822   \n",
       "5    337  ZTF18abcdxky  2.458289e+06    1  534195110615     20.3403   \n",
       "6    338  ZTF18abcdxkx  2.458289e+06    1  534195112515     20.4844   \n",
       "7    339  ZTF18abcdxlb  2.458289e+06    1  534195116015     20.3943   \n",
       "8    340  ZTF18abcdxlw  2.458289e+06    1  534195110315     20.3434   \n",
       "9    341  ZTF18abcdxmd  2.458289e+06    1  534195112315     20.4401   \n",
       "\n",
       "   programid              candid isdiffpos  tblid   ...     clrcounc  \\\n",
       "0          2  534178763215015012         t     12   ...          NaN   \n",
       "1          2  534186883815015006         t      6   ...          NaN   \n",
       "2          2  534194142015015009         t      9   ...          NaN   \n",
       "3          1  534194655515015006         t      6   ...          NaN   \n",
       "4          1  534195114715015006         t      6   ...          NaN   \n",
       "5          1  534195110615015008         t      8   ...          NaN   \n",
       "6          1  534195112515015009         t      9   ...          NaN   \n",
       "7          1  534195116015015011         t     11   ...          NaN   \n",
       "8          1  534195110315015005         t      5   ...          NaN   \n",
       "9          1  534195112315015000         t      0   ...          NaN   \n",
       "\n",
       "   zpclrcov  zpmed  clrmed  clrrms  neargaia  neargaiabright  maggaia  \\\n",
       "0       NaN    NaN     NaN     NaN       NaN             NaN      NaN   \n",
       "1       NaN    NaN     NaN     NaN       NaN             NaN      NaN   \n",
       "2       NaN    NaN     NaN     NaN       NaN             NaN      NaN   \n",
       "3       NaN    NaN     NaN     NaN       NaN             NaN      NaN   \n",
       "4       NaN    NaN     NaN     NaN       NaN             NaN      NaN   \n",
       "5       NaN    NaN     NaN     NaN       NaN             NaN      NaN   \n",
       "6       NaN    NaN     NaN     NaN       NaN             NaN      NaN   \n",
       "7       NaN    NaN     NaN     NaN       NaN             NaN      NaN   \n",
       "8       NaN    NaN     NaN     NaN       NaN             NaN      NaN   \n",
       "9       NaN    NaN     NaN     NaN       NaN             NaN      NaN   \n",
       "\n",
       "   maggaiabright  exptime  \n",
       "0            NaN      NaN  \n",
       "1            NaN      NaN  \n",
       "2            NaN      NaN  \n",
       "3            NaN      NaN  \n",
       "4            NaN      NaN  \n",
       "5            NaN      NaN  \n",
       "6            NaN      NaN  \n",
       "7            NaN      NaN  \n",
       "8            NaN      NaN  \n",
       "9            NaN      NaN  \n",
       "\n",
       "[10 rows x 101 columns]"
      ]
     },
     "execution_count": 9,
     "metadata": {},
     "output_type": "execute_result"
    }
   ],
   "source": [
    "df.head(10)"
   ]
  },
  {
   "cell_type": "code",
   "execution_count": 10,
   "metadata": {},
   "outputs": [],
   "source": [
    "columnMapping = {        \n",
    "        \n",
    "        # Observation ID\n",
    "        \"obs_id\" : \"obs_id\",\n",
    "        \n",
    "        # Exposure time\n",
    "        \"exp_mjd\" : \"exp_mjd\",\n",
    "        \n",
    "        # Visit ID\n",
    "        \"visit_id\" : \"visit_id\",\n",
    "        \n",
    "        # Field ID\n",
    "        \"field_id\" : \"field\",\n",
    "        \n",
    "        # Field RA in degrees\n",
    "        \"field_RA_deg\" : \"fieldRA_deg\",\n",
    "        \n",
    "        # Field Dec in degrees\n",
    "        \"field_Dec_deg\" : \"fieldDec_deg\",\n",
    "        \n",
    "        # Night number\n",
    "        \"night\": \"nid\",\n",
    "        \n",
    "        # RA in degrees\n",
    "        \"RA_deg\" : \"ra\",\n",
    "        \n",
    "        # Dec in degrees\n",
    "        \"Dec_deg\" : \"decl\",\n",
    "        \n",
    "        # Observer's x coordinate in AU\n",
    "        \"obs_x_au\" : \"HEclObsy_X_au\",\n",
    "        \n",
    "        # Observer's y coordinate in AU\n",
    "        \"obs_y_au\" : \"HEclObsy_Y_au\",\n",
    "        \n",
    "        # Observer's z coordinate in AU\n",
    "        \"obs_z_au\" : \"HEclObsy_Z_au\",\n",
    "        \n",
    "        # Magnitude (UNUSED)\n",
    "        \"mag\" : \"magpsf\",\n",
    "        \n",
    "        ### Truth Parameters\n",
    "        \n",
    "        # Object name\n",
    "        \"name\" : \"designation\",\n",
    "        \n",
    "        # Observer-object distance in AU\n",
    "        \"Delta_au\" : \"Delta_au\",\n",
    "        \n",
    "        # Sun-object distance in AU (heliocentric distance)\n",
    "        \"r_au\" : \"r_au\",\n",
    "        \n",
    "        # Object's x coordinate in AU\n",
    "        \"obj_x_au\" : \"HEclObj_X_au\",\n",
    "        \n",
    "        # Object's y coordinate in AU\n",
    "        \"obj_y_au\" : \"HEclObj_Y_au\",\n",
    "        \n",
    "        # Object's z coordinate in AU\n",
    "        \"obj_z_au\" : \"HEclObj_Z_au\",\n",
    "        \n",
    "        # Object's x velocity in AU per day\n",
    "        \"obj_dx/dt_au_p_day\" : \"HEclObj_dX/dt_au_p_day\",\n",
    "        \n",
    "        # Object's y velocity in AU per day\n",
    "        \"obj_dy/dt_au_p_day\" : \"HEclObj_dY/dt_au_p_day\",\n",
    "        \n",
    "        # Object's z velocity in AU per day\n",
    "        \"obj_dz/dt_au_p_day\" : \"HEclObj_dZ/dt_au_p_day\",\n",
    "        \n",
    "        # Semi-major axis\n",
    "        \"a_au\" : \"a_au\",\n",
    "        \n",
    "        # Inclination\n",
    "        \"i_deg\" : \"i_deg\",\n",
    "        \n",
    "        # Eccentricity\n",
    "        \"e\" : \"e\",\n",
    "    }\n",
    "\n",
    "def prepareZTFAlertsForTHOR(alerts):\n",
    "    # Sort by field and exposure time\n",
    "    alerts.sort_values(by=[\"field\", \"jd\"], inplace=True)\n",
    "    \n",
    "    # Add exposure time in MJD column\n",
    "    times = Time(alerts[\"jd\"], format=\"jd\", scale=\"utc\")\n",
    "    times = times.mjd\n",
    "    alerts[\"exp_mjd\"] = times\n",
    "    \n",
    "    # Only keep columns we want\n",
    "    alerts = alerts[[\"ra\", \"decl\", \"field\", \"nid\", \"jd\", \"exp_mjd\", \"magpsf\", \"sigmapsf\", \"fid\", \"ssnamenr\"]]\n",
    "    \n",
    "    # Read footprint and get field center locations\n",
    "    footprint = pd.read_csv(\"/epyc/projects/thor/ztf_information/field_grid/ZTF_Fields.txt\",\n",
    "                        delim_whitespace=True, \n",
    "                        skiprows=1,\n",
    "                        names=[\"field\", \"fieldRA_deg\", \"fieldDec_deg\", \"Ebv\", \"Gal Long\", \"Gal Lat\", \"Ecl Long\", \"Ecl Lat\" ,\"Entry\"])\n",
    "    footprint = footprint[[\"field\", \"fieldRA_deg\", \"fieldDec_deg\"]]\n",
    "    \n",
    "\n",
    "    survey = pd.DataFrame({\"exp_mjd\": alerts[\"exp_mjd\"].unique(), \"visit_id\" : np.arange(1, len(alerts[\"exp_mjd\"].unique()) + 1)})\n",
    "    eph = thor.propagateTestParticle([1, 1, 0, 0.0002, 0.0002, 0.000], 59580, survey[\"exp_mjd\"].values, observatoryCode=\"I41\")\n",
    "    survey = survey.merge(eph[[\"mjd\", 'HEclObsy_X_au', 'HEclObsy_Y_au', 'HEclObsy_Z_au']], left_on=\"exp_mjd\", right_on=\"mjd\")\n",
    "    \n",
    "    observations = alerts.merge(footprint, left_on=\"field\", right_on=\"field\")\n",
    "    observations = observations.merge(survey, on=\"exp_mjd\")\n",
    "\n",
    "    observations[\"obs_id\"] = np.arange(1, len(observations) + 1)\n",
    "    \n",
    "    return observations"
   ]
  },
  {
   "cell_type": "code",
   "execution_count": 11,
   "metadata": {},
   "outputs": [],
   "source": [
    "observations = prepareZTFAlertsForTHOR(df)\n",
    "del df"
   ]
  },
  {
   "cell_type": "code",
   "execution_count": 12,
   "metadata": {},
   "outputs": [],
   "source": [
    "observations.to_csv(\"../analysis/ztf/known_object_observations.txt\", sep=\" \", index=False)"
   ]
  },
  {
   "cell_type": "code",
   "execution_count": 13,
   "metadata": {},
   "outputs": [],
   "source": [
    "observations = pd.read_csv(\"../analysis/ztf/known_object_observations.txt\", sep=\" \", index_col=False)"
   ]
  },
  {
   "cell_type": "code",
   "execution_count": 14,
   "metadata": {},
   "outputs": [
    {
     "data": {
      "text/html": [
       "<div>\n",
       "<style scoped>\n",
       "    .dataframe tbody tr th:only-of-type {\n",
       "        vertical-align: middle;\n",
       "    }\n",
       "\n",
       "    .dataframe tbody tr th {\n",
       "        vertical-align: top;\n",
       "    }\n",
       "\n",
       "    .dataframe thead th {\n",
       "        text-align: right;\n",
       "    }\n",
       "</style>\n",
       "<table border=\"1\" class=\"dataframe\">\n",
       "  <thead>\n",
       "    <tr style=\"text-align: right;\">\n",
       "      <th></th>\n",
       "      <th>ra</th>\n",
       "      <th>decl</th>\n",
       "      <th>field</th>\n",
       "      <th>nid</th>\n",
       "      <th>jd</th>\n",
       "      <th>exp_mjd</th>\n",
       "      <th>magpsf</th>\n",
       "      <th>sigmapsf</th>\n",
       "      <th>fid</th>\n",
       "      <th>ssnamenr</th>\n",
       "      <th>fieldRA_deg</th>\n",
       "      <th>fieldDec_deg</th>\n",
       "      <th>visit_id</th>\n",
       "      <th>mjd</th>\n",
       "      <th>HEclObsy_X_au</th>\n",
       "      <th>HEclObsy_Y_au</th>\n",
       "      <th>HEclObsy_Z_au</th>\n",
       "      <th>obs_id</th>\n",
       "    </tr>\n",
       "  </thead>\n",
       "  <tbody>\n",
       "    <tr>\n",
       "      <th>0</th>\n",
       "      <td>1.823979</td>\n",
       "      <td>-26.530899</td>\n",
       "      <td>245</td>\n",
       "      <td>606</td>\n",
       "      <td>2.458361e+06</td>\n",
       "      <td>58360.399954</td>\n",
       "      <td>17.1856</td>\n",
       "      <td>0.050869</td>\n",
       "      <td>1</td>\n",
       "      <td>277529</td>\n",
       "      <td>1.16039</td>\n",
       "      <td>-24.25</td>\n",
       "      <td>1</td>\n",
       "      <td>58360.399954</td>\n",
       "      <td>0.927519</td>\n",
       "      <td>-0.399013</td>\n",
       "      <td>0.000036</td>\n",
       "      <td>1</td>\n",
       "    </tr>\n",
       "    <tr>\n",
       "      <th>1</th>\n",
       "      <td>3.424106</td>\n",
       "      <td>-24.019268</td>\n",
       "      <td>245</td>\n",
       "      <td>606</td>\n",
       "      <td>2.458361e+06</td>\n",
       "      <td>58360.399954</td>\n",
       "      <td>18.4710</td>\n",
       "      <td>0.132737</td>\n",
       "      <td>1</td>\n",
       "      <td>186910</td>\n",
       "      <td>1.16039</td>\n",
       "      <td>-24.25</td>\n",
       "      <td>1</td>\n",
       "      <td>58360.399954</td>\n",
       "      <td>0.927519</td>\n",
       "      <td>-0.399013</td>\n",
       "      <td>0.000036</td>\n",
       "      <td>2</td>\n",
       "    </tr>\n",
       "    <tr>\n",
       "      <th>2</th>\n",
       "      <td>359.714370</td>\n",
       "      <td>-26.833669</td>\n",
       "      <td>245</td>\n",
       "      <td>606</td>\n",
       "      <td>2.458361e+06</td>\n",
       "      <td>58360.399954</td>\n",
       "      <td>19.0730</td>\n",
       "      <td>0.178199</td>\n",
       "      <td>1</td>\n",
       "      <td>110784</td>\n",
       "      <td>1.16039</td>\n",
       "      <td>-24.25</td>\n",
       "      <td>1</td>\n",
       "      <td>58360.399954</td>\n",
       "      <td>0.927519</td>\n",
       "      <td>-0.399013</td>\n",
       "      <td>0.000036</td>\n",
       "      <td>3</td>\n",
       "    </tr>\n",
       "    <tr>\n",
       "      <th>3</th>\n",
       "      <td>0.686068</td>\n",
       "      <td>-27.268204</td>\n",
       "      <td>245</td>\n",
       "      <td>606</td>\n",
       "      <td>2.458361e+06</td>\n",
       "      <td>58360.399954</td>\n",
       "      <td>18.6833</td>\n",
       "      <td>0.213605</td>\n",
       "      <td>1</td>\n",
       "      <td>54291</td>\n",
       "      <td>1.16039</td>\n",
       "      <td>-24.25</td>\n",
       "      <td>1</td>\n",
       "      <td>58360.399954</td>\n",
       "      <td>0.927519</td>\n",
       "      <td>-0.399013</td>\n",
       "      <td>0.000036</td>\n",
       "      <td>4</td>\n",
       "    </tr>\n",
       "    <tr>\n",
       "      <th>4</th>\n",
       "      <td>3.047707</td>\n",
       "      <td>-24.621212</td>\n",
       "      <td>245</td>\n",
       "      <td>606</td>\n",
       "      <td>2.458361e+06</td>\n",
       "      <td>58360.399954</td>\n",
       "      <td>19.1278</td>\n",
       "      <td>0.212181</td>\n",
       "      <td>1</td>\n",
       "      <td>215529</td>\n",
       "      <td>1.16039</td>\n",
       "      <td>-24.25</td>\n",
       "      <td>1</td>\n",
       "      <td>58360.399954</td>\n",
       "      <td>0.927519</td>\n",
       "      <td>-0.399013</td>\n",
       "      <td>0.000036</td>\n",
       "      <td>5</td>\n",
       "    </tr>\n",
       "    <tr>\n",
       "      <th>5</th>\n",
       "      <td>2.269394</td>\n",
       "      <td>-24.705108</td>\n",
       "      <td>245</td>\n",
       "      <td>609</td>\n",
       "      <td>2.458364e+06</td>\n",
       "      <td>58363.334387</td>\n",
       "      <td>18.7573</td>\n",
       "      <td>0.133431</td>\n",
       "      <td>1</td>\n",
       "      <td>224663</td>\n",
       "      <td>1.16039</td>\n",
       "      <td>-24.25</td>\n",
       "      <td>2</td>\n",
       "      <td>58363.334387</td>\n",
       "      <td>0.945505</td>\n",
       "      <td>-0.352378</td>\n",
       "      <td>0.000039</td>\n",
       "      <td>6</td>\n",
       "    </tr>\n",
       "    <tr>\n",
       "      <th>6</th>\n",
       "      <td>359.865286</td>\n",
       "      <td>-26.278350</td>\n",
       "      <td>245</td>\n",
       "      <td>609</td>\n",
       "      <td>2.458364e+06</td>\n",
       "      <td>58363.334387</td>\n",
       "      <td>19.4659</td>\n",
       "      <td>0.201638</td>\n",
       "      <td>1</td>\n",
       "      <td>272471</td>\n",
       "      <td>1.16039</td>\n",
       "      <td>-24.25</td>\n",
       "      <td>2</td>\n",
       "      <td>58363.334387</td>\n",
       "      <td>0.945505</td>\n",
       "      <td>-0.352378</td>\n",
       "      <td>0.000039</td>\n",
       "      <td>7</td>\n",
       "    </tr>\n",
       "    <tr>\n",
       "      <th>7</th>\n",
       "      <td>2.551338</td>\n",
       "      <td>-24.995790</td>\n",
       "      <td>245</td>\n",
       "      <td>609</td>\n",
       "      <td>2.458364e+06</td>\n",
       "      <td>58363.334387</td>\n",
       "      <td>19.3703</td>\n",
       "      <td>0.172599</td>\n",
       "      <td>1</td>\n",
       "      <td>215529</td>\n",
       "      <td>1.16039</td>\n",
       "      <td>-24.25</td>\n",
       "      <td>2</td>\n",
       "      <td>58363.334387</td>\n",
       "      <td>0.945505</td>\n",
       "      <td>-0.352378</td>\n",
       "      <td>0.000039</td>\n",
       "      <td>8</td>\n",
       "    </tr>\n",
       "    <tr>\n",
       "      <th>8</th>\n",
       "      <td>0.115389</td>\n",
       "      <td>-24.877066</td>\n",
       "      <td>245</td>\n",
       "      <td>609</td>\n",
       "      <td>2.458364e+06</td>\n",
       "      <td>58363.334387</td>\n",
       "      <td>19.0539</td>\n",
       "      <td>0.105614</td>\n",
       "      <td>1</td>\n",
       "      <td>161963</td>\n",
       "      <td>1.16039</td>\n",
       "      <td>-24.25</td>\n",
       "      <td>2</td>\n",
       "      <td>58363.334387</td>\n",
       "      <td>0.945505</td>\n",
       "      <td>-0.352378</td>\n",
       "      <td>0.000039</td>\n",
       "      <td>9</td>\n",
       "    </tr>\n",
       "    <tr>\n",
       "      <th>9</th>\n",
       "      <td>2.085536</td>\n",
       "      <td>-27.214909</td>\n",
       "      <td>245</td>\n",
       "      <td>609</td>\n",
       "      <td>2.458364e+06</td>\n",
       "      <td>58363.334387</td>\n",
       "      <td>17.1913</td>\n",
       "      <td>0.055068</td>\n",
       "      <td>1</td>\n",
       "      <td>277529</td>\n",
       "      <td>1.16039</td>\n",
       "      <td>-24.25</td>\n",
       "      <td>2</td>\n",
       "      <td>58363.334387</td>\n",
       "      <td>0.945505</td>\n",
       "      <td>-0.352378</td>\n",
       "      <td>0.000039</td>\n",
       "      <td>10</td>\n",
       "    </tr>\n",
       "  </tbody>\n",
       "</table>\n",
       "</div>"
      ],
      "text/plain": [
       "           ra       decl  field  nid            jd       exp_mjd   magpsf  \\\n",
       "0    1.823979 -26.530899    245  606  2.458361e+06  58360.399954  17.1856   \n",
       "1    3.424106 -24.019268    245  606  2.458361e+06  58360.399954  18.4710   \n",
       "2  359.714370 -26.833669    245  606  2.458361e+06  58360.399954  19.0730   \n",
       "3    0.686068 -27.268204    245  606  2.458361e+06  58360.399954  18.6833   \n",
       "4    3.047707 -24.621212    245  606  2.458361e+06  58360.399954  19.1278   \n",
       "5    2.269394 -24.705108    245  609  2.458364e+06  58363.334387  18.7573   \n",
       "6  359.865286 -26.278350    245  609  2.458364e+06  58363.334387  19.4659   \n",
       "7    2.551338 -24.995790    245  609  2.458364e+06  58363.334387  19.3703   \n",
       "8    0.115389 -24.877066    245  609  2.458364e+06  58363.334387  19.0539   \n",
       "9    2.085536 -27.214909    245  609  2.458364e+06  58363.334387  17.1913   \n",
       "\n",
       "   sigmapsf  fid ssnamenr  fieldRA_deg  fieldDec_deg  visit_id           mjd  \\\n",
       "0  0.050869    1   277529      1.16039        -24.25         1  58360.399954   \n",
       "1  0.132737    1   186910      1.16039        -24.25         1  58360.399954   \n",
       "2  0.178199    1   110784      1.16039        -24.25         1  58360.399954   \n",
       "3  0.213605    1    54291      1.16039        -24.25         1  58360.399954   \n",
       "4  0.212181    1   215529      1.16039        -24.25         1  58360.399954   \n",
       "5  0.133431    1   224663      1.16039        -24.25         2  58363.334387   \n",
       "6  0.201638    1   272471      1.16039        -24.25         2  58363.334387   \n",
       "7  0.172599    1   215529      1.16039        -24.25         2  58363.334387   \n",
       "8  0.105614    1   161963      1.16039        -24.25         2  58363.334387   \n",
       "9  0.055068    1   277529      1.16039        -24.25         2  58363.334387   \n",
       "\n",
       "   HEclObsy_X_au  HEclObsy_Y_au  HEclObsy_Z_au  obs_id  \n",
       "0       0.927519      -0.399013       0.000036       1  \n",
       "1       0.927519      -0.399013       0.000036       2  \n",
       "2       0.927519      -0.399013       0.000036       3  \n",
       "3       0.927519      -0.399013       0.000036       4  \n",
       "4       0.927519      -0.399013       0.000036       5  \n",
       "5       0.945505      -0.352378       0.000039       6  \n",
       "6       0.945505      -0.352378       0.000039       7  \n",
       "7       0.945505      -0.352378       0.000039       8  \n",
       "8       0.945505      -0.352378       0.000039       9  \n",
       "9       0.945505      -0.352378       0.000039      10  "
      ]
     },
     "execution_count": 14,
     "metadata": {},
     "output_type": "execute_result"
    }
   ],
   "source": [
    "observations.head(10)"
   ]
  },
  {
   "cell_type": "code",
   "execution_count": 15,
   "metadata": {},
   "outputs": [
    {
     "data": {
      "text/plain": [
       "117121"
      ]
     },
     "execution_count": 15,
     "metadata": {},
     "output_type": "execute_result"
    }
   ],
   "source": [
    "# Unique solar system objects in ZTF alerts\n",
    "observations[\"ssnamenr\"].nunique()"
   ]
  },
  {
   "cell_type": "code",
   "execution_count": 16,
   "metadata": {},
   "outputs": [
    {
     "data": {
      "text/plain": [
       "array(['39999', '64797', '122855', '51841', '142627', '41340', '54383',\n",
       "       '55926', '417650', '111142', '110231', '125175', '89207', '34739',\n",
       "       '428695', '333095', '13306', '101515', '28348', '228891'],\n",
       "      dtype=object)"
      ]
     },
     "execution_count": 16,
     "metadata": {},
     "output_type": "execute_result"
    }
   ],
   "source": [
    "# Multiple formats for ssnamenr field in alerts db\n",
    "np.random.choice(observations[observations[\"ssnamenr\"].str.isnumeric()][\"ssnamenr\"].values, 20)"
   ]
  },
  {
   "cell_type": "code",
   "execution_count": 17,
   "metadata": {},
   "outputs": [
    {
     "data": {
      "text/plain": [
       "array(['2011VR12', '2016EK155', '2012HA27', '2002PM51', '2018QF05',\n",
       "       '2015BQ268', '2014QP01', '2008YE62', '2010EJ168', '2012UO134',\n",
       "       '2014YF16', '2014SH210', '2018SB06', '2012OD01', '2011UN265',\n",
       "       '2013WG110', '2014UJ34', '2016CW18', '2015DQ215', '2013RH30'],\n",
       "      dtype=object)"
      ]
     },
     "execution_count": 17,
     "metadata": {},
     "output_type": "execute_result"
    }
   ],
   "source": [
    "np.random.choice(observations[~observations[\"ssnamenr\"].str.isnumeric()][\"ssnamenr\"].values, 20)"
   ]
  },
  {
   "cell_type": "code",
   "execution_count": 18,
   "metadata": {},
   "outputs": [],
   "source": [
    "mpcorb = thor.readMPCORBFile(\"../analysis/ztf/MPCORB_20181106.DAT\")\n",
    "# Drop two NaN rows... (population split)\n",
    "mpcorb.drop(index=mpcorb[mpcorb[\"designation\"].isna()].index, inplace=True)"
   ]
  },
  {
   "cell_type": "code",
   "execution_count": 19,
   "metadata": {},
   "outputs": [
    {
     "data": {
      "text/plain": [
       "array(['00966', '10358', '14522', '98982', '78968', '38213', '20022',\n",
       "       '44054', '61596', '36415', '47881', '34746', '63453', '83860',\n",
       "       '85985', '16320', '61555', '37393', '77461', '27623'], dtype=object)"
      ]
     },
     "execution_count": 19,
     "metadata": {},
     "output_type": "execute_result"
    }
   ],
   "source": [
    "np.random.choice(mpcorb[mpcorb[\"designation\"].str.isnumeric()][\"designation\"].values, 20)"
   ]
  },
  {
   "cell_type": "code",
   "execution_count": 20,
   "metadata": {},
   "outputs": [
    {
     "data": {
      "text/plain": [
       "array(['K16E17U', 'j9452', 'c0438', 'g8546', 'K05T69K', 'X6479',\n",
       "       'K09D28M', 'K07W03H', 'K14P20S', 'I8395', 'B8883', 'D9768',\n",
       "       'q2932', 'd4460', 'e2941', 'K12O01A', 'N4521', 'B0933', 'e6385',\n",
       "       'P0848'], dtype=object)"
      ]
     },
     "execution_count": 20,
     "metadata": {},
     "output_type": "execute_result"
    }
   ],
   "source": [
    "np.random.choice(mpcorb[~mpcorb[\"designation\"].str.isnumeric()][\"designation\"].values, 20)"
   ]
  },
  {
   "cell_type": "code",
   "execution_count": 21,
   "metadata": {},
   "outputs": [
    {
     "data": {
      "text/plain": [
       "array([], dtype=object)"
      ]
     },
     "execution_count": 21,
     "metadata": {},
     "output_type": "execute_result"
    }
   ],
   "source": [
    "mpcorb[mpcorb[\"readableDesignation\"].str.isnumeric()][\"readableDesignation\"].values"
   ]
  },
  {
   "cell_type": "code",
   "execution_count": 22,
   "metadata": {},
   "outputs": [
    {
     "data": {
      "text/plain": [
       "array(['(21229) Susil', '2016 QC52', '(490661) 2010 GN132', '2011 YO57',\n",
       "       '(418998) 2009 OY10', '(121534) 1999 UJ41', '2015 HH170',\n",
       "       '2006 VM127', '(354427) 2003 WN122', '(160437) 2005 SS139',\n",
       "       '(318205) 2004 RT168', '2016 DQ32', '(302167) 2001 TS14',\n",
       "       '(151419) 2002 EA150', '(335184) 2005 BM49', '2009 SO370',\n",
       "       '(162867) 2001 EA19', '2006 TW102', '(490543) 2009 VD55',\n",
       "       '(91472) 1999 RY91'], dtype=object)"
      ]
     },
     "execution_count": 22,
     "metadata": {},
     "output_type": "execute_result"
    }
   ],
   "source": [
    "np.random.choice(mpcorb[~mpcorb[\"readableDesignation\"].str.isnumeric()][\"readableDesignation\"].values, 20)"
   ]
  },
  {
   "cell_type": "code",
   "execution_count": 23,
   "metadata": {},
   "outputs": [],
   "source": [
    "# Do pandas magic... \n",
    "split_readable_designation = mpcorb[\"readableDesignation\"].str.split(\" \", expand=True)\n",
    "mpcorb.loc[split_readable_designation[0].str.contains(\"\\(\"), \"splitname\"] = split_readable_designation[0]\n",
    "mpcorb.loc[~mpcorb[\"splitname\"].isna(), \"splitname\"] = mpcorb[~mpcorb[\"splitname\"].isna()][\"splitname\"].map(lambda x: x.lstrip('\\(').rstrip('\\)'))\n",
    "mpcorb.loc[(~mpcorb[\"readableDesignation\"].str.contains(\"\\(\")) \n",
    "           & (mpcorb[\"readableDesignation\"].str.contains(\" \")), \"splitname\"] = mpcorb[(~mpcorb[\"readableDesignation\"].str.contains(\"\\(\")) \n",
    "                                                                                      & (mpcorb[\"readableDesignation\"].str.contains(\" \"))][\"readableDesignation\"].str.replace(\" \", \"\")"
   ]
  },
  {
   "cell_type": "code",
   "execution_count": 24,
   "metadata": {},
   "outputs": [],
   "source": [
    "observations = observations.merge(mpcorb[[\"designation\", \"splitname\"]], left_on=\"ssnamenr\", right_on=\"splitname\", how='left')"
   ]
  },
  {
   "cell_type": "code",
   "execution_count": 25,
   "metadata": {},
   "outputs": [
    {
     "data": {
      "text/plain": [
       "117121"
      ]
     },
     "execution_count": 25,
     "metadata": {},
     "output_type": "execute_result"
    }
   ],
   "source": [
    "observations[\"ssnamenr\"].nunique()"
   ]
  },
  {
   "cell_type": "code",
   "execution_count": 26,
   "metadata": {},
   "outputs": [
    {
     "data": {
      "text/plain": [
       "115694"
      ]
     },
     "execution_count": 26,
     "metadata": {},
     "output_type": "execute_result"
    }
   ],
   "source": [
    "observations[\"designation\"].nunique()"
   ]
  },
  {
   "cell_type": "code",
   "execution_count": 27,
   "metadata": {},
   "outputs": [
    {
     "data": {
      "text/html": [
       "<div>\n",
       "<style scoped>\n",
       "    .dataframe tbody tr th:only-of-type {\n",
       "        vertical-align: middle;\n",
       "    }\n",
       "\n",
       "    .dataframe tbody tr th {\n",
       "        vertical-align: top;\n",
       "    }\n",
       "\n",
       "    .dataframe thead th {\n",
       "        text-align: right;\n",
       "    }\n",
       "</style>\n",
       "<table border=\"1\" class=\"dataframe\">\n",
       "  <thead>\n",
       "    <tr style=\"text-align: right;\">\n",
       "      <th></th>\n",
       "      <th>ra</th>\n",
       "      <th>decl</th>\n",
       "      <th>field</th>\n",
       "      <th>nid</th>\n",
       "      <th>jd</th>\n",
       "      <th>exp_mjd</th>\n",
       "      <th>magpsf</th>\n",
       "      <th>sigmapsf</th>\n",
       "      <th>fid</th>\n",
       "      <th>ssnamenr</th>\n",
       "      <th>fieldRA_deg</th>\n",
       "      <th>fieldDec_deg</th>\n",
       "      <th>visit_id</th>\n",
       "      <th>mjd</th>\n",
       "      <th>HEclObsy_X_au</th>\n",
       "      <th>HEclObsy_Y_au</th>\n",
       "      <th>HEclObsy_Z_au</th>\n",
       "      <th>obs_id</th>\n",
       "      <th>designation</th>\n",
       "      <th>splitname</th>\n",
       "    </tr>\n",
       "  </thead>\n",
       "  <tbody>\n",
       "    <tr>\n",
       "      <th>0</th>\n",
       "      <td>1.823979</td>\n",
       "      <td>-26.530899</td>\n",
       "      <td>245</td>\n",
       "      <td>606</td>\n",
       "      <td>2.458361e+06</td>\n",
       "      <td>58360.399954</td>\n",
       "      <td>17.1856</td>\n",
       "      <td>0.050869</td>\n",
       "      <td>1</td>\n",
       "      <td>277529</td>\n",
       "      <td>1.16039</td>\n",
       "      <td>-24.25</td>\n",
       "      <td>1</td>\n",
       "      <td>58360.399954</td>\n",
       "      <td>0.927519</td>\n",
       "      <td>-0.399013</td>\n",
       "      <td>0.000036</td>\n",
       "      <td>1</td>\n",
       "      <td>R7529</td>\n",
       "      <td>277529</td>\n",
       "    </tr>\n",
       "    <tr>\n",
       "      <th>1</th>\n",
       "      <td>3.424106</td>\n",
       "      <td>-24.019268</td>\n",
       "      <td>245</td>\n",
       "      <td>606</td>\n",
       "      <td>2.458361e+06</td>\n",
       "      <td>58360.399954</td>\n",
       "      <td>18.4710</td>\n",
       "      <td>0.132737</td>\n",
       "      <td>1</td>\n",
       "      <td>186910</td>\n",
       "      <td>1.16039</td>\n",
       "      <td>-24.25</td>\n",
       "      <td>1</td>\n",
       "      <td>58360.399954</td>\n",
       "      <td>0.927519</td>\n",
       "      <td>-0.399013</td>\n",
       "      <td>0.000036</td>\n",
       "      <td>2</td>\n",
       "      <td>I6910</td>\n",
       "      <td>186910</td>\n",
       "    </tr>\n",
       "    <tr>\n",
       "      <th>2</th>\n",
       "      <td>359.714370</td>\n",
       "      <td>-26.833669</td>\n",
       "      <td>245</td>\n",
       "      <td>606</td>\n",
       "      <td>2.458361e+06</td>\n",
       "      <td>58360.399954</td>\n",
       "      <td>19.0730</td>\n",
       "      <td>0.178199</td>\n",
       "      <td>1</td>\n",
       "      <td>110784</td>\n",
       "      <td>1.16039</td>\n",
       "      <td>-24.25</td>\n",
       "      <td>1</td>\n",
       "      <td>58360.399954</td>\n",
       "      <td>0.927519</td>\n",
       "      <td>-0.399013</td>\n",
       "      <td>0.000036</td>\n",
       "      <td>3</td>\n",
       "      <td>B0784</td>\n",
       "      <td>110784</td>\n",
       "    </tr>\n",
       "    <tr>\n",
       "      <th>3</th>\n",
       "      <td>0.686068</td>\n",
       "      <td>-27.268204</td>\n",
       "      <td>245</td>\n",
       "      <td>606</td>\n",
       "      <td>2.458361e+06</td>\n",
       "      <td>58360.399954</td>\n",
       "      <td>18.6833</td>\n",
       "      <td>0.213605</td>\n",
       "      <td>1</td>\n",
       "      <td>54291</td>\n",
       "      <td>1.16039</td>\n",
       "      <td>-24.25</td>\n",
       "      <td>1</td>\n",
       "      <td>58360.399954</td>\n",
       "      <td>0.927519</td>\n",
       "      <td>-0.399013</td>\n",
       "      <td>0.000036</td>\n",
       "      <td>4</td>\n",
       "      <td>54291</td>\n",
       "      <td>54291</td>\n",
       "    </tr>\n",
       "    <tr>\n",
       "      <th>4</th>\n",
       "      <td>3.047707</td>\n",
       "      <td>-24.621212</td>\n",
       "      <td>245</td>\n",
       "      <td>606</td>\n",
       "      <td>2.458361e+06</td>\n",
       "      <td>58360.399954</td>\n",
       "      <td>19.1278</td>\n",
       "      <td>0.212181</td>\n",
       "      <td>1</td>\n",
       "      <td>215529</td>\n",
       "      <td>1.16039</td>\n",
       "      <td>-24.25</td>\n",
       "      <td>1</td>\n",
       "      <td>58360.399954</td>\n",
       "      <td>0.927519</td>\n",
       "      <td>-0.399013</td>\n",
       "      <td>0.000036</td>\n",
       "      <td>5</td>\n",
       "      <td>L5529</td>\n",
       "      <td>215529</td>\n",
       "    </tr>\n",
       "  </tbody>\n",
       "</table>\n",
       "</div>"
      ],
      "text/plain": [
       "           ra       decl  field  nid            jd       exp_mjd   magpsf  \\\n",
       "0    1.823979 -26.530899    245  606  2.458361e+06  58360.399954  17.1856   \n",
       "1    3.424106 -24.019268    245  606  2.458361e+06  58360.399954  18.4710   \n",
       "2  359.714370 -26.833669    245  606  2.458361e+06  58360.399954  19.0730   \n",
       "3    0.686068 -27.268204    245  606  2.458361e+06  58360.399954  18.6833   \n",
       "4    3.047707 -24.621212    245  606  2.458361e+06  58360.399954  19.1278   \n",
       "\n",
       "   sigmapsf  fid ssnamenr  fieldRA_deg  fieldDec_deg  visit_id           mjd  \\\n",
       "0  0.050869    1   277529      1.16039        -24.25         1  58360.399954   \n",
       "1  0.132737    1   186910      1.16039        -24.25         1  58360.399954   \n",
       "2  0.178199    1   110784      1.16039        -24.25         1  58360.399954   \n",
       "3  0.213605    1    54291      1.16039        -24.25         1  58360.399954   \n",
       "4  0.212181    1   215529      1.16039        -24.25         1  58360.399954   \n",
       "\n",
       "   HEclObsy_X_au  HEclObsy_Y_au  HEclObsy_Z_au  obs_id designation splitname  \n",
       "0       0.927519      -0.399013       0.000036       1       R7529    277529  \n",
       "1       0.927519      -0.399013       0.000036       2       I6910    186910  \n",
       "2       0.927519      -0.399013       0.000036       3       B0784    110784  \n",
       "3       0.927519      -0.399013       0.000036       4       54291     54291  \n",
       "4       0.927519      -0.399013       0.000036       5       L5529    215529  "
      ]
     },
     "execution_count": 27,
     "metadata": {},
     "output_type": "execute_result"
    }
   ],
   "source": [
    "observations.head()"
   ]
  },
  {
   "cell_type": "code",
   "execution_count": 28,
   "metadata": {},
   "outputs": [],
   "source": [
    "observations.to_csv(\"../analysis/ztf/known_object_observations.txt\", sep=\" \", index=False)"
   ]
  },
  {
   "cell_type": "code",
   "execution_count": 29,
   "metadata": {},
   "outputs": [],
   "source": [
    "observations = pd.read_csv(\"../analysis/ztf/known_object_observations.txt\", sep=\" \", index_col=False)"
   ]
  },
  {
   "cell_type": "code",
   "execution_count": 40,
   "metadata": {},
   "outputs": [],
   "source": [
    "! oorb --task=mpcorb --mpcorb=../analysis/ztf/MPCORB_20181106.DAT --orb-out=../analysis/ztf/MPCORB_20181106.orb --conf=../analysis/ztf/oorb.conf"
   ]
  },
  {
   "cell_type": "code",
   "execution_count": 31,
   "metadata": {},
   "outputs": [
    {
     "data": {
      "text/plain": [
       "<matplotlib.collections.LineCollection at 0x7fa1b7ed99b0>"
      ]
     },
     "execution_count": 31,
     "metadata": {},
     "output_type": "execute_result"
    },
    {
     "data": {
      "image/png": "[encoded data removed]",
      "text/plain": [
       "<Figure size 432x288 with 1 Axes>"
      ]
     },
     "metadata": {
      "needs_background": "light"
     },
     "output_type": "display_data"
    }
   ],
   "source": [
    "fig, ax = plt.subplots(1, 1) \n",
    "hist = ax.hist(observations[\"nid\"].values, bins=100)\n",
    "ax.set_xlabel(\"Night ID\")\n",
    "ax.set_ylabel(\"Number of Observations\")\n",
    "ax.vlines([610, 624], 0, 60000)"
   ]
  },
  {
   "cell_type": "code",
   "execution_count": 32,
   "metadata": {},
   "outputs": [],
   "source": [
    "observations = observations[(observations[\"nid\"] >= 610) & (observations[\"nid\"] <= 624)]"
   ]
  },
  {
   "cell_type": "code",
   "execution_count": 33,
   "metadata": {},
   "outputs": [],
   "source": [
    "observations.to_csv(\"../analysis/ztf/known_object_observations_nid_610_624.txt\", sep=\" \", index=False)"
   ]
  },
  {
   "cell_type": "code",
   "execution_count": 34,
   "metadata": {},
   "outputs": [],
   "source": [
    "observations = pd.read_csv(\"../analysis/ztf/known_object_observations_nid_610_624.txt\", sep=\" \", index_col=False)"
   ]
  },
  {
   "cell_type": "code",
   "execution_count": 35,
   "metadata": {},
   "outputs": [],
   "source": [
    "observations.sort_values(by=\"mjd\", inplace=True)"
   ]
  },
  {
   "cell_type": "code",
   "execution_count": 36,
   "metadata": {},
   "outputs": [
    {
     "data": {
      "text/plain": [
       "58364.13048609997"
      ]
     },
     "execution_count": 36,
     "metadata": {},
     "output_type": "execute_result"
    }
   ],
   "source": [
    "observations[\"mjd\"].min()"
   ]
  },
  {
   "cell_type": "code",
   "execution_count": 62,
   "metadata": {},
   "outputs": [
    {
     "data": {
      "image/png": "[encoded data removed]",
      "text/plain": [
       "<Figure size 3600x2400 with 1 Axes>"
      ]
     },
     "metadata": {
      "needs_background": "light"
     },
     "output_type": "display_data"
    }
   ],
   "source": [
    "fig, ax = thor.plotObservations(observations, columnMapping=columnMapping, usePlotly=False)"
   ]
  },
  {
   "cell_type": "code",
   "execution_count": 42,
   "metadata": {},
   "outputs": [],
   "source": [
    "! oorb --task=propagation --orb-in=../analysis/ztf/MPCORB_20181106.orb --epoch-mjd-utc=58364.13048609997 --orb-out=../analysis/ztf/MPCORB_20181106_ZTF.orb --conf=/epyc/opt/oorb/main/oorb.conf "
   ]
  },
  {
   "cell_type": "code",
   "execution_count": 63,
   "metadata": {},
   "outputs": [
    {
     "name": "stdout",
     "output_type": "stream",
     "text": [
      "***ERROR***  9 Nov 2018 19:25:49UTC (Orbit / getKeplerianElements) Orbit is (almost) circular.\n",
      "   1.5775714866029889E-016\n",
      "***ERROR***  9 Nov 2018 19:25:49UTC (Orbit / getElements) TRACE BACK\n",
      "***ERROR***  9 Nov 2018 19:25:49UTC (io / writeOpenOrbOrbitFile) TRACE BACK (5)\n",
      "***ERROR***  9 Nov 2018 19:25:49UTC (oorb / propagation) Unable to propagate orbit for J97R13L\n"
     ]
    }
   ],
   "source": [
    "# We also want keplerian elements\n",
    "! oorb --task=propagation --orb-in=../analysis/ztf/MPCORB_20181106.orb --epoch-mjd-utc=58364.13048609997 --orb-out=../analysis/ztf/MPCORB_20181106_ZTF_keplerian.orb --conf=../analysis/ztf/oorb.conf "
   ]
  },
  {
   "cell_type": "code",
   "execution_count": 43,
   "metadata": {},
   "outputs": [],
   "source": [
    "! oorb --task=ephemeris --code=I41 --orb-in=../analysis/ztf/MPCORB_20181106_ZTF.orb --conf=../analysis/ztf/oorb.conf > ../analysis/ztf/MPCORB_20181106_ZTF.eph"
   ]
  },
  {
   "cell_type": "code",
   "execution_count": 45,
   "metadata": {},
   "outputs": [],
   "source": [
    "simulated = thor.readEPHFile(\"../analysis/ztf/MPCORB_20181106_ZTF.eph\")"
   ]
  },
  {
   "cell_type": "code",
   "execution_count": 50,
   "metadata": {},
   "outputs": [],
   "source": [
    "simulated[simulated[\"designation\"].isin(observations[\"designation\"].unique())].to_csv(\"../analysis/ztf/known_object_observations_nid_610_624.eph\", sep=\" \", index=False)"
   ]
  },
  {
   "cell_type": "code",
   "execution_count": 65,
   "metadata": {},
   "outputs": [],
   "source": [
    "orbits = thor.readORBFile(\"../analysis/ztf/MPCORB_20181106_ZTF_keplerian.orb\")"
   ]
  },
  {
   "cell_type": "code",
   "execution_count": 66,
   "metadata": {},
   "outputs": [],
   "source": [
    "orbits[orbits[\"designation\"].isin(observations[\"designation\"].unique())].to_csv(\"../analysis/ztf/known_object_observations_nid_610_624.orb\", sep=\" \", index=False)"
   ]
  },
  {
   "cell_type": "code",
   "execution_count": null,
   "metadata": {},
   "outputs": [],
   "source": []
  },
  {
   "cell_type": "code",
   "execution_count": 72,
   "metadata": {},
   "outputs": [
    {
     "name": "stdout",
     "output_type": "stream",
     "text": [
      "4966353\n"
     ]
    }
   ],
   "source": [
    "# Read alerts for solar system objects from after the photometry fix \n",
    "sso_alert_fix_date1 = Time('2018-05-16T23:30:00', format='isot', scale='utc') # first attribution fix\n",
    "sso_alert_fix_date2 = Time('2018-06-08T23:30:00', format='isot', scale='utc') # second attribution fix\n",
    "sso_alert_phot_fix_date = Time('2018-06-18T23:30:00', format='isot', scale='utc') # photometry fix date\n",
    "\n",
    "jd_good = sso_alert_phot_fix_date.jd\n",
    "#ssdistnr >= 0 \n",
    "df = pd.read_sql_query('select * from alerts where jd > {} and nid >= 610 and nid <= 624'.format(jd_good), con)\n",
    "print(len(df))"
   ]
  },
  {
   "cell_type": "code",
   "execution_count": 73,
   "metadata": {},
   "outputs": [],
   "source": [
    "df.sort_values(by=[\"jd\"], inplace=True)\n",
    "df.reset_index(inplace=True)"
   ]
  },
  {
   "cell_type": "code",
   "execution_count": 74,
   "metadata": {},
   "outputs": [
    {
     "data": {
      "text/html": [
       "<div>\n",
       "<style scoped>\n",
       "    .dataframe tbody tr th:only-of-type {\n",
       "        vertical-align: middle;\n",
       "    }\n",
       "\n",
       "    .dataframe tbody tr th {\n",
       "        vertical-align: top;\n",
       "    }\n",
       "\n",
       "    .dataframe thead th {\n",
       "        text-align: right;\n",
       "    }\n",
       "</style>\n",
       "<table border=\"1\" class=\"dataframe\">\n",
       "  <thead>\n",
       "    <tr style=\"text-align: right;\">\n",
       "      <th></th>\n",
       "      <th>index</th>\n",
       "      <th>objectId</th>\n",
       "      <th>jd</th>\n",
       "      <th>fid</th>\n",
       "      <th>pid</th>\n",
       "      <th>diffmaglim</th>\n",
       "      <th>programid</th>\n",
       "      <th>candid</th>\n",
       "      <th>isdiffpos</th>\n",
       "      <th>tblid</th>\n",
       "      <th>...</th>\n",
       "      <th>clrcounc</th>\n",
       "      <th>zpclrcov</th>\n",
       "      <th>zpmed</th>\n",
       "      <th>clrmed</th>\n",
       "      <th>clrrms</th>\n",
       "      <th>neargaia</th>\n",
       "      <th>neargaiabright</th>\n",
       "      <th>maggaia</th>\n",
       "      <th>maggaiabright</th>\n",
       "      <th>exptime</th>\n",
       "    </tr>\n",
       "  </thead>\n",
       "  <tbody>\n",
       "    <tr>\n",
       "      <th>0</th>\n",
       "      <td>88437</td>\n",
       "      <td>ZTF18abdsqbl</td>\n",
       "      <td>2.458365e+06</td>\n",
       "      <td>2</td>\n",
       "      <td>610130484415</td>\n",
       "      <td>19.2443</td>\n",
       "      <td>1</td>\n",
       "      <td>610130484415010015</td>\n",
       "      <td>f</td>\n",
       "      <td>15</td>\n",
       "      <td>...</td>\n",
       "      <td>0.000005</td>\n",
       "      <td>-0.000004</td>\n",
       "      <td>26.328</td>\n",
       "      <td>0.916</td>\n",
       "      <td>0.197519</td>\n",
       "      <td>0.261128</td>\n",
       "      <td>0.261128</td>\n",
       "      <td>12.4554</td>\n",
       "      <td>12.4554</td>\n",
       "      <td>None</td>\n",
       "    </tr>\n",
       "    <tr>\n",
       "      <th>1</th>\n",
       "      <td>91863</td>\n",
       "      <td>ZTF18abdysxo</td>\n",
       "      <td>2.458365e+06</td>\n",
       "      <td>2</td>\n",
       "      <td>610130481215</td>\n",
       "      <td>19.1212</td>\n",
       "      <td>1</td>\n",
       "      <td>610130481215010012</td>\n",
       "      <td>f</td>\n",
       "      <td>12</td>\n",
       "      <td>...</td>\n",
       "      <td>0.000027</td>\n",
       "      <td>-0.000018</td>\n",
       "      <td>26.184</td>\n",
       "      <td>0.647</td>\n",
       "      <td>0.149188</td>\n",
       "      <td>0.461806</td>\n",
       "      <td>0.461806</td>\n",
       "      <td>12.8894</td>\n",
       "      <td>12.8894</td>\n",
       "      <td>None</td>\n",
       "    </tr>\n",
       "    <tr>\n",
       "      <th>2</th>\n",
       "      <td>91864</td>\n",
       "      <td>ZTF18abdytdq</td>\n",
       "      <td>2.458365e+06</td>\n",
       "      <td>2</td>\n",
       "      <td>610130481215</td>\n",
       "      <td>19.1212</td>\n",
       "      <td>1</td>\n",
       "      <td>610130481215010007</td>\n",
       "      <td>f</td>\n",
       "      <td>7</td>\n",
       "      <td>...</td>\n",
       "      <td>0.000027</td>\n",
       "      <td>-0.000018</td>\n",
       "      <td>26.184</td>\n",
       "      <td>0.647</td>\n",
       "      <td>0.149188</td>\n",
       "      <td>2.922640</td>\n",
       "      <td>21.994800</td>\n",
       "      <td>17.8857</td>\n",
       "      <td>13.5448</td>\n",
       "      <td>None</td>\n",
       "    </tr>\n",
       "    <tr>\n",
       "      <th>3</th>\n",
       "      <td>91865</td>\n",
       "      <td>ZTF18abslvpe</td>\n",
       "      <td>2.458365e+06</td>\n",
       "      <td>2</td>\n",
       "      <td>610130481215</td>\n",
       "      <td>19.1212</td>\n",
       "      <td>1</td>\n",
       "      <td>610130481215015021</td>\n",
       "      <td>t</td>\n",
       "      <td>21</td>\n",
       "      <td>...</td>\n",
       "      <td>0.000027</td>\n",
       "      <td>-0.000018</td>\n",
       "      <td>26.184</td>\n",
       "      <td>0.647</td>\n",
       "      <td>0.149188</td>\n",
       "      <td>0.208710</td>\n",
       "      <td>50.003000</td>\n",
       "      <td>15.6539</td>\n",
       "      <td>12.0464</td>\n",
       "      <td>None</td>\n",
       "    </tr>\n",
       "    <tr>\n",
       "      <th>4</th>\n",
       "      <td>91866</td>\n",
       "      <td>ZTF18ablqnbj</td>\n",
       "      <td>2.458365e+06</td>\n",
       "      <td>2</td>\n",
       "      <td>610130483515</td>\n",
       "      <td>19.3369</td>\n",
       "      <td>1</td>\n",
       "      <td>610130483515015051</td>\n",
       "      <td>t</td>\n",
       "      <td>51</td>\n",
       "      <td>...</td>\n",
       "      <td>0.000014</td>\n",
       "      <td>-0.000019</td>\n",
       "      <td>26.338</td>\n",
       "      <td>1.375</td>\n",
       "      <td>0.253690</td>\n",
       "      <td>9.445520</td>\n",
       "      <td>35.285700</td>\n",
       "      <td>19.1802</td>\n",
       "      <td>13.5749</td>\n",
       "      <td>None</td>\n",
       "    </tr>\n",
       "    <tr>\n",
       "      <th>5</th>\n",
       "      <td>91867</td>\n",
       "      <td>ZTF18abnhsiu</td>\n",
       "      <td>2.458365e+06</td>\n",
       "      <td>2</td>\n",
       "      <td>610130483515</td>\n",
       "      <td>19.3369</td>\n",
       "      <td>1</td>\n",
       "      <td>610130483515010018</td>\n",
       "      <td>f</td>\n",
       "      <td>18</td>\n",
       "      <td>...</td>\n",
       "      <td>0.000014</td>\n",
       "      <td>-0.000019</td>\n",
       "      <td>26.338</td>\n",
       "      <td>1.375</td>\n",
       "      <td>0.253690</td>\n",
       "      <td>4.518850</td>\n",
       "      <td>-999.000000</td>\n",
       "      <td>18.6073</td>\n",
       "      <td>-999.0000</td>\n",
       "      <td>None</td>\n",
       "    </tr>\n",
       "    <tr>\n",
       "      <th>6</th>\n",
       "      <td>91868</td>\n",
       "      <td>ZTF18abndtqt</td>\n",
       "      <td>2.458365e+06</td>\n",
       "      <td>2</td>\n",
       "      <td>610130483515</td>\n",
       "      <td>19.3369</td>\n",
       "      <td>1</td>\n",
       "      <td>610130483515010016</td>\n",
       "      <td>f</td>\n",
       "      <td>16</td>\n",
       "      <td>...</td>\n",
       "      <td>0.000014</td>\n",
       "      <td>-0.000019</td>\n",
       "      <td>26.338</td>\n",
       "      <td>1.375</td>\n",
       "      <td>0.253690</td>\n",
       "      <td>5.396270</td>\n",
       "      <td>54.464400</td>\n",
       "      <td>20.0860</td>\n",
       "      <td>13.4593</td>\n",
       "      <td>None</td>\n",
       "    </tr>\n",
       "    <tr>\n",
       "      <th>7</th>\n",
       "      <td>91869</td>\n",
       "      <td>ZTF18abnhjji</td>\n",
       "      <td>2.458365e+06</td>\n",
       "      <td>2</td>\n",
       "      <td>610130483515</td>\n",
       "      <td>19.3369</td>\n",
       "      <td>1</td>\n",
       "      <td>610130483515015057</td>\n",
       "      <td>t</td>\n",
       "      <td>57</td>\n",
       "      <td>...</td>\n",
       "      <td>0.000014</td>\n",
       "      <td>-0.000019</td>\n",
       "      <td>26.338</td>\n",
       "      <td>1.375</td>\n",
       "      <td>0.253690</td>\n",
       "      <td>0.368035</td>\n",
       "      <td>-999.000000</td>\n",
       "      <td>14.0504</td>\n",
       "      <td>-999.0000</td>\n",
       "      <td>None</td>\n",
       "    </tr>\n",
       "    <tr>\n",
       "      <th>8</th>\n",
       "      <td>91870</td>\n",
       "      <td>ZTF18ablqnba</td>\n",
       "      <td>2.458365e+06</td>\n",
       "      <td>2</td>\n",
       "      <td>610130483515</td>\n",
       "      <td>19.3369</td>\n",
       "      <td>1</td>\n",
       "      <td>610130483515015056</td>\n",
       "      <td>t</td>\n",
       "      <td>56</td>\n",
       "      <td>...</td>\n",
       "      <td>0.000014</td>\n",
       "      <td>-0.000019</td>\n",
       "      <td>26.338</td>\n",
       "      <td>1.375</td>\n",
       "      <td>0.253690</td>\n",
       "      <td>3.422410</td>\n",
       "      <td>79.013800</td>\n",
       "      <td>19.4796</td>\n",
       "      <td>13.9131</td>\n",
       "      <td>None</td>\n",
       "    </tr>\n",
       "    <tr>\n",
       "      <th>9</th>\n",
       "      <td>91871</td>\n",
       "      <td>ZTF18abslvpy</td>\n",
       "      <td>2.458365e+06</td>\n",
       "      <td>2</td>\n",
       "      <td>610130483515</td>\n",
       "      <td>19.3369</td>\n",
       "      <td>1</td>\n",
       "      <td>610130483515015069</td>\n",
       "      <td>t</td>\n",
       "      <td>69</td>\n",
       "      <td>...</td>\n",
       "      <td>0.000014</td>\n",
       "      <td>-0.000019</td>\n",
       "      <td>26.338</td>\n",
       "      <td>1.375</td>\n",
       "      <td>0.253690</td>\n",
       "      <td>3.191420</td>\n",
       "      <td>13.708500</td>\n",
       "      <td>18.4593</td>\n",
       "      <td>13.1039</td>\n",
       "      <td>None</td>\n",
       "    </tr>\n",
       "  </tbody>\n",
       "</table>\n",
       "<p>10 rows × 101 columns</p>\n",
       "</div>"
      ],
      "text/plain": [
       "   index      objectId            jd  fid           pid  diffmaglim  \\\n",
       "0  88437  ZTF18abdsqbl  2.458365e+06    2  610130484415     19.2443   \n",
       "1  91863  ZTF18abdysxo  2.458365e+06    2  610130481215     19.1212   \n",
       "2  91864  ZTF18abdytdq  2.458365e+06    2  610130481215     19.1212   \n",
       "3  91865  ZTF18abslvpe  2.458365e+06    2  610130481215     19.1212   \n",
       "4  91866  ZTF18ablqnbj  2.458365e+06    2  610130483515     19.3369   \n",
       "5  91867  ZTF18abnhsiu  2.458365e+06    2  610130483515     19.3369   \n",
       "6  91868  ZTF18abndtqt  2.458365e+06    2  610130483515     19.3369   \n",
       "7  91869  ZTF18abnhjji  2.458365e+06    2  610130483515     19.3369   \n",
       "8  91870  ZTF18ablqnba  2.458365e+06    2  610130483515     19.3369   \n",
       "9  91871  ZTF18abslvpy  2.458365e+06    2  610130483515     19.3369   \n",
       "\n",
       "   programid              candid isdiffpos  tblid   ...     clrcounc  \\\n",
       "0          1  610130484415010015         f     15   ...     0.000005   \n",
       "1          1  610130481215010012         f     12   ...     0.000027   \n",
       "2          1  610130481215010007         f      7   ...     0.000027   \n",
       "3          1  610130481215015021         t     21   ...     0.000027   \n",
       "4          1  610130483515015051         t     51   ...     0.000014   \n",
       "5          1  610130483515010018         f     18   ...     0.000014   \n",
       "6          1  610130483515010016         f     16   ...     0.000014   \n",
       "7          1  610130483515015057         t     57   ...     0.000014   \n",
       "8          1  610130483515015056         t     56   ...     0.000014   \n",
       "9          1  610130483515015069         t     69   ...     0.000014   \n",
       "\n",
       "   zpclrcov   zpmed  clrmed    clrrms  neargaia  neargaiabright  maggaia  \\\n",
       "0 -0.000004  26.328   0.916  0.197519  0.261128        0.261128  12.4554   \n",
       "1 -0.000018  26.184   0.647  0.149188  0.461806        0.461806  12.8894   \n",
       "2 -0.000018  26.184   0.647  0.149188  2.922640       21.994800  17.8857   \n",
       "3 -0.000018  26.184   0.647  0.149188  0.208710       50.003000  15.6539   \n",
       "4 -0.000019  26.338   1.375  0.253690  9.445520       35.285700  19.1802   \n",
       "5 -0.000019  26.338   1.375  0.253690  4.518850     -999.000000  18.6073   \n",
       "6 -0.000019  26.338   1.375  0.253690  5.396270       54.464400  20.0860   \n",
       "7 -0.000019  26.338   1.375  0.253690  0.368035     -999.000000  14.0504   \n",
       "8 -0.000019  26.338   1.375  0.253690  3.422410       79.013800  19.4796   \n",
       "9 -0.000019  26.338   1.375  0.253690  3.191420       13.708500  18.4593   \n",
       "\n",
       "   maggaiabright  exptime  \n",
       "0        12.4554     None  \n",
       "1        12.8894     None  \n",
       "2        13.5448     None  \n",
       "3        12.0464     None  \n",
       "4        13.5749     None  \n",
       "5      -999.0000     None  \n",
       "6        13.4593     None  \n",
       "7      -999.0000     None  \n",
       "8        13.9131     None  \n",
       "9        13.1039     None  \n",
       "\n",
       "[10 rows x 101 columns]"
      ]
     },
     "execution_count": 74,
     "metadata": {},
     "output_type": "execute_result"
    }
   ],
   "source": [
    "df.head(10)"
   ]
  },
  {
   "cell_type": "code",
   "execution_count": 85,
   "metadata": {},
   "outputs": [],
   "source": [
    "observations = prepareZTFAlertsForTHOR(df)\n",
    "del df"
   ]
  },
  {
   "cell_type": "code",
   "execution_count": 86,
   "metadata": {},
   "outputs": [],
   "source": [
    "observations.to_csv(\"../analysis/ztf/observations_nid_610_624.txt\", sep=\" \", index=False)"
   ]
  },
  {
   "cell_type": "code",
   "execution_count": 87,
   "metadata": {},
   "outputs": [
    {
     "data": {
      "text/plain": [
       "64944"
      ]
     },
     "execution_count": 87,
     "metadata": {},
     "output_type": "execute_result"
    }
   ],
   "source": [
    "# Unique solar system objects in ZTF alerts\n",
    "observations[\"ssnamenr\"].nunique()"
   ]
  },
  {
   "cell_type": "code",
   "execution_count": 88,
   "metadata": {},
   "outputs": [
    {
     "data": {
      "text/plain": [
       "array(['113706', '44222', '463424', '265734', '93026', '36501', '89492',\n",
       "       '87450', '350949', '58405', '115322', '197220', '142510', '411428',\n",
       "       '57520', '286019', '419814', '33244', '164979', '72677'],\n",
       "      dtype=object)"
      ]
     },
     "execution_count": 88,
     "metadata": {},
     "output_type": "execute_result"
    }
   ],
   "source": [
    "# Multiple formats for ssnamenr field in alerts db\n",
    "np.random.choice(observations[observations[\"ssnamenr\"].str.isnumeric()][\"ssnamenr\"].values, 20)"
   ]
  },
  {
   "cell_type": "code",
   "execution_count": 89,
   "metadata": {},
   "outputs": [
    {
     "data": {
      "text/plain": [
       "array(['', '', '', '', '', '', '', '', '', '', '', '', '', '', '', '', '',\n",
       "       '', '', ''], dtype=object)"
      ]
     },
     "execution_count": 89,
     "metadata": {},
     "output_type": "execute_result"
    }
   ],
   "source": [
    "np.random.choice(observations[~observations[\"ssnamenr\"].str.isnumeric()][\"ssnamenr\"].values, 20)"
   ]
  },
  {
   "cell_type": "code",
   "execution_count": 90,
   "metadata": {},
   "outputs": [],
   "source": [
    "mpcorb = thor.readMPCORBFile(\"../analysis/ztf/MPCORB_20181106.DAT\")\n",
    "# Drop two NaN rows... (population split)\n",
    "mpcorb.drop(index=mpcorb[mpcorb[\"designation\"].isna()].index, inplace=True)"
   ]
  },
  {
   "cell_type": "code",
   "execution_count": 91,
   "metadata": {},
   "outputs": [
    {
     "data": {
      "text/plain": [
       "array(['30311', '33127', '53019', '94354', '97207', '50729', '93658',\n",
       "       '75037', '92117', '74993', '57847', '80042', '35438', '26381',\n",
       "       '28486', '70584', '57673', '62581', '79041', '96574'], dtype=object)"
      ]
     },
     "execution_count": 91,
     "metadata": {},
     "output_type": "execute_result"
    }
   ],
   "source": [
    "np.random.choice(mpcorb[mpcorb[\"designation\"].str.isnumeric()][\"designation\"].values, 20)"
   ]
  },
  {
   "cell_type": "code",
   "execution_count": 92,
   "metadata": {},
   "outputs": [
    {
     "data": {
      "text/plain": [
       "array(['m9480', 'S7372', 'R2623', 'e2544', 'K14ON2R', 'R6605', 'K06B69M',\n",
       "       'H1314', 'h5975', 'K11U88A', 'K12D37M', 'K15L33A', 'K16T80G',\n",
       "       'a1184', 'Z4023', 'K13Q51V', 'K18S14R', 'p8772', 'K15FY9X',\n",
       "       'F3936'], dtype=object)"
      ]
     },
     "execution_count": 92,
     "metadata": {},
     "output_type": "execute_result"
    }
   ],
   "source": [
    "np.random.choice(mpcorb[~mpcorb[\"designation\"].str.isnumeric()][\"designation\"].values, 20)"
   ]
  },
  {
   "cell_type": "code",
   "execution_count": 93,
   "metadata": {},
   "outputs": [
    {
     "data": {
      "text/plain": [
       "array([], dtype=object)"
      ]
     },
     "execution_count": 93,
     "metadata": {},
     "output_type": "execute_result"
    }
   ],
   "source": [
    "mpcorb[mpcorb[\"readableDesignation\"].str.isnumeric()][\"readableDesignation\"].values"
   ]
  },
  {
   "cell_type": "code",
   "execution_count": 94,
   "metadata": {},
   "outputs": [
    {
     "data": {
      "text/plain": [
       "array(['2010 GB72', '2013 WE68', '2012 TX222', '(219638) 2001 UB65',\n",
       "       '2013 AW151', '(348421) 2005 NB65', '(437534) 2013 YM115',\n",
       "       '(8679) Tingstade', '(266789) 2009 SC268', '(95171) 2002 AT188',\n",
       "       '(455317) 2002 HA13', '(334212) 2001 SF319', '(514356) 2016 QB9',\n",
       "       '(501619) 2014 SQ96', '(493687) 2015 SD17', '(436583) 2011 HW100',\n",
       "       '2013 AX150', '(389131) 2009 AW1', '(279273) 2009 WF1',\n",
       "       '2015 UQ15'], dtype=object)"
      ]
     },
     "execution_count": 94,
     "metadata": {},
     "output_type": "execute_result"
    }
   ],
   "source": [
    "np.random.choice(mpcorb[~mpcorb[\"readableDesignation\"].str.isnumeric()][\"readableDesignation\"].values, 20)"
   ]
  },
  {
   "cell_type": "code",
   "execution_count": 95,
   "metadata": {},
   "outputs": [],
   "source": [
    "# Do pandas magic... \n",
    "split_readable_designation = mpcorb[\"readableDesignation\"].str.split(\" \", expand=True)\n",
    "mpcorb.loc[split_readable_designation[0].str.contains(\"\\(\"), \"splitname\"] = split_readable_designation[0]\n",
    "mpcorb.loc[~mpcorb[\"splitname\"].isna(), \"splitname\"] = mpcorb[~mpcorb[\"splitname\"].isna()][\"splitname\"].map(lambda x: x.lstrip('\\(').rstrip('\\)'))\n",
    "mpcorb.loc[(~mpcorb[\"readableDesignation\"].str.contains(\"\\(\")) \n",
    "           & (mpcorb[\"readableDesignation\"].str.contains(\" \")), \"splitname\"] = mpcorb[(~mpcorb[\"readableDesignation\"].str.contains(\"\\(\")) \n",
    "                                                                                      & (mpcorb[\"readableDesignation\"].str.contains(\" \"))][\"readableDesignation\"].str.replace(\" \", \"\")"
   ]
  },
  {
   "cell_type": "code",
   "execution_count": 101,
   "metadata": {},
   "outputs": [],
   "source": [
    "observations = observations.merge(mpcorb[[\"designation\", \"splitname\"]], left_on=\"ssnamenr\", right_on=\"splitname\", how='left')"
   ]
  },
  {
   "cell_type": "code",
   "execution_count": 102,
   "metadata": {},
   "outputs": [
    {
     "data": {
      "text/plain": [
       "64944"
      ]
     },
     "execution_count": 102,
     "metadata": {},
     "output_type": "execute_result"
    }
   ],
   "source": [
    "observations[\"ssnamenr\"].nunique()"
   ]
  },
  {
   "cell_type": "code",
   "execution_count": 103,
   "metadata": {},
   "outputs": [
    {
     "data": {
      "text/plain": [
       "64313"
      ]
     },
     "execution_count": 103,
     "metadata": {},
     "output_type": "execute_result"
    }
   ],
   "source": [
    "observations[\"designation\"].nunique()"
   ]
  },
  {
   "cell_type": "code",
   "execution_count": 105,
   "metadata": {},
   "outputs": [],
   "source": [
    "observations.to_csv(\"../analysis/ztf/observations_nid_610_624.txt\", sep=\" \", index=False)"
   ]
  },
  {
   "cell_type": "code",
   "execution_count": null,
   "metadata": {},
   "outputs": [],
   "source": []
  },
  {
   "cell_type": "code",
   "execution_count": null,
   "metadata": {},
   "outputs": [],
   "source": []
  }
 ],
 "metadata": {
  "kernelspec": {
   "display_name": "Python 3 (THOR)",
   "language": "python",
   "name": "python3-moeyensj-thor"
  },
  "language_info": {
   "codemirror_mode": {
    "name": "ipython",
    "version": 3
   },
   "file_extension": ".py",
   "mimetype": "text/x-python",
   "name": "python",
   "nbconvert_exporter": "python",
   "pygments_lexer": "ipython3",
   "version": "3.6.6"
  }
 },
 "nbformat": 4,
 "nbformat_minor": 2
}
